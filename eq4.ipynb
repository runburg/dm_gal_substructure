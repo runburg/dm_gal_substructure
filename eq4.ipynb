{
 "cells": [
  {
   "cell_type": "code",
   "execution_count": 15,
   "metadata": {},
   "outputs": [
    {
     "data": {
      "text/html": [
       "<style>.container { width:100% !important; }</style>"
      ],
      "text/plain": [
       "<IPython.core.display.HTML object>"
      ]
     },
     "metadata": {},
     "output_type": "display_data"
    }
   ],
   "source": [
    "import camb\n",
    "import matplotlib.pyplot as plt\n",
    "import numpy as np\n",
    "from scipy import integrate, stats\n",
    "from mpmath import quad, npdf\n",
    "import mpmath as mp\n",
    "import matplotlib.cm as cm\n",
    "mp.dps = 30\n",
    "\n",
    "from IPython.core.display import display, HTML\n",
    "display(HTML(\"<style>.container { width:100% !important; }</style>\"))"
   ]
  },
  {
   "cell_type": "code",
   "execution_count": 33,
   "metadata": {},
   "outputs": [],
   "source": [
    "def gaussian_mean(M, r, a=77.4, b=0.87, c=-0.23, fsusy=1):\n",
    "    \"\"\"Return mean of conditional luminosity distribution.\n",
    "    \n",
    "    Inputs:\n",
    "        - M: mass of subhalo [solar masses]\n",
    "        - r: distance from galactic center [kpc]\n",
    "        - a: coefficient for first term [default=77.4]\n",
    "        - b: coefficient for second term [default=0.97]\n",
    "        - c: coefficient for third term [default=-0.23]\n",
    "        - fsusy: value of fsusy [default=1e-28 [cm**3 s**-1 GeV**-2]]\n",
    "        \n",
    "    Returns:\n",
    "        - mean of the gaussian distribution\n",
    "    \"\"\"\n",
    "    return a + b * mp.log(M / 1e5) + c * mp.log(r / 50) + mp.log(fsusy)\n",
    "\n",
    "\n",
    "def gaussian_sd(M, r, a=0.74, b=-0.003, c=-0.011):\n",
    "    \"\"\"Return the sd of the conditional luminosity function.\n",
    "    \n",
    "    Inputs:\n",
    "        - M: mass of subhalo [solar masses]\n",
    "        - r: distance from galactic center [kpc]\n",
    "        - a: coefficient for first term [default=0.74]\n",
    "        - b: coefficient for second term [default=-0.003]\n",
    "        - c: coefficient for third term [default=-0.011]\n",
    "    \n",
    "    Returns:\n",
    "        - sd of gaussian\n",
    "    \"\"\"\n",
    "    return a + b * mp.log(M / 1e5) + c * mp.log(r / 50)\n",
    "\n",
    "\n",
    "def conditional_luminosity_function(L, M, r):\n",
    "    \"\"\"Gives the value of the conditional luminosity function.\n",
    "    \n",
    "    Inputs:\n",
    "        - L: natural log of lumionsity of the subhalo\n",
    "        - M: mass of the subhalo [solar masses]\n",
    "        - r: galactocentric radius of the subhalo [kpc]\n",
    "        \n",
    "    Returns:\n",
    "        - value of the clf\n",
    "    \"\"\"\n",
    "    mean = gaussian_mean(M, r)\n",
    "    sigma = gaussian_sd(M, r)\n",
    "    \n",
    "#     return 1/(sigma * np.sqrt(2*np.pi)) * np.exp(-((L-mean)/2*sigma)**2)\n",
    "#     return stats.norm.pdf(L, mean, sigma)\n",
    "    return npdf(L, mean, sigma)\n",
    "\n",
    "\n",
    "def mass_distribution(M, r, A=1.2e4, beta=1.9, rs=21):\n",
    "    \"\"\"Return the mass distribution value.\n",
    "    \n",
    "    Inputs:\n",
    "        - M: mass of the subhalo [solar masses]\n",
    "        - r: galactocentric radius of the subhalo [kpc]\n",
    "        - A: amplitude [default=1.2e4 [solar mass**-1 kpc**-3]]\n",
    "        - beta: strength of dependence on mass [default value=1.9]\n",
    "        - rs: scale radius of Milky Way [default value=21 [kpc]]\n",
    "        \n",
    "    Returns:\n",
    "        - value of mass distribution\n",
    "    \"\"\"\n",
    "    r_tilde = r / rs\n",
    "    \n",
    "    return A * M**(-beta) / (r_tilde * (1 + r_tilde)**2)\n",
    "\n",
    "\n",
    "def p1(F, psi, R_G=220, M_min=0.01, M_max=1e10, d_solar=8.5):\n",
    "    \"\"\"Return the value of the probability distribution of one subhalo.\n",
    "    \n",
    "    Inputs:\n",
    "        - F: flux of subhalo [photons/beam/year]\n",
    "        - psi: angle from galactic center [degrees]\n",
    "        - R_G: extent of dm halo [default value=220 [kpc]]\n",
    "        - M_min: lower limit on mass integral [default=0.01 [solar masses]]\n",
    "        - M_max: upper limit on mass integral [default=1e10 [solar masses]]\n",
    "        - d_solar: galactocentric distance of sun [default=8.5 [kpc]]\n",
    "        \n",
    "    Returns:\n",
    "        - value of probability of one subhalo for a given flux and angle\n",
    "    \"\"\"\n",
    "    # Get upper bound for l integral\n",
    "    psi_rad = psi * np.pi / 180\n",
    "    l_max = d_solar * (mp.cos(psi_rad) + mp.sqrt(-np.sin(psi_rad)**2 + (R_G/d_solar)**2))\n",
    "    \n",
    "    # Convert years to seconds\n",
    "    yrs_to_seconds = 3.154e7\n",
    "    \n",
    "    # Convert cm to kpc\n",
    "    kpc_to_cm = 3.086e21\n",
    "\n",
    "    integrand = lambda l, M: l**4 * mass_distribution(M, (r := mp.sqrt(l**2 + d_solar**2 - 2*l*d_solar*mp.cos(psi_rad)))) * conditional_luminosity_function(mp.log(L:= (4 * np.pi * l**2 * F / yrs_to_seconds / 2000 * kpc_to_cm**2)), M, r)/L\n",
    "    \n",
    "#     def intergra(M, l):\n",
    "#         r = np.sqrt(l**2 + d_solar**2 - 2*l*d_solar*np.cos(psi_rad))\n",
    "#         return l**4 * mass_distribution(M, r) * conditional_luminosity_function(np.log(4 * np.pi * l**2 * F / yrs_to_seconds * kpc_to_cm**2), M, r)\n",
    "    \n",
    "#     x = np.linspace(0.000000001, l_max, num=10000)\n",
    "#     y = np.logspace(np.log10(M_min), np.log10(M_max), num=10000)\n",
    "#     int_exp2d = np.trapz(np.trapz(intergra(y[:,np.newaxis],x[:,np.newaxis,np.newaxis]), y, axis=0), x, axis=0)\n",
    "    \n",
    "#     return int_exp2d\n",
    "\n",
    "    return quad(integrand, [0, l_max], [M_min, M_max], maxdegree=10)"
   ]
  },
  {
   "cell_type": "code",
   "execution_count": 34,
   "metadata": {
    "scrolled": false
   },
   "outputs": [
    {
     "data": {
      "text/plain": [
       "mpf('4.4167261462555701e-26')"
      ]
     },
     "execution_count": 34,
     "metadata": {},
     "output_type": "execute_result"
    }
   ],
   "source": [
    "flux = 1e-6\n",
    "flux * p1(flux, 40)"
   ]
  },
  {
   "cell_type": "code",
   "execution_count": 11,
   "metadata": {},
   "outputs": [],
   "source": [
    "def gaussian_mean(M, r, a=77.4, b=0.87, c=-0.23, fsusy=1):\n",
    "    \"\"\"Return mean of conditional luminosity distribution.\n",
    "    \n",
    "    Inputs:\n",
    "        - M: mass of subhalo [solar masses]\n",
    "        - r: distance from galactic center [kpc]\n",
    "        - a: coefficient for first term [default=77.4]\n",
    "        - b: coefficient for second term [default=0.97]\n",
    "        - c: coefficient for third term [default=-0.23]\n",
    "        - fsusy: value of fsusy [default=1e-28 [cm**3 s**-1 GeV**-2]]\n",
    "        \n",
    "    Returns:\n",
    "        - mean of the gaussian distribution\n",
    "    \"\"\"\n",
    "    return a + b * np.log(M / 1e5) + c * np.log(r / 50) #+ np.log(fsusy)\n",
    "\n",
    "\n",
    "def gaussian_sd(M, r, a=0.74, b=-0.003, c=-0.011):\n",
    "    \"\"\"Return the sd of the conditional luminosity function.\n",
    "    \n",
    "    Inputs:\n",
    "        - M: mass of subhalo [solar masses]\n",
    "        - r: distance from galactic center [kpc]\n",
    "        - a: coefficient for first term [default=0.74]\n",
    "        - b: coefficient for second term [default=-0.003]\n",
    "        - c: coefficient for third term [default=-0.011]\n",
    "    \n",
    "    Returns:\n",
    "        - sd of gaussian\n",
    "    \"\"\"\n",
    "    return a + b * np.log(M / 1e5) + c * np.log(r / 50)\n",
    "\n",
    "\n",
    "def conditional_luminosity_function(lnL, M, r, mean_params={}, sd_params={}):\n",
    "    \"\"\"Gives the value of the conditional luminosity function.\n",
    "    \n",
    "    Inputs:\n",
    "        - lnL: natural log of lumionsity of the subhalo\n",
    "        - M: mass of the subhalo [solar masses]\n",
    "        - r: galactocentric radius of the subhalo [kpc]\n",
    "        \n",
    "    Returns:\n",
    "        - value of the clf\n",
    "    \"\"\"\n",
    "    if len(mean_params) > 0:\n",
    "        mean = gaussian_mean(M, r, **mean_params)\n",
    "    else:\n",
    "        mean = gaussian_mean(M, r)\n",
    "\n",
    "    if len(sd_params) > 0:\n",
    "        sigma = gaussian_sd(M, r, **sd_params)\n",
    "    else:\n",
    "        sigma = gaussian_sd(M, r)\n",
    "    \n",
    "#     return 1/(sigma * np.sqrt(2*np.pi)) * np.exp(-((lnL-mean)/sigma)**2/2)\n",
    "    return stats.norm.pdf(lnL, mean, sigma)\n",
    "\n",
    "\n",
    "def mass_distribution(M, r, A=1.2e4, beta=1.9, rs=21):\n",
    "    \"\"\"Return the mass distribution value.\n",
    "    \n",
    "    Inputs:\n",
    "        - M: mass of the subhalo [solar masses]\n",
    "        - r: galactocentric radius of the subhalo [kpc]\n",
    "        - A: amplitude [default=1.2e4 [solar mass**-1 kpc**-3]]\n",
    "        - beta: strength of dependence on mass [default value=1.9]\n",
    "        - rs: scale radius of Milky Way [default value=21 [kpc]]\n",
    "        \n",
    "    Returns:\n",
    "        - value of mass distribution\n",
    "    \"\"\"\n",
    "    r_tilde = r / rs\n",
    "    \n",
    "    return A * M**(-beta) / (r_tilde * (1 + r_tilde)**2)\n",
    "\n",
    "\n",
    "def p1(F, psi, R_G=220, M_min=0.01, M_max=1e10, d_solar=8.5, mean_params={}, sd_params={}):\n",
    "    \"\"\"Return the value of the probability distribution of one subhalo.\n",
    "    \n",
    "    Inputs:\n",
    "        - F: flux of subhalo [photons/beam/year]\n",
    "        - psi: angle from galactic center [degrees]\n",
    "        - R_G: extent of dm halo [default value=220 [kpc]]\n",
    "        - M_min: lower limit on mass integral [default=0.01 [solar masses]]\n",
    "        - M_max: upper limit on mass integral [default=1e10 [solar masses]]\n",
    "        - d_solar: galactocentric distance of sun [default=8.5 [kpc]]\n",
    "        \n",
    "    Returns:\n",
    "        - value of probability of one subhalo for a given flux and angle\n",
    "    \"\"\"\n",
    "    # Get upper bound for l integral\n",
    "    psi_rad = np.deg2rad(psi)\n",
    "    l_max = d_solar * (np.cos(psi_rad) + np.sqrt(-(np.sin(psi_rad)**2) + (R_G/d_solar)**2))\n",
    "    \n",
    "    # Convert years to seconds\n",
    "    seconds_in_a_year = 3.154e7\n",
    "    \n",
    "    # Convert cm to kpc\n",
    "    cm_in_a_kpc = 3.086e21\n",
    "\n",
    "\n",
    "#     integrand = lambda l, M: l**4 * mass_distribution(M, (r := mp.sqrt(l**2 + d_solar**2 - 2*l*d_solar*mp.cos(psi_rad)))) * conditional_luminosity_function(mp.log(4 * np.pi * l**2 * F / yrs_to_seconds * kpc_to_cm**2), M, r)\n",
    "    \n",
    "    def intergra(M, l):\n",
    "        # Luminosity\n",
    "        Lsh = 4 * np.pi * l**2 * F / seconds_in_a_year / 2000 * cm_in_a_kpc**2\n",
    "        \n",
    "        # radius form GC\n",
    "        r = np.sqrt(l**2 + d_solar**2 - 2*l*d_solar*np.cos(psi_rad))\n",
    "        \n",
    "        return l**4 * mass_distribution(M, r) / Lsh * conditional_luminosity_function(np.log(Lsh), M, r, mean_params=mean_params, sd_params=sd_params)\n",
    "    \n",
    "    num = 100\n",
    "    lvals = np.linspace(1e-10, l_max, num=num)\n",
    "    mvals = np.logspace(np.log10(M_min), np.log10(M_max), num=num)\n",
    "#     int_exp2d = np.trapz(np.trapz(intergra(y[:,np.newaxis,np.newaxis],x[:,np.newaxis]), y, axis=0), x, axis=0)\n",
    "    int_exp2d = integrate.simps(integrate.simps(intergra(mvals[:,np.newaxis,np.newaxis],lvals[:,np.newaxis]), mvals, axis=0), lvals, axis=0)\n",
    "    \n",
    "    return int_exp2d\n",
    "\n",
    "#     return quad(integrand, [0, l_max], [M_min, M_max])"
   ]
  },
  {
   "cell_type": "code",
   "execution_count": 12,
   "metadata": {},
   "outputs": [
    {
     "data": {
      "text/plain": [
       "array([5.03262181e-26])"
      ]
     },
     "execution_count": 12,
     "metadata": {},
     "output_type": "execute_result"
    }
   ],
   "source": [
    "flux = 1e-6\n",
    "flux * p1(flux, 40, M_max=1e10)"
   ]
  },
  {
   "cell_type": "code",
   "execution_count": 26,
   "metadata": {},
   "outputs": [
    {
     "data": {
      "text/plain": [
       "<matplotlib.legend.Legend at 0x1247e4130>"
      ]
     },
     "execution_count": 26,
     "metadata": {},
     "output_type": "execute_result"
    },
    {
     "data": {
      "image/png": "[encoded data removed]",
      "text/plain": [
       "<Figure size 432x288 with 1 Axes>"
      ]
     },
     "metadata": {
      "needs_background": "light"
     },
     "output_type": "display_data"
    }
   ],
   "source": [
    "plt.close()\n",
    "\n",
    "fig, ax = plt.subplots()\n",
    "n_list = [-1, 0, 2, 4]\n",
    "n_labels = {-1:\"Som. enh.\", 0: r\"$s$-wave\", 2:r\"$p$-wave\", 4:r\"$d$-wave\"}\n",
    "colors = iter(cm.plasma(np.linspace(0.1, 1, num=len(n_list))))\n",
    "\n",
    "for n in n_list:\n",
    "    mean_params = {'a':77.4, 'b':0.87+0.31*n, 'c':-0.23-0.04*n}\n",
    "    fluxes = np.logspace(-20, 0, num=50)\n",
    "    probs = p1(fluxes, 40, mean_params=mean_params)\n",
    "    # probs = [p1(flux, 40) for flux in fluxes]\n",
    "    normalization = np.trapz(probs, fluxes)\n",
    "\n",
    "    ax.plot(fluxes, fluxes*probs/normalization, label=n_labels[n], color=next(colors))\n",
    "\n",
    "ax.set_xscale('log')\n",
    "ax.set_xlabel('Flux [photons/beam/yr]')\n",
    "ax.set_ylabel('Flux x Probability')\n",
    "ax.set_yscale('log')\n",
    "ax.set_ylim(bottom=1e-4, top=3)\n",
    "ax.set_xlim(left=1e-20, right=8e-2)\n",
    "\n",
    "ax.set_title(r\"Probability distribution for $M_{min}=0.01 M_\\odot$, $\\Psi=40^\\circ$\")\n",
    "\n",
    "# fluxes = np.logspace(-15, -3, num=25)\n",
    "# # probs = p1(fluxes, 40, M_min=1e-6)\n",
    "# probs = [p1(flux, 40, M_min=1e-6) for flux in fluxes]\n",
    "# normalization = np.trapz(probs, fluxes)\n",
    "# ax.plot(fluxes, fluxes*probs/normalization, label=r\"$M_{min}=10^{-6} M_\\odot$\", color=\"xkcd:robin's egg blue\")\n",
    "\n",
    "ax.legend(loc='upper left')"
   ]
  },
  {
   "cell_type": "code",
   "execution_count": 27,
   "metadata": {},
   "outputs": [],
   "source": [
    "fig.savefig('eq4_w_vel_dep.png')"
   ]
  },
  {
   "cell_type": "code",
   "execution_count": null,
   "metadata": {},
   "outputs": [],
   "source": []
  }
 ],
 "metadata": {
  "kernelspec": {
   "display_name": "Python 3",
   "language": "python",
   "name": "python3"
  },
  "language_info": {
   "codemirror_mode": {
    "name": "ipython",
    "version": 3
   },
   "file_extension": ".py",
   "mimetype": "text/x-python",
   "name": "python",
   "nbconvert_exporter": "python",
   "pygments_lexer": "ipython3",
   "version": "3.8.2"
  }
 },
 "nbformat": 4,
 "nbformat_minor": 2
}
