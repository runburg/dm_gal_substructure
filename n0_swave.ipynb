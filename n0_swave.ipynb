{
 "cells": [
  {
   "cell_type": "code",
   "execution_count": 10,
   "metadata": {},
   "outputs": [
    {
     "data": {
      "text/html": [
       "<style>.container { width:100% !important; }</style>"
      ],
      "text/plain": [
       "<IPython.core.display.HTML object>"
      ]
     },
     "metadata": {},
     "output_type": "display_data"
    },
    {
     "data": {
      "text/plain": [
       "'/Users/runburg/github/dm_gal_substructure'"
      ]
     },
     "execution_count": 10,
     "metadata": {},
     "output_type": "execute_result"
    }
   ],
   "source": [
    "import sys\n",
    "\n",
    "sys.path.append('./source/')\n",
    "import matplotlib.pyplot as plt\n",
    "import numpy as np\n",
    "from scipy import integrate, stats\n",
    "import scipy\n",
    "\n",
    "import matplotlib.cm as cm\n",
    "from numpy import fft\n",
    "from scipy.interpolate import interp1d\n",
    "from scipy import interpolate as intp\n",
    "import importlib\n",
    "import json\n",
    "\n",
    "from source import plots\n",
    "from source import prob_dists as pd\n",
    "import pyfftlog as pfl\n",
    "\n",
    "from IPython.core.display import display, HTML\n",
    "display(HTML(\"<style>.container { width:100% !important; }</style>\"))\n",
    "%pwd"
   ]
  },
  {
   "cell_type": "code",
   "execution_count": 11,
   "metadata": {},
   "outputs": [],
   "source": [
    "# n = 0\n",
    "# importlib.reload(pd)\n",
    "# importlib.reload(plots)\n",
    "# params = {'R_G': 220, # Kpc\n",
    "#           'd_solar': 8.5, # kpc\n",
    "#           'psi': 40,\n",
    "#           'M_min': 1.0e-2, # Msun\n",
    "#           'M_max': 1.0e10, # Msun\n",
    "#           'fwimp': 1.0,\n",
    "#           'mean_params': {'a':77.4, 'b':0.87+0.31*n, 'c':-0.23-0.04*n},\n",
    "#           'nside': 128,\n",
    "#           'area_fermi': 2000.0, # cm^2\n",
    "#           'n': n,\n",
    "#           'log_flux_min': -15, # log10 photons/cm^2/yr\n",
    "#           'log_flux_max': -5, # log10 photons/cm^2/yr\n",
    "#           'N': 1000,\n",
    "#           'log_k_min': -3,\n",
    "# #           'log_k_min': 2,\n",
    "#           'log_k_max': 6,\n",
    "# #           'log_k_max': 6.5,\n",
    "#           'N_k': 250000,\n",
    "#           'psh_log_f_min': -5,\n",
    "# #           'psh_log_f_min': -4.5,\n",
    "# #           'psh_log_f_max': -4.7,\n",
    "#           'psh_log_f_max': -3.5,\n",
    "#           'N_psh': 500\n",
    "#          }\n",
    "\n",
    "# params['omega_pixel'] = 4.*np.pi/(12*params['nside']**2.) # sr\n",
    "# p = params\n",
    "# json.dump(p, open('source/n0.params', 'w'), indent=0)"
   ]
  },
  {
   "cell_type": "code",
   "execution_count": 12,
   "metadata": {},
   "outputs": [
    {
     "data": {
      "text/plain": [
       "{'R_G': 220,\n",
       " 'd_solar': 8.5,\n",
       " 'psi': 40,\n",
       " 'M_min': 0.01,\n",
       " 'M_max': 10000000000.0,\n",
       " 'fwimp': 1.7896346444957159,\n",
       " 'mean_params': {'a': 77.4, 'b': 0.87, 'c': -0.23},\n",
       " 'nside': 128,\n",
       " 'area_fermi': 2000.0,\n",
       " 'n': 0,\n",
       " 'log_flux_min': -15,\n",
       " 'log_flux_max': -5,\n",
       " 'N': 2000,\n",
       " 'log_k_min': -3,\n",
       " 'log_k_max': 6,\n",
       " 'N_k': 250000,\n",
       " 'psh_log_f_min': -6,\n",
       " 'psh_log_f_max': -3.0,\n",
       " 'N_psh': 1000,\n",
       " 'omega_pixel': 6.391586616190171e-05,\n",
       " 'exposure': 5570.423008216337,\n",
       " 'iso_flux_bg': 0.0008939106670451649,\n",
       " 'gal_flux_bg_file': './output/gal_flux_bg.npy',\n",
       " 'bg': 1,\n",
       " 'beg': 1,\n",
       " 'beta': 1.9}"
      ]
     },
     "execution_count": 12,
     "metadata": {},
     "output_type": "execute_result"
    }
   ],
   "source": [
    "p = json.load(open('source/n0.params', 'r'))\n",
    "p"
   ]
  },
  {
   "cell_type": "code",
   "execution_count": 71,
   "metadata": {},
   "outputs": [
    {
     "name": "stdout",
     "output_type": "stream",
     "text": [
      "beta is 1.9\n"
     ]
    }
   ],
   "source": [
    "fluxes = np.logspace(p['log_flux_min'], p['log_flux_max'], num=p['N']*2)\n",
    "p1_vals = pd.p1(fluxes, **p)\n",
    "# fig, _ = plots.check_fp1_plot(fluxes, p1_vals)\n",
    "t = fluxes\n",
    "a_t = p1_vals\n",
    "a_t = np.sin(np.log(fluxes))"
   ]
  },
  {
   "cell_type": "code",
   "execution_count": 75,
   "metadata": {},
   "outputs": [
    {
     "name": "stdout",
     "output_type": "stream",
     "text": [
      "Central point of periodic interval at log10(t_c) = -10.0\n"
     ]
    }
   ],
   "source": [
    "# Range of periodic interval\n",
    "logtmin = p['log_flux_min']\n",
    "# logtmax = 0.798 #2pi\n",
    "# 5(2pi) #Longer range in r gives you a better reconstruction. 10\\pi will give\n",
    "# you a better reconstruction than 2\\pi.\n",
    "logtmax = p['log_flux_max']\n",
    "# Number of points (Max 4096)\n",
    "# 1000 points give you a fairly smooth distribution of af in frequency, f.\n",
    "# However you can get a good, working fit for 300 points as well.\n",
    "n = p['N']*2\n",
    "\n",
    "# Order mu of Bessel function\n",
    "mu = 0.5  # Choose -0.5 for cosine fourier transform\n",
    "\n",
    "# Bias exponent: q = 0 is unbiased\n",
    "# The unbiased transforms give better results as far as I checked.\n",
    "q = 0\n",
    "# Sensible approximate choice of f_c t_c\n",
    "# The output and the reconstruction is sensitive to the choice of this value\n",
    "# This value is found by trial and error. In this example, the input function\n",
    "# is a simple sine function which is not smooth in frequency space (as it\n",
    "# only has one frequency) because of this reason a better value of this\n",
    "# quantity is not found by the function fhti. For functions smooth\n",
    "# in both time and frequency domain, the fhti should return the best\n",
    "# value of the f_c t_c.\n",
    "\n",
    "ft = 0\n",
    "\n",
    "# Tell fhti to change ft to low-ringing value\n",
    "# WARNING: kropt = 3 will fail, as interaction is not supported\n",
    "ftopt = 2\n",
    "\n",
    "# Forward transform (changed from dir to tdir, as dir is a python fct)\n",
    "tdir = 1\n",
    "\n",
    "# Central point log10(t_c) of periodic interval\n",
    "logtc = (logtmin + logtmax)/2\n",
    "\n",
    "print(f\"Central point of periodic interval at log10(t_c) = {logtc}\")\n",
    "\n",
    "# Central index (1/2 integral if n is even)\n",
    "nc = (n + 1)/2.0\n",
    "\n",
    "# Log-spacing of points\n",
    "dlogt = (logtmax - logtmin)/n\n",
    "\n",
    "dlnr = dlogt*np.log(10.0)"
   ]
  },
  {
   "cell_type": "code",
   "execution_count": 76,
   "metadata": {},
   "outputs": [],
   "source": [
    "# logtmin = -15\n",
    "# logtmax = 5\n",
    "# n = 4000\n",
    "# mu = 0.5\n",
    "# q = 0\n",
    "# ft = 0\n",
    "# ftopt = 2\n",
    "# tdir = 1\n",
    "# dlogt = (logtmax - logtmin)/n\n",
    "# dlnr = dlogt*np.log(10.0)\n",
    "# ft, xsave = pfl.fhti(n, mu, dlnr, q, kropt=ftopt)\n",
    "\n",
    "# # original signal\n",
    "# fluxes = np.logspace(logtmin, logtmax, num=n)\n",
    "# a_t = np.sin(np.log(fluxes))\n",
    "\n",
    "# # FT\n",
    "# a_f = pfl.fftl(a_t.copy(), xsave, ft, tdir)\n",
    "\n",
    "# # IFT\n",
    "# a_tt = pfl.fftl(a_f.copy(), xsave, ft, -1)"
   ]
  },
  {
   "cell_type": "code",
   "execution_count": 77,
   "metadata": {},
   "outputs": [
    {
     "name": "stdout",
     "output_type": "stream",
     "text": [
      " kr changed to  1.0019008710373392\n"
     ]
    }
   ],
   "source": [
    "ft, xsave = pfl.fhti(n, mu, dlnr, q, kropt=ftopt)"
   ]
  },
  {
   "cell_type": "code",
   "execution_count": 82,
   "metadata": {},
   "outputs": [
    {
     "data": {
      "image/png": "[encoded data removed]",
      "text/plain": [
       "<Figure size 432x288 with 2 Axes>"
      ]
     },
     "metadata": {
      "needs_background": "light"
     },
     "output_type": "display_data"
    }
   ],
   "source": [
    "logfc = np.log10(ft) - logtc\n",
    "\n",
    "# Fourier sine Transform\n",
    "a_f = pfl.fftl(a_t.copy(), xsave, ft, tdir)\n",
    "# Notice that np.sqrt(2/np.pi) is the normalization factor for the transform\n",
    "# Reconstruct the input function by taking the inverse fourier transform as\n",
    "# given in the description\n",
    "f = 10**(logfc + (np.arange(1, n+1) - nc)*dlogt)\n",
    "# Array to store the reconstructed function for each value of t\n",
    "Recon_Fun = np.zeros((len(t)))\n",
    "for i in range(len(t)):\n",
    "    Recon_Fun[i] = (np.sqrt(2/np.pi)**-1) * \\\n",
    "       scipy.integrate.trapz(f, a_f*np.sin(t[i]*f))\n",
    "\n",
    "\n",
    "a_tt = pfl.fftl(a_f.copy(), xsave, ft, -1)\n",
    "# a_tt = Recon_Fun\n",
    "# Plotting the input function and the reconstructed input function and also\n",
    "# the distribution of the a(f) vs f.\n",
    "plt.figure()\n",
    "\n",
    "ax1 = plt.subplot(121)\n",
    "plt.title(r'FT')\n",
    "plt.xlabel('k')\n",
    "plt.ylabel(r'$a_k(k)$')\n",
    "plt.plot(f, a_f, 'k')\n",
    "plt.xscale('log')\n",
    "\n",
    "ax2 = plt.subplot(122)\n",
    "plt.title('Distribution')\n",
    "plt.xlabel(\"f\")\n",
    "plt.ylabel(\"P(f)\")\n",
    "plt.plot(t, a_t, lw=2, label=r'$P(f)$')\n",
    "plt.plot(t, a_tt, '--', label='Inverse FT')\n",
    "plt.xscale('log')\n",
    "# plt.yscale('log')\n",
    "plt.ylim(bottom=-10, top=10)\n",
    "plt.legend()\n",
    "\n",
    "\n",
    "plt.savefig('./FFTlog_trial.png')\n",
    "# plt.tight_layout()\n",
    "plt.show()"
   ]
  },
  {
   "cell_type": "code",
   "execution_count": null,
   "metadata": {},
   "outputs": [],
   "source": []
  },
  {
   "cell_type": "code",
   "execution_count": null,
   "metadata": {},
   "outputs": [],
   "source": []
  },
  {
   "cell_type": "code",
   "execution_count": null,
   "metadata": {},
   "outputs": [],
   "source": []
  }
 ],
 "metadata": {
  "kernelspec": {
   "display_name": "Python 3",
   "language": "python",
   "name": "python3"
  },
  "language_info": {
   "codemirror_mode": {
    "name": "ipython",
    "version": 3
   },
   "file_extension": ".py",
   "mimetype": "text/x-python",
   "name": "python",
   "nbconvert_exporter": "python",
   "pygments_lexer": "ipython3",
   "version": "3.8.8"
  }
 },
 "nbformat": 4,
 "nbformat_minor": 4
}
