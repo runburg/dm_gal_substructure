{
 "cells": [
  {
   "cell_type": "code",
   "execution_count": 1,
   "metadata": {},
   "outputs": [
    {
     "data": {
      "text/html": [
       "<style>.container { width:100% !important; }</style>"
      ],
      "text/plain": [
       "<IPython.core.display.HTML object>"
      ]
     },
     "metadata": {},
     "output_type": "display_data"
    },
    {
     "data": {
      "text/plain": [
       "'/Users/runburg/github/dm_gal_substructure'"
      ]
     },
     "execution_count": 1,
     "metadata": {},
     "output_type": "execute_result"
    }
   ],
   "source": [
    "import sys\n",
    "\n",
    "sys.path.append('./source/')\n",
    "import matplotlib.pyplot as plt\n",
    "import numpy as np\n",
    "from scipy import integrate, stats\n",
    "import matplotlib.cm as cm\n",
    "from numpy import fft\n",
    "from scipy.interpolate import interp1d\n",
    "import importlib\n",
    "import json\n",
    "\n",
    "from source import plots\n",
    "from source import prob_dists as pd\n",
    "\n",
    "from IPython.core.display import display, HTML\n",
    "display(HTML(\"<style>.container { width:100% !important; }</style>\"))\n",
    "%pwd"
   ]
  },
  {
   "cell_type": "code",
   "execution_count": 2,
   "metadata": {},
   "outputs": [],
   "source": [
    "n = 0\n",
    "importlib.reload(pd)\n",
    "importlib.reload(plots)\n",
    "params = {'R_G': 220, # Kpc\n",
    "          'd_solar': 8.5, # kpc\n",
    "          'psi': 40,\n",
    "          'M_min': 1.0e-2, # Msun\n",
    "          'M_max': 1.0e10, # Msun\n",
    "          'fwimp': 1.0,\n",
    "          'mean_params': {'a':77.4, 'b':0.87+0.31*n, 'c':-0.23-0.04*n},\n",
    "          'nside': 128,\n",
    "          'area_fermi': 2000.0, # cm^2\n",
    "          'n': n,\n",
    "          'log_flux_min': -15, # log10 photons/cm^2/yr\n",
    "          'log_flux_max': -5, # log10 photons/cm^2/yr\n",
    "          'N': 1000,\n",
    "          'log_k_min': -3,\n",
    "#           'log_k_min': 2,\n",
    "          'log_k_max': 6,\n",
    "#           'log_k_max': 6.5,\n",
    "          'N_k': 250000,\n",
    "          'psh_log_f_min': -5,\n",
    "#           'psh_log_f_min': -4.5,\n",
    "#           'psh_log_f_max': -4.7,\n",
    "          'psh_log_f_max': -3.5,\n",
    "          'N_psh': 500\n",
    "         }\n",
    "\n",
    "params['omega_pixel'] = 4.*np.pi/(12*params['nside']**2.) # sr\n",
    "p = params\n",
    "# json.dump(p, open('source/n0.params', 'w'), indent=0)"
   ]
  },
  {
   "cell_type": "code",
   "execution_count": 11,
   "metadata": {},
   "outputs": [
    {
     "data": {
      "text/plain": [
       "{'R_G': 220,\n",
       " 'd_solar': 8.5,\n",
       " 'psi': 40,\n",
       " 'M_min': 100,\n",
       " 'M_max': 10000000000.0,\n",
       " 'fwimp': 1.0,\n",
       " 'mean_params': {'a': 77.4, 'b': 0.87, 'c': -0.23},\n",
       " 'nside': 128,\n",
       " 'area_fermi': 2000.0,\n",
       " 'n': 0,\n",
       " 'log_flux_min': -12,\n",
       " 'log_flux_max': -2,\n",
       " 'N': 7000,\n",
       " 'log_k_min': -6,\n",
       " 'log_k_max': 7,\n",
       " 'N_k': 120000,\n",
       " 'psh_log_f_min': -6,\n",
       " 'psh_log_f_max': -1.7,\n",
       " 'N_psh': 500,\n",
       " 'omega_pixel': 6.391586616190171e-05}"
      ]
     },
     "execution_count": 11,
     "metadata": {},
     "output_type": "execute_result"
    }
   ],
   "source": [
    "p = json.load(open('source/n0.params', 'r'))\n",
    "p"
   ]
  },
  {
   "cell_type": "code",
   "execution_count": 12,
   "metadata": {},
   "outputs": [
    {
     "data": {
      "image/png": "[encoded data removed]",
      "text/plain": [
       "<Figure size 388.8x280.8 with 1 Axes>"
      ]
     },
     "metadata": {
      "needs_background": "light"
     },
     "output_type": "display_data"
    }
   ],
   "source": [
    "fluxes = np.logspace(p['log_flux_min'], p['log_flux_max'], num=p['N'])\n",
    "p1_vals = pd.p1(fluxes, **p)\n",
    "fig, _ = plots.check_fp1_plot(fluxes, p1_vals)"
   ]
  },
  {
   "cell_type": "code",
   "execution_count": null,
   "metadata": {},
   "outputs": [],
   "source": [
    "muu = pd.mu(**p)\n",
    "ft_p1_vals, k = pd.ft_p1(p1_vals, fluxes, **p)\n",
    "fig, _ = plots.check_ft_p1_plot(k, ft_p1_vals)"
   ]
  },
  {
   "cell_type": "code",
   "execution_count": null,
   "metadata": {},
   "outputs": [],
   "source": [
    "print(muu)\n",
    "fig, _ = plots.check_psh_integrand_plot(k, ft_p1_vals, muu)"
   ]
  },
  {
   "cell_type": "code",
   "execution_count": null,
   "metadata": {},
   "outputs": [],
   "source": [
    "print(muu)"
   ]
  },
  {
   "cell_type": "code",
   "execution_count": null,
   "metadata": {},
   "outputs": [],
   "source": [
    "pf_vals, flux = pd.pf(muu, ft_p1_vals, k, **p)"
   ]
  },
  {
   "cell_type": "code",
   "execution_count": null,
   "metadata": {},
   "outputs": [],
   "source": [
    "startl = 10\n",
    "limi = -60\n",
    "fig, _ = plots.check_psh_plot(flux, pf_vals.real, j=[startl, limi])\n",
    "\n",
    "# print(pf_vals)"
   ]
  },
  {
   "cell_type": "code",
   "execution_count": null,
   "metadata": {},
   "outputs": [],
   "source": [
    "print(f'\\mu \\int F P1: {(muu[0] * integrate.simps(fluxes * p1_vals, fluxes))}')\n",
    "print(f' \\int F Psh: {integrate.simps(pf_vals[startl:limi].real * flux[startl:limi], flux[startl:limi])}')\n"
   ]
  },
  {
   "cell_type": "code",
   "execution_count": null,
   "metadata": {},
   "outputs": [],
   "source": [
    "np.trapz(pf_vals[startl:limi].real, flux[startl:limi])"
   ]
  },
  {
   "cell_type": "code",
   "execution_count": null,
   "metadata": {
    "scrolled": true
   },
   "outputs": [],
   "source": [
    "pshvals, fxs = pd.psh(params, plot=False, infer_values=True)"
   ]
  },
  {
   "cell_type": "code",
   "execution_count": null,
   "metadata": {},
   "outputs": [],
   "source": [
    "plt.plot(fxs, fxs * pshvals.real)\n",
    "ax = plt.gca()\n",
    "startl = 0\n",
    "limi = -1\n",
    "ax.set_xscale('log')\n",
    "ax.set_yscale('log')\n",
    "ax.axvline(fxs[startl], color='b')\n",
    "ax.axvline(fxs[limi], color='b')\n",
    "\n",
    "print(f' \\int F Psh: {integrate.simps(pshvals[startl:limi].real * fxs[startl:limi], fxs[startl:limi])}')\n",
    "\n"
   ]
  },
  {
   "cell_type": "code",
   "execution_count": null,
   "metadata": {
    "scrolled": true
   },
   "outputs": [],
   "source": [
    "pshop, fluxes, psis = pd.psh_of_psi(p, num_psi=10, infer_values=True)"
   ]
  },
  {
   "cell_type": "code",
   "execution_count": null,
   "metadata": {},
   "outputs": [],
   "source": [
    "plots.psh_func_psi_plot(pshop, fluxes, psis, outfile='./output/n0_psh_of_psi.png')"
   ]
  },
  {
   "cell_type": "code",
   "execution_count": null,
   "metadata": {},
   "outputs": [],
   "source": [
    "importlib.reload(pd)\n",
    "psh_2dfunc = pd.interp_and_save_psh(p, pshop, fluxes, psis, outfile='./output/n0_pshfunc.npz')"
   ]
  },
  {
   "cell_type": "code",
   "execution_count": null,
   "metadata": {},
   "outputs": [],
   "source": [
    "numnum = 100\n",
    "psis = np.linspace(40, 90, num=numnum)\n",
    "colors = cm.viridis(np.linspace(0, 1, num=numnum))\n",
    "\n",
    "fig, ax = plt.subplots()\n",
    "\n",
    "psh_vals_over_psi = []\n",
    "fxs = flux\n",
    "for psi, col in zip(psis, colors):\n",
    "    ax.plot(fxs, fxs * psh_2dfunc(psi, fxs).flatten(), label=rf\"{psi}$^\\circ$\", color=col, lw=0.5)\n",
    "   \n",
    "ax.set_xscale('log')\n",
    "ax.set_yscale('log')\n",
    "ax.set_xlabel('F')\n",
    "ax.set_ylabel('F x Psh')\n",
    "cbarlabs = np.arange(min(psis), max(psis)+1, step=10)\n",
    "cbar = fig.colorbar(cm.ScalarMappable(cmap=cm.viridis), ticks=np.linspace(0, 1, num=len(cbarlabs)))\n",
    "cbar.set_label(r'$\\psi$[$^\\circ$]', rotation=270)\n",
    "cbar.ax.set_yticklabels(cbarlabs)"
   ]
  },
  {
   "cell_type": "code",
   "execution_count": null,
   "metadata": {},
   "outputs": [],
   "source": [
    "def pc()"
   ]
  }
 ],
 "metadata": {
  "kernelspec": {
   "display_name": "Python 3",
   "language": "python",
   "name": "python3"
  },
  "language_info": {
   "codemirror_mode": {
    "name": "ipython",
    "version": 3
   },
   "file_extension": ".py",
   "mimetype": "text/x-python",
   "name": "python",
   "nbconvert_exporter": "python",
   "pygments_lexer": "ipython3",
   "version": "3.8.2"
  }
 },
 "nbformat": 4,
 "nbformat_minor": 4
}
