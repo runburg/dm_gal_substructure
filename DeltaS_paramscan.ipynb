{
 "cells": [
  {
   "cell_type": "code",
   "execution_count": 1,
   "metadata": {},
   "outputs": [],
   "source": [
    "import sys\n",
    "\n",
    "sys.path.append('./source/')"
   ]
  },
  {
   "cell_type": "code",
   "execution_count": 2,
   "metadata": {},
   "outputs": [],
   "source": [
    "import matplotlib.pyplot as plt\n",
    "import numpy as np\n",
    "from scipy import integrate, stats\n",
    "import matplotlib.cm as cm\n",
    "from numpy import fft\n",
    "from scipy import interpolate as intp\n",
    "import importlib\n",
    "import healpy\n",
    "\n",
    "from source import plots\n",
    "from source import prob_dists as pd\n",
    "from utils import read_param_file, update_params, configure_plot_params\n",
    "\n",
    "configure_plot_params(fontsize=12)"
   ]
  },
  {
   "cell_type": "code",
   "execution_count": 3,
   "metadata": {},
   "outputs": [
    {
     "data": {
      "text/plain": [
       "{'R_G': 220,\n",
       " 'd_solar': 8.5,\n",
       " 'psi': 40,\n",
       " 'M_min': 0.1,\n",
       " 'M_max': 10000000000.0,\n",
       " 'fwimp': 1.78,\n",
       " 'mean_params': {'a': 77.4, 'b': 0.87, 'c': -0.23},\n",
       " 'nside': 128,\n",
       " 'area_fermi': 2000.0,\n",
       " 'n': 0,\n",
       " 'log_flux_min': -16,\n",
       " 'log_flux_max': -2,\n",
       " 'N': 2200,\n",
       " 'log_k_min': -2,\n",
       " 'log_k_max': 10,\n",
       " 'N_k': 250000,\n",
       " 'psh_log_f_min': -7,\n",
       " 'psh_log_f_max': -1.0,\n",
       " 'N_psh': 1000,\n",
       " 'omega_pixel': 6.391586616190171e-05,\n",
       " 'exposure': 5570.423008216337,\n",
       " 'iso_flux_bg': 0.0008615905978150363,\n",
       " 'gal_flux_bg_file': './output/gal_flux_bg.npy',\n",
       " 'bg': 1,\n",
       " 'beg': 1,\n",
       " 'beta': 1.9}"
      ]
     },
     "execution_count": 3,
     "metadata": {},
     "output_type": "execute_result"
    }
   ],
   "source": [
    "param_file = './source/n0.params'\n",
    "params = read_param_file(param_file)\n",
    "p = params\n",
    "\n",
    "# exposure = 5 * 14000 / (4 * np.pi)\n",
    "# p = update_params(param_file, p, 'exposure', exposure)\n",
    "\n",
    "# phipp = 7.12073e-30\n",
    "# fwimp = phipp * 8 * np.pi / 1e-28\n",
    "# # fwimp = 1e-4\n",
    "# p = update_params(param_file, p, 'fwimp', fwimp)\n",
    "\n",
    "# p = update_params(param_file, p, 'bg', 1)\n",
    "# p = update_params(param_file, p, 'beg', 1)\n",
    "\n",
    "# print(exposure, fwimp)\n",
    "p"
   ]
  },
  {
   "cell_type": "code",
   "execution_count": 4,
   "metadata": {},
   "outputs": [],
   "source": [
    "nside = p['nside']\n",
    "npix = healpy.nside2npix(nside)\n",
    "lon, lat = healpy.pix2ang(nside, range(npix), lonlat=True)\n",
    "ang_dists = np.rad2deg(np.arccos(np.cos(np.deg2rad(lon)) * np.cos(np.deg2rad(lat))))\n",
    "good_indices = (abs(lat) >= 40)"
   ]
  },
  {
   "cell_type": "code",
   "execution_count": 5,
   "metadata": {},
   "outputs": [
    {
     "name": "stdout",
     "output_type": "stream",
     "text": [
      "(100, 70144)\n",
      "[1.0005111  1.0005111  1.0005111  ... 1.00051914 1.00051914 1.00051914]\n",
      "[1. 1. 1. ... 1. 1. 1.]\n",
      "[1.00028714 1.00028714 1.00028714 ... 1.00028698 1.00028698 1.00028698]\n",
      "(100, 70144) (100,)\n",
      "[1. 1. 1. ... 1. 1. 1.]\n"
     ]
    }
   ],
   "source": [
    "## S-WAVE\n",
    "s_psh, s_pshfunc2d, s_fluxes, _ = pd.psh_s(ang_dists[good_indices], input_file='./output/n0_pshfunc_paper.npz', return_all=True)\n",
    "s_psh = s_psh[::1]\n",
    "s_fluxes = s_fluxes[::1]\n",
    "print(s_psh.shape)\n",
    "print(np.trapz(s_psh, s_fluxes, axis=0))\n",
    "s_psh /= np.trapz(s_psh, s_fluxes, axis=0)\n",
    "print(np.trapz(s_psh, s_fluxes, axis=0))\n",
    "\n",
    "## SOM\n",
    "som_fwimp_rescale = 10.6404808663\n",
    "# som_fwimp_rescale = 13.333232303696379\n",
    "som_psh, som_pshfunc2d, som_fluxes, _= pd.psh_som(ang_dists[good_indices], input_file='./output/n-1_pshfunc_paper.npz', return_all=True, rescale=som_fwimp_rescale)\n",
    "som_psh = som_psh[::1]\n",
    "som_fluxes = som_fluxes[::1]\n",
    "print(np.trapz(som_psh, som_fluxes, axis=0))\n",
    "som_psh /= np.trapz(som_psh, som_fluxes, axis=0)\n",
    "print(som_psh.shape, som_fluxes.shape)\n",
    "\n",
    "# som_psh /= som_fwimp_rescale\n",
    "# som_fluxes *= som_fwimp_rescale\n",
    "print(np.trapz(som_psh, som_fluxes, axis=0))\n",
    "\n",
    "# print(s_fluxes, som_fluxes)"
   ]
  },
  {
   "cell_type": "code",
   "execution_count": 6,
   "metadata": {},
   "outputs": [],
   "source": [
    "# search parameters\n",
    "exposure_search = [p['exposure']]\n",
    "begs = []\n",
    "fwimps = []"
   ]
  },
  {
   "cell_type": "code",
   "execution_count": 7,
   "metadata": {},
   "outputs": [],
   "source": [
    "def likelihood_run_for_model_2d(p, psh, fluxes, poisson_rescale=1, model='', som_fwimp_rescale=1, s_fwimp_rescale=1, bgd_mismodel=1, bgd_undermodel=1, minimize=False, load_data_file=None):\n",
    "    # run likelihoods\n",
    "    for i, exposure in enumerate(exposure_search):\n",
    "        p['exposure'] = exposure\n",
    "\n",
    "        gal_bg = np.load(p['gal_flux_bg_file'])[good_indices] * p['exposure'] * p['bg']\n",
    "        iso_bg = p['iso_flux_bg'] * p['exposure'] * p['beg']\n",
    "        bg_count = gal_bg * bgd_mismodel + iso_bg\n",
    "\n",
    "        counts = np.arange(0, bg_count.max() + 3.5 * np.sqrt(bg_count.max()) + p['exposure'] * p['fwimp'] * fluxes.max())\n",
    "\n",
    "        print('calculating pc to count =', counts[-1])\n",
    "\n",
    "        unique_ang, uni_ind, uni_inv = np.unique(np.abs(ang_dists[good_indices]), return_inverse=True, return_index=True)\n",
    "        \n",
    "        print('psh mean', np.trapz(fluxes * psh[:, 0], fluxes))\n",
    "\n",
    "        pshdat = psh[:, uni_ind]\n",
    "        psh = pshdat[:, uni_inv]\n",
    "        if model == 's':\n",
    "            spsh = pshdat[:, uni_inv]\n",
    "            sompsh = som_psh\n",
    "        elif model == 'som':\n",
    "            sompsh = pshdat[:, uni_inv]\n",
    "            spsh = s_psh\n",
    "        else:\n",
    "            spsh = s_psh\n",
    "            sompsh = som_psh\n",
    "\n",
    "        if load_data_file is None:\n",
    "            if model == '':\n",
    "                pc_psi = stats.poisson.pmf(counts[np.newaxis, :], np.trapz(psh * fluxes[:, np.newaxis] * p['exposure'] * p['fwimp'], fluxes[:, np.newaxis], axis=0)[:, np.newaxis])\n",
    "            else:\n",
    "                pc_psi = integrate.simps(pshdat[..., np.newaxis] * stats.poisson.pmf(counts[np.newaxis, np.newaxis, :], p['exposure'] * p['fwimp'] * fluxes[:, np.newaxis, np.newaxis]), fluxes, axis=0)\n",
    "                pc_psi /= np.sum(pc_psi, axis=-1)[:, np.newaxis]\n",
    "\n",
    "            print('is pc norm', np.allclose(np.sum(pc_psi, axis=-1), 1))\n",
    "            print('last pc prob', pc_psi[:, -1])\n",
    "\n",
    "            pc_of_psi = pc_psi[uni_inv]\n",
    "\n",
    "            # generate sky map\n",
    "            subcounts = pd.generate_skymap_sample_pc(p, pc_of_psi, ang_dists[good_indices], good_indices, return_subcounts=True, save_output=True, bg_counts=bg_count)\n",
    "\n",
    "            print('generated skymap with', p['fwimp'])\n",
    "            print('max counts', counts[-1], subcounts.max())\n",
    "        else:\n",
    "            subcounts = np.load(load_data_file)[good_indices]\n",
    "            print('loaded skymap from', load_data_file)\n",
    "            print('max counts', counts[-1], subcounts.max())\n",
    "\n",
    "        if minimize is True:\n",
    "            from scipy.optimize import minimize\n",
    "\n",
    "#             indmax = np.unravel_index(np.argmin(s_S, axis=None), s_S.shape)\n",
    "\n",
    "            s_max = minimize(pd.likelihood2d, [exposure_search[0], p['beg'], p['fwimp']], args=(spsh, subcounts.astype(np.int16), s_fluxes, iso_bg, gal_bg*bgd_undermodel), method='Nelder-Mead')\n",
    "#             print('swave\\t', s_max)\n",
    "\n",
    "            som_max = minimize(pd.likelihood2d, [exposure_search[0], p['beg'], p['fwimp']], args=(sompsh, subcounts.astype(np.int16), som_fluxes, iso_bg, gal_bg*bgd_undermodel), method='Nelder-Mead')\n",
    "#             print('som\\t', som_max)\n",
    "\n",
    "            poi_max = minimize(pd.poisson_likelihood2d, [exposure_search[0], p['beg'], p['fwimp']], args=(psh, subcounts.astype(np.int16), fluxes, iso_bg, gal_bg*bgd_undermodel), method='Nelder-Mead')\n",
    "#             print('poi\\t', poi_max)\n",
    "            return [s_max.fun, som_max.fun, poi_max.fun] \n",
    "\n",
    "    return None"
   ]
  },
  {
   "cell_type": "code",
   "execution_count": 8,
   "metadata": {},
   "outputs": [],
   "source": [
    "s_file = './output/nNull_skymap_48061.npy'\n",
    "som_file = './output/n-1_skymap_90168.npy'\n",
    "poi_file = './output/nNull_skymap_36658.npy'\n",
    "# s_file = None\n",
    "# som_file = None\n",
    "# poi_file = None"
   ]
  },
  {
   "cell_type": "code",
   "execution_count": 9,
   "metadata": {},
   "outputs": [
    {
     "name": "stdout",
     "output_type": "stream",
     "text": [
      "calculating pc to count = 94.0\n",
      "psh mean 6.847131703151762e-05\n",
      "loaded skymap from ./output/nNull_skymap_48061.npy\n",
      "max counts 94.0 56.0\n",
      "for s-wave generated data\n",
      "delta S som-s: 71.14946259965654\n",
      "delta S poi-s: 42.64234784204746\n",
      "calculating pc to count = 91.0\n",
      "psh mean 7.384715547535348e-05\n",
      "loaded skymap from ./output/n-1_skymap_90168.npy\n",
      "max counts 91.0 63.0\n",
      "for som-wave generated data\n",
      "delta S s-som: 92.63479357241886\n",
      "delta S poi-som: 49.41937920911005\n",
      "calculating pc to count = 91.0\n",
      "psh mean 7.384715547535348e-05\n",
      "loaded skymap from ./output/nNull_skymap_36658.npy\n",
      "max counts 91.0 60.0\n",
      "for poisson generated data\n",
      "delta S s-poi: 71.88326974149095\n",
      "delta S som-poi: 39.81708630558569\n",
      "\n",
      " for s-wave generated data\n",
      "delta S som-s: 71.14946259965654\n",
      "delta S poi-s: 42.64234784204746\n",
      "\n",
      " for som-wave generated data\n",
      "delta S s-som: 92.63479357241886\n",
      "delta S poi-som: 49.41937920911005\n",
      "\n",
      " for poisson generated data\n",
      "delta S s-poi: 71.88326974149095\n",
      "delta S som-poi: 39.81708630558569\n"
     ]
    }
   ],
   "source": [
    "SS = [[],[],[]]\n",
    "\n",
    "p['n'] = 0\n",
    "SS[0] = likelihood_run_for_model_2d(p, s_psh, s_fluxes, model='s', minimize=True, load_data_file=s_file)\n",
    "print('for s-wave generated data')\n",
    "print('delta S som-s:', SS[0][1] - SS[0][0])\n",
    "print('delta S poi-s:', SS[0][2] - SS[0][0])\n",
    "\n",
    "p['n'] = -1\n",
    "SS[1] = likelihood_run_for_model_2d(p, som_psh, som_fluxes, model='som', minimize=True, load_data_file=som_file)\n",
    "print('for som-wave generated data')\n",
    "print('delta S s-som:', SS[1][0] - SS[1][1])\n",
    "print('delta S poi-som:', SS[1][2] - SS[1][1])\n",
    "\n",
    "p['n'] = 'Null'\n",
    "SS[2] = likelihood_run_for_model_2d(p, som_psh, som_fluxes, model='', minimize=True, load_data_file=poi_file)\n",
    "print('for poisson generated data')\n",
    "print('delta S s-poi:', SS[2][0] - SS[2][2])\n",
    "print('delta S som-poi:', SS[2][1] - SS[2][2])\n",
    "\n",
    "print('\\n for s-wave generated data')\n",
    "print('delta S som-s:', SS[0][1] - SS[0][0])\n",
    "print('delta S poi-s:', SS[0][2] - SS[0][0])\n",
    "print('\\n for som-wave generated data')\n",
    "print('delta S s-som:', SS[1][0] - SS[1][1])\n",
    "print('delta S poi-som:', SS[1][2] - SS[1][1])\n",
    "print('\\n for poisson generated data')\n",
    "print('delta S s-poi:', SS[2][0] - SS[2][2])\n",
    "print('delta S som-poi:', SS[2][1] - SS[2][2])\n"
   ]
  },
  {
   "cell_type": "code",
   "execution_count": 10,
   "metadata": {},
   "outputs": [
    {
     "name": "stdout",
     "output_type": "stream",
     "text": [
      "[[371548.8593609691, 371620.00882356876, 371591.50170881115], [369891.812264947, 369799.17747137457, 369848.5968505837], [371045.91741290287, 371013.85122946696, 370974.0341431614]]\n"
     ]
    }
   ],
   "source": [
    "SS_correct = SS\n",
    "print(SS)"
   ]
  },
  {
   "cell_type": "code",
   "execution_count": 11,
   "metadata": {},
   "outputs": [
    {
     "name": "stdout",
     "output_type": "stream",
     "text": [
      "calculating pc to count = 94.0\n",
      "psh mean 6.847131703151762e-05\n",
      "loaded skymap from ./output/nNull_skymap_48061.npy\n",
      "max counts 94.0 56.0\n",
      "for s-wave generated data\n",
      "delta S som-s: 110.63243094604695\n",
      "delta S poi-s: 87.1426001614891\n",
      "calculating pc to count = 91.0\n",
      "psh mean 7.384715547535348e-05\n",
      "loaded skymap from ./output/n-1_skymap_90168.npy\n",
      "max counts 91.0 63.0\n",
      "for som-wave generated data\n",
      "delta S s-som: 134.86380296153948\n",
      "delta S poi-som: 98.80530873284442\n",
      "calculating pc to count = 91.0\n",
      "psh mean 7.384715547535348e-05\n",
      "loaded skymap from ./output/nNull_skymap_36658.npy\n",
      "max counts 91.0 60.0\n",
      "for poisson generated data\n",
      "delta S s-poi: 70.52817848121049\n",
      "delta S som-poi: 38.46774887916399\n",
      "\n",
      " for s-wave generated data\n",
      "delta S som-s: 110.63243094604695\n",
      "delta S poi-s: 87.1426001614891\n",
      "\n",
      " for som-wave generated data\n",
      "delta S s-som: 134.86380296153948\n",
      "delta S poi-som: 98.80530873284442\n",
      "\n",
      " for poisson generated data\n",
      "delta S s-poi: 70.52817848121049\n",
      "delta S som-poi: 38.46774887916399\n"
     ]
    }
   ],
   "source": [
    "SS = [[],[],[]]\n",
    "\n",
    "p['n'] = 0\n",
    "SS[0] = likelihood_run_for_model_2d(p, s_psh, s_fluxes, model='s', minimize=True, bgd_undermodel=1.03, load_data_file=s_file)\n",
    "print('for s-wave generated data')\n",
    "print('delta S som-s:', SS[0][1] - SS[0][0])\n",
    "print('delta S poi-s:', SS[0][2] - SS[0][0])\n",
    "\n",
    "p['n'] = -1\n",
    "SS[1] = likelihood_run_for_model_2d(p, som_psh, som_fluxes, model='som', minimize=True, bgd_undermodel=1.03, load_data_file=som_file)\n",
    "print('for som-wave generated data')\n",
    "print('delta S s-som:', SS[1][0] - SS[1][1])\n",
    "print('delta S poi-som:', SS[1][2] - SS[1][1])\n",
    "\n",
    "p['n'] = 'Null'\n",
    "SS[2] = likelihood_run_for_model_2d(p, som_psh, som_fluxes, model='', minimize=True, bgd_undermodel=1.03, load_data_file=poi_file)\n",
    "print('for poisson generated data')\n",
    "print('delta S s-poi:', SS[2][0] - SS[2][2])\n",
    "print('delta S som-poi:', SS[2][1] - SS[2][2])\n",
    "\n",
    "print('\\n for s-wave generated data')\n",
    "print('delta S som-s:', SS[0][1] - SS[0][0])\n",
    "print('delta S poi-s:', SS[0][2] - SS[0][0])\n",
    "print('\\n for som-wave generated data')\n",
    "print('delta S s-som:', SS[1][0] - SS[1][1])\n",
    "print('delta S poi-som:', SS[1][2] - SS[1][1])\n",
    "print('\\n for poisson generated data')\n",
    "print('delta S s-poi:', SS[2][0] - SS[2][2])\n",
    "print('delta S som-poi:', SS[2][1] - SS[2][2])\n",
    "\n",
    "SS_overmodel = SS"
   ]
  },
  {
   "cell_type": "code",
   "execution_count": 12,
   "metadata": {},
   "outputs": [
    {
     "name": "stdout",
     "output_type": "stream",
     "text": [
      "calculating pc to count = 94.0\n",
      "psh mean 6.847131703151762e-05\n",
      "loaded skymap from ./output/nNull_skymap_48061.npy\n",
      "max counts 94.0 56.0\n",
      "for s-wave generated data\n",
      "delta S som-s: 35.185261879872996\n",
      "delta S poi-s: 2.5275105320615694\n",
      "calculating pc to count = 91.0\n",
      "psh mean 7.384715547535348e-05\n",
      "loaded skymap from ./output/n-1_skymap_90168.npy\n",
      "max counts 91.0 63.0\n",
      "for som-wave generated data\n",
      "delta S s-som: 59.76093348697759\n",
      "delta S poi-som: 10.330233009299263\n",
      "calculating pc to count = 91.0\n",
      "psh mean 7.384715547535348e-05\n",
      "loaded skymap from ./output/nNull_skymap_36658.npy\n",
      "max counts 91.0 60.0\n",
      "for poisson generated data\n",
      "delta S s-poi: 72.33549139439128\n",
      "delta S som-poi: 40.28287842165446\n",
      "\n",
      " for s-wave generated data\n",
      "delta S som-s: 35.185261879872996\n",
      "delta S poi-s: 2.5275105320615694\n",
      "\n",
      " for som-wave generated data\n",
      "delta S s-som: 59.76093348697759\n",
      "delta S poi-som: 10.330233009299263\n",
      "\n",
      " for poisson generated data\n",
      "delta S s-poi: 72.33549139439128\n",
      "delta S som-poi: 40.28287842165446\n"
     ]
    }
   ],
   "source": [
    "SS = [[],[],[]]\n",
    "\n",
    "p['n'] = 0\n",
    "SS[0] = likelihood_run_for_model_2d(p, s_psh, s_fluxes, model='s', minimize=True, bgd_undermodel=0.97, load_data_file=s_file)\n",
    "print('for s-wave generated data')\n",
    "print('delta S som-s:', SS[0][1] - SS[0][0])\n",
    "print('delta S poi-s:', SS[0][2] - SS[0][0])\n",
    "\n",
    "p['n'] = -1\n",
    "SS[1] = likelihood_run_for_model_2d(p, som_psh, som_fluxes, model='som', minimize=True, bgd_undermodel=0.97, load_data_file=som_file)\n",
    "print('for som-wave generated data')\n",
    "print('delta S s-som:', SS[1][0] - SS[1][1])\n",
    "print('delta S poi-som:', SS[1][2] - SS[1][1])\n",
    "\n",
    "p['n'] = 'Null'\n",
    "SS[2] = likelihood_run_for_model_2d(p, som_psh, som_fluxes, model='', minimize=True, bgd_undermodel=0.97, load_data_file=poi_file)\n",
    "print('for poisson generated data')\n",
    "print('delta S s-poi:', SS[2][0] - SS[2][2])\n",
    "print('delta S som-poi:', SS[2][1] - SS[2][2])\n",
    "\n",
    "print('\\n for s-wave generated data')\n",
    "print('delta S som-s:', SS[0][1] - SS[0][0])\n",
    "print('delta S poi-s:', SS[0][2] - SS[0][0])\n",
    "print('\\n for som-wave generated data')\n",
    "print('delta S s-som:', SS[1][0] - SS[1][1])\n",
    "print('delta S poi-som:', SS[1][2] - SS[1][1])\n",
    "print('\\n for poisson generated data')\n",
    "print('delta S s-poi:', SS[2][0] - SS[2][2])\n",
    "print('delta S som-poi:', SS[2][1] - SS[2][2])\n",
    "\n",
    "SS_undermodel = SS"
   ]
  },
  {
   "cell_type": "code",
   "execution_count": 13,
   "metadata": {},
   "outputs": [
    {
     "data": {
      "text/plain": [
       "[[371590.9213507674, 371626.1066126473, 371593.4488612995],\n",
       " [369929.98433583864, 369870.22340235166, 369880.55363536096],\n",
       " [371149.6112093341, 371117.55859636137, 371077.2757179397]]"
      ]
     },
     "execution_count": 13,
     "metadata": {},
     "output_type": "execute_result"
    }
   ],
   "source": [
    "SS"
   ]
  },
  {
   "cell_type": "code",
   "execution_count": 14,
   "metadata": {},
   "outputs": [
    {
     "data": {
      "text/plain": [
       "array([[ -42.0619898 ,   -6.09778908,   -1.94715249],\n",
       "       [ -38.17207089,  -71.04593098,  -31.95678478],\n",
       "       [-103.69379643, -103.70736689, -103.24157478]])"
      ]
     },
     "execution_count": 14,
     "metadata": {},
     "output_type": "execute_result"
    }
   ],
   "source": [
    "np.array(SS_correct) - np.array(SS)"
   ]
  },
  {
   "cell_type": "code",
   "execution_count": 19,
   "metadata": {},
   "outputs": [
    {
     "data": {
      "text/plain": [
       "array([21.0309949 , 35.52296549, 51.62078739])"
      ]
     },
     "execution_count": 19,
     "metadata": {},
     "output_type": "execute_result"
    }
   ],
   "source": [
    "np.diag( - np.array(SS_correct) + np.array(SS_undermodel))/2"
   ]
  },
  {
   "cell_type": "code",
   "execution_count": 20,
   "metadata": {},
   "outputs": [
    {
     "data": {
      "text/plain": [
       "array([30.92043777, 13.46859619,  2.43739016])"
      ]
     },
     "execution_count": 20,
     "metadata": {},
     "output_type": "execute_result"
    }
   ],
   "source": [
    "\n",
    "np.diag( - np.array(SS_correct) + np.array(SS_overmodel))/2"
   ]
  },
  {
   "cell_type": "code",
   "execution_count": null,
   "metadata": {},
   "outputs": [],
   "source": []
  },
  {
   "cell_type": "code",
   "execution_count": null,
   "metadata": {},
   "outputs": [],
   "source": []
  },
  {
   "cell_type": "code",
   "execution_count": null,
   "metadata": {},
   "outputs": [],
   "source": []
  },
  {
   "cell_type": "code",
   "execution_count": null,
   "metadata": {},
   "outputs": [],
   "source": []
  },
  {
   "cell_type": "code",
   "execution_count": null,
   "metadata": {},
   "outputs": [],
   "source": []
  },
  {
   "cell_type": "code",
   "execution_count": null,
   "metadata": {},
   "outputs": [],
   "source": []
  }
 ],
 "metadata": {
  "kernelspec": {
   "display_name": "Python 3",
   "language": "python",
   "name": "python3"
  },
  "language_info": {
   "codemirror_mode": {
    "name": "ipython",
    "version": 3
   },
   "file_extension": ".py",
   "mimetype": "text/x-python",
   "name": "python",
   "nbconvert_exporter": "python",
   "pygments_lexer": "ipython3",
   "version": "3.8.10"
  }
 },
 "nbformat": 4,
 "nbformat_minor": 4
}
