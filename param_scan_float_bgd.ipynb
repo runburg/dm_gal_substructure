{
 "cells": [
  {
   "cell_type": "code",
   "execution_count": 1,
   "metadata": {},
   "outputs": [],
   "source": [
    "import sys\n",
    "\n",
    "sys.path.append('./source/')"
   ]
  },
  {
   "cell_type": "code",
   "execution_count": 2,
   "metadata": {},
   "outputs": [],
   "source": [
    "import matplotlib.pyplot as plt\n",
    "import numpy as np\n",
    "from scipy import integrate, stats\n",
    "import matplotlib.cm as cm\n",
    "from numpy import fft\n",
    "from scipy import interpolate as intp\n",
    "import importlib\n",
    "import healpy\n",
    "\n",
    "from source import plots\n",
    "from source import prob_dists as pd\n",
    "from utils import read_param_file, update_params"
   ]
  },
  {
   "cell_type": "code",
   "execution_count": 3,
   "metadata": {},
   "outputs": [
    {
     "name": "stdout",
     "output_type": "stream",
     "text": [
      "5570.423008216337 1.7896346444957159\n"
     ]
    },
    {
     "data": {
      "text/plain": [
       "{'R_G': 220,\n",
       " 'd_solar': 8.5,\n",
       " 'psi': 40,\n",
       " 'M_min': 0.01,\n",
       " 'M_max': 10000000000.0,\n",
       " 'fwimp': 1.7896346444957159,\n",
       " 'mean_params': {'a': 77.4, 'b': 0.87, 'c': -0.23},\n",
       " 'nside': 128,\n",
       " 'area_fermi': 2000.0,\n",
       " 'n': 0,\n",
       " 'log_flux_min': -15,\n",
       " 'log_flux_max': -5,\n",
       " 'N': 1000,\n",
       " 'log_k_min': -3,\n",
       " 'log_k_max': 6,\n",
       " 'N_k': 250000,\n",
       " 'psh_log_f_min': -7,\n",
       " 'psh_log_f_max': -2.5,\n",
       " 'N_psh': 1000,\n",
       " 'omega_pixel': 6.391586616190171e-05,\n",
       " 'exposure': 5570.423008216337,\n",
       " 'iso_flux_bg': 0.0008939106670451649,\n",
       " 'gal_flux_bg_file': './output/gal_flux_bg.npy',\n",
       " 'bg': 1,\n",
       " 'beg': 1}"
      ]
     },
     "execution_count": 3,
     "metadata": {},
     "output_type": "execute_result"
    }
   ],
   "source": [
    "param_file = './source/n0.params'\n",
    "params = read_param_file(param_file)\n",
    "p = params\n",
    "\n",
    "exposure = 5 * 14000 / (4 * np.pi)\n",
    "p = update_params(param_file, p, 'exposure', exposure)\n",
    "\n",
    "phipp = 7.12073e-30\n",
    "fwimp = phipp * 8 * np.pi / 1e-28\n",
    "# fwimp = 1e-4\n",
    "p = update_params(param_file, p, 'fwimp', fwimp)\n",
    "\n",
    "p = update_params(param_file, p, 'bg', 1)\n",
    "p = update_params(param_file, p, 'beg', 1)\n",
    "\n",
    "print(exposure, fwimp)\n",
    "p"
   ]
  },
  {
   "cell_type": "code",
   "execution_count": 4,
   "metadata": {},
   "outputs": [],
   "source": [
    "nside = p['nside']\n",
    "npix = healpy.nside2npix(nside)\n",
    "lon, lat = healpy.pix2ang(nside, range(npix), lonlat=True)\n",
    "ang_dists = np.rad2deg(np.arccos(np.cos(np.deg2rad(lon)) * np.cos(np.deg2rad(lat))))\n",
    "good_indices = (abs(lat) >= 40)"
   ]
  },
  {
   "cell_type": "code",
   "execution_count": 5,
   "metadata": {},
   "outputs": [],
   "source": [
    "## S-WAVE\n",
    "s_psh, s_pshfunc2d, s_fluxes, _ = pd.psh_s(ang_dists[good_indices], return_all=True)\n",
    "\n",
    "## SOM\n",
    "som_psh, som_pshfunc2d, som_fluxes, _= pd.psh_som(ang_dists[good_indices], return_all=True)"
   ]
  },
  {
   "cell_type": "code",
   "execution_count": 6,
   "metadata": {},
   "outputs": [],
   "source": [
    "# search parameters\n",
    "num_search = 75\n",
    "p['fwimp'] *= 1\n",
    "\n",
    "fwimps = np.logspace(np.log10(p['fwimp'])-.5, np.log10(p['fwimp'])+.5, num_search)\n",
    "begs = np.linspace(.9, 1.1, num=75)\n",
    "\n",
    "exposure_search = np.logspace(0, 1, num=1) * p['exposure']\n",
    "exposure_search = np.array([1]) * p['exposure']"
   ]
  },
  {
   "cell_type": "code",
   "execution_count": 7,
   "metadata": {},
   "outputs": [],
   "source": [
    " def likelihood_run_for_model_2d(psh, fluxes, poisson_rescale=1, model=''):\n",
    "    # run likelihoods\n",
    "    s_S = np.zeros((len(exposure_search), len(begs), num_search))\n",
    "    som_S = np.zeros((len(exposure_search), len(begs), num_search))\n",
    "    poisson_S = np.zeros((len(exposure_search), len(begs), num_search))\n",
    "\n",
    "    for i, exposure in enumerate(exposure_search):\n",
    "        p['exposure'] = exposure\n",
    "\n",
    "        gal_bg = np.load(p['gal_flux_bg_file'])[good_indices] * p['exposure'] * p['bg']\n",
    "        iso_bg = p['iso_flux_bg'] * p['exposure'] * p['beg']\n",
    "        bg_count = gal_bg + iso_bg\n",
    "\n",
    "        counts = np.arange(0, bg_count.max() + 9 * np.sqrt(bg_count.max()) + p['exposure'] * p['fwimp'] * fluxes.max() + 9 * np.sqrt(p['exposure'] * p['fwimp'] * fluxes.max()))\n",
    "\n",
    "        print('calculating pc to count =', counts[-1])\n",
    "\n",
    "        unique_ang, uni_ind, uni_inv = np.unique(np.abs(ang_dists[good_indices]), return_inverse=True, return_index=True)\n",
    "\n",
    "        pshdat = psh[:, uni_ind]\n",
    "        psh = pshdat[:, uni_inv]\n",
    "        if model == 's':\n",
    "            spsh = pshdat[:, uni_inv]\n",
    "            sompsh = som_psh\n",
    "        elif model == 'som':\n",
    "            sompsh = pshdat[:, uni_inv]\n",
    "            spsh = s_psh\n",
    "        else:\n",
    "            spsh = s_psh\n",
    "            sompsh = som_psh\n",
    "\n",
    "        pc_psi = integrate.simps(pshdat[..., np.newaxis] * stats.poisson.pmf(counts[np.newaxis, np.newaxis, :], p['exposure'] * p['fwimp'] * fluxes[:, np.newaxis, np.newaxis]), fluxes, axis=0)\n",
    "        pc_psi /= np.sum(pc_psi, axis=-1)[:, np.newaxis]\n",
    "\n",
    "        print('is pc norm', np.allclose(np.sum(pc_psi, axis=-1), 1))\n",
    "        print('last pc prob', pc_psi[:, -1])\n",
    "\n",
    "        pc_of_psi = pc_psi[uni_inv]\n",
    "\n",
    "        # generate sky map\n",
    "        subcounts = pd.generate_skymap_sample_pc(p, pc_of_psi, ang_dists[good_indices], good_indices, return_subcounts=True, save_output=False, bg_counts=bg_count)\n",
    "\n",
    "        print('generated skymap with', p['fwimp'])\n",
    "        print('max counts', counts[-1], subcounts.max())\n",
    "\n",
    "        for j, beg in enumerate(begs):\n",
    "            for k, fwimp in enumerate(fwimps):\n",
    "                S = pd.likelihood2d([exposure, beg, fwimp], spsh, subcounts.astype(np.int16), s_fluxes, eg_bg_count=iso_bg, g_bg_count=gal_bg)\n",
    "                s_S[i, j, k] = S\n",
    "\n",
    "                S = pd.likelihood2d([exposure, beg, fwimp/100], sompsh, subcounts.astype(np.int16), som_fluxes, eg_bg_count=iso_bg, g_bg_count=gal_bg)\n",
    "                som_S[i, j, k] = S\n",
    "\n",
    "                S = pd.poisson_likelihood2d([exposure, beg, fwimp/poisson_rescale], psh, subcounts.astype(np.int16), fluxes, eg_bg_count=iso_bg, g_bg_count=gal_bg)\n",
    "                poisson_S[i, j, k] = S\n",
    "\n",
    "        print(i+1, '/', len(exposure_search))\n",
    "        \n",
    "    from scipy.optimize import minimize\n",
    "    \n",
    "    indmax = np.unravel_index(np.argmin(s_S, axis=None), s_S.shape)\n",
    "    s_max = minimize(pd.likelihood2d, [exposure_search[indmax[0]], begs[indmax[1]], fwimps[indmax[2]]], args=(spsh, subcounts.astype(np.int16), s_fluxes, iso_bg, gal_bg), method='Nelder-Mead')\n",
    "    som_max = minimize(pd.likelihood2d, [exposure_search[indmax[0]], begs[indmax[1]], fwimps[indmax[2]]/100], args=(sompsh, subcounts.astype(np.int16), som_fluxes, iso_bg, gal_bg), method='Nelder-Mead')\n",
    "    poi_max = minimize(pd.likelihood2d, [exposure_search[indmax[0]], begs[indmax[1]], fwimps[indmax[2]]/poisson_rescale], args=(psh, subcounts.astype(np.int16), fluxes, iso_bg, gal_bg), method='Nelder-Mead')\n",
    "    \n",
    "    return [s_S, som_S, poisson_S]"
   ]
  },
  {
   "cell_type": "code",
   "execution_count": 8,
   "metadata": {},
   "outputs": [
    {
     "name": "stdout",
     "output_type": "stream",
     "text": [
      "calculating pc to count = 173.0\n",
      "is pc norm True\n",
      "last pc prob [9.40251384e-130 9.49248346e-130 9.40251384e-130 ... 9.49040954e-130\n",
      " 9.34014791e-130 9.49040954e-130]\n",
      "generated skymap with 1.7896346444957159\n",
      "max counts 173.0 64.0\n",
      "1 / 1\n",
      "calculating pc to count = 130.0\n",
      "is pc norm True\n",
      "last pc prob [0. 0. 0. ... 0. 0. 0.]\n",
      "generated skymap with 0.01789634644495716\n",
      "max counts 130.0 66.0\n",
      "1 / 1\n",
      "calculating pc to count = 126.0\n",
      "is pc norm True\n",
      "last pc prob [0. 0. 0. ... 0. 0. 0.]\n",
      "generated skymap with 1.7896346444957157e-102\n",
      "max counts 126.0 67.0\n",
      "1 / 1\n"
     ]
    }
   ],
   "source": [
    "SS = []\n",
    "\n",
    "SS.append(likelihood_run_for_model_2d(s_psh, s_fluxes, model='s'))\n",
    "p['fwimp'] /= 100\n",
    "SS.append(likelihood_run_for_model_2d(som_psh, som_fluxes, model='som', poisson_rescale=100))\n",
    "p['fwimp'] /= 1e100\n",
    "SS.append(likelihood_run_for_model_2d(som_psh*1e100, som_fluxes/1e100, model=''))\n",
    "p['fwimp'] *= 1e102"
   ]
  },
  {
   "cell_type": "code",
   "execution_count": 9,
   "metadata": {},
   "outputs": [
    {
     "name": "stdout",
     "output_type": "stream",
     "text": [
      "371224.5730774909 1.6816567366585213 1.0\n",
      "371249.3224992137 0.5659321656152182 1.018918918918919\n",
      "371249.365247728 3.334530151061592 0.9783783783783784\n",
      "369140.348305078 0.5659321656152182 1.0081081081081082\n",
      "369138.5466870404 1.4848524412830082 1.0027027027027027\n",
      "369140.5305158968 5.154942648453146 0.972972972972973\n",
      "369247.7378970378 0.5659321656152182 0.9891891891891893\n",
      "369246.9317546171 0.5659321656152182 0.991891891891892\n",
      "369246.12079277606 0.5659321656152182 0.9972972972972973\n"
     ]
    }
   ],
   "source": [
    "for ss in SS:\n",
    "    for s in ss:\n",
    "        indmax = np.unravel_index(np.argmin(s, axis=None), s.shape)\n",
    "        print(np.amin(s), fwimps[indmax[2]], begs[indmax[1]])"
   ]
  },
  {
   "cell_type": "code",
   "execution_count": 10,
   "metadata": {},
   "outputs": [],
   "source": [
    "# p['fwimp'] *= 1e12"
   ]
  },
  {
   "cell_type": "code",
   "execution_count": 14,
   "metadata": {},
   "outputs": [
    {
     "name": "stderr",
     "output_type": "stream",
     "text": [
      "<ipython-input-14-851a103a06b3>:20: UserWarning: The following kwargs were not used by contour: 'label'\n",
      "  ax.contourf(fwimps, begs, np.exp(-0.5*(expdat - expdat.min())), label=f'{expo:.2}cm2s')\n",
      "<ipython-input-14-851a103a06b3>:13: UserWarning: The following kwargs were not used by contour: 'label'\n",
      "  ax.contourf(fwimps / 100, begs, np.exp(-0.5*(expdat - expdat.min())), label=f'{expo:.2}cm2s')\n",
      "<ipython-input-14-851a103a06b3>:43: UserWarning: The following kwargs were not used by contour: 'label'\n",
      "  ax.contourf(fwimps, begs, np.exp(-0.5*(expdat - expdat.min())), label=f'{expo:.2}cm2s')\n",
      "<ipython-input-14-851a103a06b3>:36: UserWarning: The following kwargs were not used by contour: 'label'\n",
      "  ax.contourf(fwimps / 100, begs, np.exp(-0.5*(expdat - expdat.min())), label=f'{expo:.2}cm2s')\n",
      "<ipython-input-14-851a103a06b3>:66: UserWarning: The following kwargs were not used by contour: 'label'\n",
      "  ax.contourf(fwimps, begs, np.exp(-0.5*(expdat - expdat.min())), label=f'{expo:.2}cm2s')\n",
      "<ipython-input-14-851a103a06b3>:59: UserWarning: The following kwargs were not used by contour: 'label'\n",
      "  ax.contourf(fwimps / 100, begs, np.exp(-0.5*(expdat - expdat.min())), label=f'{expo:.2}cm2s')\n",
      "No handles with labels found to put in legend.\n"
     ]
    },
    {
     "name": "stdout",
     "output_type": "stream",
     "text": [
      "1.7896346444957156\n"
     ]
    },
    {
     "data": {
      "image/png": "[encoded data removed]",
      "text/plain": [
       "<Figure size 1224x576 with 9 Axes>"
      ]
     },
     "metadata": {
      "needs_background": "light"
     },
     "output_type": "display_data"
    }
   ],
   "source": [
    "fig, axss = plt.subplots(ncols=3, nrows=3, figsize=(17, 8), sharey=True, gridspec_kw={'wspace': 0})\n",
    "i = 0\n",
    "lw = 5\n",
    "zorder = 1\n",
    "# p['fwimp'] *= 100\n",
    "axs = axss[0]\n",
    "\n",
    "for ax, s, lab in zip(axs, SS[0], ['s-wave L', 'som L', 'poisson L']):\n",
    "    colors = iter(['xkcd:mulberry', 'xkcd:wheat', 'xkcd:mossy green', 'xkcd:cool blue', 'xkcd:blush pink'])\n",
    "    for expdat, expo in zip(s, exposure_search):\n",
    "        indmax = np.unravel_index(np.argmin(expdat, axis=None), expdat.shape)\n",
    "        if lab == 'som L':\n",
    "            ax.contourf(fwimps / 100, begs, np.exp(-0.5*(expdat - expdat.min())), label=f'{expo:.2}cm2s')\n",
    "            ax.axvline(p['fwimp']/100, ls='--', color='xkcd:steel gray')\n",
    "            ax.axhline(1, ls='--', color='xkcd:steel gray')\n",
    "            ax.plot(fwimps[indmax[1]]/100, begs[indmax[0]], marker='*', color='xkcd:barbie pink', ms=10)\n",
    "#             ax.plot(fwimps/100, expdat - expdat.min(), label=f'{expo:.2}cm2s')\n",
    "#             print(lab, expdat.min(),  '\\t', fwimps[np.exp(-0.5*(expdat - expdat.min())).argmax()]/100)\n",
    "        else:\n",
    "            ax.contourf(fwimps, begs, np.exp(-0.5*(expdat - expdat.min())), label=f'{expo:.2}cm2s')\n",
    "            ax.axvline(p['fwimp'], ls='--', color='xkcd:steel gray')\n",
    "            ax.axhline(1, ls='--', color='xkcd:steel gray')\n",
    "            ax.plot(fwimps[indmax[1]], begs[indmax[0]], marker='*', color='xkcd:barbie pink', ms=10)\n",
    "#             ax.plot(fwimps, expdat - expdat.min(), label=f'{expo:.2}cm2s')\n",
    "#             print(lab, expdat.min(),  '\\t', fwimps[np.exp(-0.5*(expdat - expdat.min())).argmax()])\n",
    "\n",
    "    ax.set_xscale('log')\n",
    "    \n",
    "axs = axss[1]\n",
    "# p['fwimp'] /=100\n",
    "for ax, s, lab in zip(axs, SS[1], ['s-wave L', 'som L', 'poisson L']):\n",
    "    colors = iter(['xkcd:mulberry', 'xkcd:wheat', 'xkcd:mossy green', 'xkcd:cool blue', 'xkcd:blush pink'])\n",
    "    for expdat, expo in zip(s, exposure_search):\n",
    "        indmax = np.unravel_index(np.argmin(expdat, axis=None), expdat.shape)\n",
    "        if lab == 'som L' or lab == 'poisson L':\n",
    "            ax.contourf(fwimps / 100, begs, np.exp(-0.5*(expdat - expdat.min())), label=f'{expo:.2}cm2s')\n",
    "            ax.axvline(p['fwimp'] / 100, ls='--', color='xkcd:steel gray')\n",
    "            ax.axhline(1, ls='--', color='xkcd:steel gray')\n",
    "            ax.plot(fwimps[indmax[1]]/100, begs[indmax[0]], marker='*', color='xkcd:barbie pink', ms=10)\n",
    "#             ax.plot(fwimps/100, expdat - expdat.min(), label=f'{expo:.2}cm2s')\n",
    "#             print(lab, expdat.min(),  '\\t', fwimps[np.exp(-0.5*(expdat - expdat.min())).argmax()]/100)\n",
    "        else:\n",
    "            ax.contourf(fwimps, begs, np.exp(-0.5*(expdat - expdat.min())), label=f'{expo:.2}cm2s')\n",
    "            ax.axvline(p['fwimp'], ls='--', color='xkcd:steel gray')\n",
    "            ax.axhline(1, ls='--', color='xkcd:steel gray')\n",
    "            ax.plot(fwimps[indmax[1]], begs[indmax[0]], marker='*', color='xkcd:barbie pink', ms=10)\n",
    "#             ax.plot(fwimps, expdat - expdat.min(), label=f'{expo:.2}cm2s')\n",
    "#             print(lab, expdat.min(),  '\\t', fwimps[np.exp(-0.5*(expdat - expdat.min())).argmax()])\n",
    "\n",
    "    ax.set_xscale('log')\n",
    "    \n",
    "axs = axss[2]\n",
    "# p['fwimp'] /=100\n",
    "for ax, s, lab in zip(axs, SS[2], ['s-wave L', 'som L', 'poisson L']):\n",
    "    colors = iter(['xkcd:mulberry', 'xkcd:wheat', 'xkcd:mossy green', 'xkcd:cool blue', 'xkcd:blush pink'])\n",
    "    for expdat, expo in zip(s, exposure_search):\n",
    "        indmax = np.unravel_index(np.argmin(expdat, axis=None), expdat.shape)\n",
    "        if lab == 'som L' or lab == 'poisson L':\n",
    "            ax.contourf(fwimps / 100, begs, np.exp(-0.5*(expdat - expdat.min())), label=f'{expo:.2}cm2s')\n",
    "            ax.axvline(p['fwimp'] / 100, ls='--', color='xkcd:steel gray')\n",
    "            ax.axhline(1, ls='--', color='xkcd:steel gray')\n",
    "            ax.plot(fwimps[indmax[1]]/100, begs[indmax[0]], marker='*', color='xkcd:barbie pink', ms=10)\n",
    "#             ax.plot(fwimps/100, expdat - expdat.min(), label=f'{expo:.2}cm2s')\n",
    "#             print(lab, expdat.min(),  '\\t', fwimps[np.exp(-0.5*(expdat - expdat.min())).argmax()]/100)\n",
    "        else:\n",
    "            ax.contourf(fwimps, begs, np.exp(-0.5*(expdat - expdat.min())), label=f'{expo:.2}cm2s')\n",
    "            ax.axvline(p['fwimp'], ls='--', color='xkcd:steel gray')\n",
    "            ax.axhline(1, ls='--', color='xkcd:steel gray')\n",
    "            ax.plot(fwimps[indmax[1]], begs[indmax[0]], marker='*', color='xkcd:barbie pink', ms=10)\n",
    "#             ax.plot(fwimps, expdat - expdat.min(), label=f'{expo:.2}cm2s')\n",
    "#             print(lab, expdat.min(),  '\\t', fwimps[np.exp(-0.5*(expdat - expdat.min())).argmax()])\n",
    "\n",
    "    ax.set_xscale('log')\n",
    "# p['fwimp'] *= 100 \n",
    "for ax in axss[-1]:\n",
    "    ax.set_xlabel('fwimp')\n",
    "    \n",
    "axss[0, 0].set_ylabel('isotropic bgd norm')\n",
    "axss[1, 0].set_ylabel('isotropic bgd norm')\n",
    "axss[2, 0].set_ylabel('isotropic bgd norm')\n",
    "\n",
    "axss[0, 0].set_title('s-wave')\n",
    "axss[0, 1].set_title('som')\n",
    "axss[0, 2].set_title('poisson')\n",
    "    \n",
    "axss.flatten()[-1].legend()\n",
    "#     ax.set_yscale('log')\n",
    "#     ax.set_ylim(bottom=0, top=10)\n",
    "print(p['fwimp'])\n",
    "fig.savefig('./output/llhds_2d_fermiexposure.pdf')"
   ]
  },
  {
   "cell_type": "markdown",
   "metadata": {},
   "source": [
    "Add:\n",
    "- Float beg but fix bg to 0.97\n",
    "- Float beg w/ same bg\n",
    "- Generate w/ no DM signal and fit s/som/poi (null test)\n",
    "- Add to overleaf\n",
    "- "
   ]
  },
  {
   "cell_type": "code",
   "execution_count": 12,
   "metadata": {},
   "outputs": [
    {
     "name": "stdout",
     "output_type": "stream",
     "text": [
      "1.983828856376931\n"
     ]
    },
    {
     "data": {
      "image/png": "[encoded data removed]",
      "text/plain": [
       "<Figure size 1008x288 with 2 Axes>"
      ]
     },
     "metadata": {
      "needs_background": "light"
     },
     "output_type": "display_data"
    }
   ],
   "source": [
    "fig, axs = plt.subplots(ncols=2, figsize=(14,4), sharey=True, sharex=True)\n",
    "\n",
    "ax = axs[0]\n",
    "s_S, som_S, poisson_S = SS[0]\n",
    "max_swave = np.amin(s_S)\n",
    "max_som = np.amin(som_S)\n",
    "max_poi = np.amin(poisson_S)\n",
    "ax.plot(exposure_search, -max_swave + max_som, ls='', marker='*', color='xkcd:royal purple', label=r'$\\mathcal{S}_{min}^{som} - \\mathcal{S}_{min}^{s}$')\n",
    "ax.plot(exposure_search, -max_swave + max_poi, ls='', marker='*', color='xkcd:terra cotta', label=r'$\\mathcal{S}_{min}^{poi} - \\mathcal{S}_{min}^{s}$')\n",
    "# ax.plot(exposure_search, max_som - max_poi, ls='', marker='*', color='xkcd:pink', label=r'$\\mathcal{S}_{min}^{som} - \\mathcal{S}_{min}^{poi}$')\n",
    "ax.set_xscale('symlog')\n",
    "ax.set_yscale('symlog')\n",
    "ax.grid()\n",
    "# ax.set_ylim(bottom=10)\n",
    "ax.set_ylabel(r'$\\Delta\\mathcal{S}_{min}$', fontsize='x-large')\n",
    "ax.set_xlabel(r'Exposure', fontsize='x-large')\n",
    "ax.legend()\n",
    " \n",
    "ax = axs[1]\n",
    "s_S, som_S, poisson_S = SS[1]\n",
    "max_swave = np.amin(s_S)\n",
    "max_som = np.amin(som_S)\n",
    "max_poi = np.amin(poisson_S)\n",
    "ax.plot(exposure_search, max_swave - max_som, ls='', marker='*', color='xkcd:royal purple', label=r'$\\mathcal{S}_{min}^{s} - \\mathcal{S}_{min}^{som}$')\n",
    "# ax.plot(exposure_search, max_swave - max_poi, ls='', marker='*', color='xkcd:terra cotta', label=r'$\\mathcal{S}_{min}^{s} - \\mathcal{S}_{min}^{poi}$')\n",
    "ax.plot(exposure_search, - max_som + max_poi, ls='', marker='*', color='xkcd:pink', label=r'$\\mathcal{S}_{min}^{poi} - \\mathcal{S}_{min}^{som}$')\n",
    "ax.set_xscale('symlog')\n",
    "ax.set_yscale('symlog')\n",
    "ax.grid()\n",
    "# ax.set_ylim(bottom=10)\n",
    "ax.set_ylabel(r'$\\Delta\\mathcal{S}_{min}$', fontsize='x-large')\n",
    "ax.set_xlabel(r'Exposure', fontsize='x-large')\n",
    "ax.legend()\n",
    "print(max_poi - max_som)\n",
    "axs[0].set_title('s-wave data')\n",
    "axs[1].set_title('som data')\n",
    "\n",
    "fig.savefig('./output/deltaS_2d.pdf')"
   ]
  },
  {
   "cell_type": "code",
   "execution_count": null,
   "metadata": {},
   "outputs": [],
   "source": []
  },
  {
   "cell_type": "code",
   "execution_count": null,
   "metadata": {},
   "outputs": [],
   "source": []
  },
  {
   "cell_type": "code",
   "execution_count": null,
   "metadata": {},
   "outputs": [],
   "source": []
  },
  {
   "cell_type": "code",
   "execution_count": null,
   "metadata": {},
   "outputs": [],
   "source": []
  },
  {
   "cell_type": "code",
   "execution_count": 13,
   "metadata": {},
   "outputs": [
    {
     "ename": "NameError",
     "evalue": "name 'mean' is not defined",
     "output_type": "error",
     "traceback": [
      "\u001b[0;31m---------------------------------------------------------------------------\u001b[0m",
      "\u001b[0;31mNameError\u001b[0m                                 Traceback (most recent call last)",
      "\u001b[0;32m<ipython-input-13-7e9142c96970>\u001b[0m in \u001b[0;36m<module>\u001b[0;34m\u001b[0m\n\u001b[1;32m      1\u001b[0m \u001b[0mfig\u001b[0m\u001b[0;34m,\u001b[0m \u001b[0maxs\u001b[0m \u001b[0;34m=\u001b[0m \u001b[0mplt\u001b[0m\u001b[0;34m.\u001b[0m\u001b[0msubplots\u001b[0m\u001b[0;34m(\u001b[0m\u001b[0mncols\u001b[0m\u001b[0;34m=\u001b[0m\u001b[0;36m3\u001b[0m\u001b[0;34m,\u001b[0m \u001b[0mfigsize\u001b[0m\u001b[0;34m=\u001b[0m\u001b[0;34m(\u001b[0m\u001b[0;36m15\u001b[0m\u001b[0;34m,\u001b[0m\u001b[0;36m4\u001b[0m\u001b[0;34m)\u001b[0m\u001b[0;34m)\u001b[0m\u001b[0;34m\u001b[0m\u001b[0;34m\u001b[0m\u001b[0m\n\u001b[0;32m----> 2\u001b[0;31m \u001b[0maxs\u001b[0m\u001b[0;34m[\u001b[0m\u001b[0;36m0\u001b[0m\u001b[0;34m]\u001b[0m\u001b[0;34m.\u001b[0m\u001b[0mplot\u001b[0m\u001b[0;34m(\u001b[0m\u001b[0mexposure_search\u001b[0m\u001b[0;34m,\u001b[0m \u001b[0mmean\u001b[0m\u001b[0;34m,\u001b[0m \u001b[0mlabel\u001b[0m\u001b[0;34m=\u001b[0m\u001b[0;34m'mean'\u001b[0m\u001b[0;34m,\u001b[0m \u001b[0mmarker\u001b[0m\u001b[0;34m=\u001b[0m\u001b[0;34m'o'\u001b[0m\u001b[0;34m,\u001b[0m \u001b[0mms\u001b[0m\u001b[0;34m=\u001b[0m\u001b[0;36m10\u001b[0m\u001b[0;34m)\u001b[0m\u001b[0;34m\u001b[0m\u001b[0;34m\u001b[0m\u001b[0m\n\u001b[0m\u001b[1;32m      3\u001b[0m \u001b[0maxs\u001b[0m\u001b[0;34m[\u001b[0m\u001b[0;36m0\u001b[0m\u001b[0;34m]\u001b[0m\u001b[0;34m.\u001b[0m\u001b[0mset_title\u001b[0m\u001b[0;34m(\u001b[0m\u001b[0;34m'mean counts'\u001b[0m\u001b[0;34m)\u001b[0m\u001b[0;34m\u001b[0m\u001b[0;34m\u001b[0m\u001b[0m\n\u001b[1;32m      4\u001b[0m \u001b[0maxs\u001b[0m\u001b[0;34m[\u001b[0m\u001b[0;36m1\u001b[0m\u001b[0;34m]\u001b[0m\u001b[0;34m.\u001b[0m\u001b[0mplot\u001b[0m\u001b[0;34m(\u001b[0m\u001b[0mexposure_search\u001b[0m\u001b[0;34m,\u001b[0m \u001b[0mmeanpc\u001b[0m\u001b[0;34m,\u001b[0m \u001b[0mlabel\u001b[0m\u001b[0;34m=\u001b[0m\u001b[0;34m'P(C) mean'\u001b[0m\u001b[0;34m,\u001b[0m \u001b[0mmarker\u001b[0m\u001b[0;34m=\u001b[0m\u001b[0;34m'o'\u001b[0m\u001b[0;34m,\u001b[0m \u001b[0mms\u001b[0m\u001b[0;34m=\u001b[0m\u001b[0;36m10\u001b[0m\u001b[0;34m)\u001b[0m\u001b[0;34m\u001b[0m\u001b[0;34m\u001b[0m\u001b[0m\n\u001b[1;32m      5\u001b[0m \u001b[0maxs\u001b[0m\u001b[0;34m[\u001b[0m\u001b[0;36m1\u001b[0m\u001b[0;34m]\u001b[0m\u001b[0;34m.\u001b[0m\u001b[0mset_title\u001b[0m\u001b[0;34m(\u001b[0m\u001b[0;34m'mean P(C)'\u001b[0m\u001b[0;34m)\u001b[0m\u001b[0;34m\u001b[0m\u001b[0;34m\u001b[0m\u001b[0m\n",
      "\u001b[0;31mNameError\u001b[0m: name 'mean' is not defined"
     ]
    },
    {
     "data": {
      "image/png": "[encoded data removed]",
      "text/plain": [
       "<Figure size 1080x288 with 3 Axes>"
      ]
     },
     "metadata": {
      "needs_background": "light"
     },
     "output_type": "display_data"
    }
   ],
   "source": [
    "fig, axs = plt.subplots(ncols=3, figsize=(15,4))\n",
    "axs[0].plot(exposure_search, mean, label='mean', marker='o', ms=10)\n",
    "axs[0].set_title('mean counts')\n",
    "axs[1].plot(exposure_search, meanpc, label='P(C) mean', marker='o', ms=10)\n",
    "axs[1].set_title('mean P(C)')\n",
    "axs[2].plot(exposure_search, total, label='P(C) mean', marker='o', ms=10)\n",
    "axs[2].set_title('total counts')"
   ]
  },
  {
   "cell_type": "code",
   "execution_count": null,
   "metadata": {},
   "outputs": [],
   "source": [
    "fig, ax = plt.subplots(figsize=(6, 4))\n",
    "# ax.set_ylim(bottom=0, top=)\n",
    "ax.set_yscale('log')\n",
    "ax.set_ylabel('Exposure [cm2 s]')\n",
    "ax.set_xscale('log')\n",
    "ax.set_xlabel('fwimp')\n",
    "pc = ax.pcolormesh(fwimps, exposure_search, np.log10(s_S), cmap=cm.jet, shading='auto')\n",
    "fig.colorbar(pc, label='S for s-wave');"
   ]
  },
  {
   "cell_type": "code",
   "execution_count": null,
   "metadata": {},
   "outputs": [],
   "source": [
    "max_swave = np.amin(s_S, axis=-1)\n",
    "max_som = np.amin(som_S, axis=-1)\n",
    "max_poi = np.amin(poisson_S, axis=-1)"
   ]
  },
  {
   "cell_type": "code",
   "execution_count": null,
   "metadata": {},
   "outputs": [],
   "source": []
  }
 ],
 "metadata": {
  "kernelspec": {
   "display_name": "Python 3",
   "language": "python",
   "name": "python3"
  },
  "language_info": {
   "codemirror_mode": {
    "name": "ipython",
    "version": 3
   },
   "file_extension": ".py",
   "mimetype": "text/x-python",
   "name": "python",
   "nbconvert_exporter": "python",
   "pygments_lexer": "ipython3",
   "version": "3.8.5"
  }
 },
 "nbformat": 4,
 "nbformat_minor": 4
}
