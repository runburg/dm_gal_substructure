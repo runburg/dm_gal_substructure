{
 "cells": [
  {
   "cell_type": "code",
   "execution_count": 1,
   "metadata": {},
   "outputs": [],
   "source": [
    "import sys\n",
    "\n",
    "sys.path.append('./source/')"
   ]
  },
  {
   "cell_type": "code",
   "execution_count": 2,
   "metadata": {},
   "outputs": [],
   "source": [
    "import matplotlib.pyplot as plt\n",
    "import numpy as np\n",
    "from scipy import integrate, stats\n",
    "import matplotlib.cm as cm\n",
    "from numpy import fft\n",
    "from scipy import interpolate as intp\n",
    "import importlib\n",
    "import healpy\n",
    "\n",
    "from source import plots\n",
    "from source import prob_dists as pd\n",
    "from utils import read_param_file, update_params, configure_plot_params\n",
    "\n",
    "configure_plot_params(fontsize=12)"
   ]
  },
  {
   "cell_type": "code",
   "execution_count": 3,
   "metadata": {},
   "outputs": [
    {
     "data": {
      "text/plain": [
       "{'R_G': 220,\n",
       " 'd_solar': 8.5,\n",
       " 'psi': 40,\n",
       " 'M_min': 0.1,\n",
       " 'M_max': 10000000000.0,\n",
       " 'fwimp': 1.78,\n",
       " 'mean_params': {'a': 77.4, 'b': 0.87, 'c': -0.23},\n",
       " 'nside': 128,\n",
       " 'area_fermi': 2000.0,\n",
       " 'n': 0,\n",
       " 'log_flux_min': -16,\n",
       " 'log_flux_max': -2,\n",
       " 'N': 2200,\n",
       " 'log_k_min': -2,\n",
       " 'log_k_max': 10,\n",
       " 'N_k': 250000,\n",
       " 'psh_log_f_min': -7,\n",
       " 'psh_log_f_max': -1.0,\n",
       " 'N_psh': 1000,\n",
       " 'omega_pixel': 6.391586616190171e-05,\n",
       " 'exposure': 5570.423008216337,\n",
       " 'iso_flux_bg': 0.0008615905978150363,\n",
       " 'gal_flux_bg_file': './output/gal_flux_bg.npy',\n",
       " 'bg': 1,\n",
       " 'beg': 1,\n",
       " 'beta': 1.9}"
      ]
     },
     "execution_count": 3,
     "metadata": {},
     "output_type": "execute_result"
    }
   ],
   "source": [
    "param_file = './source/n0.params'\n",
    "params = read_param_file(param_file)\n",
    "p = params\n",
    "\n",
    "# exposure = 5 * 14000 / (4 * np.pi)\n",
    "# p = update_params(param_file, p, 'exposure', exposure)\n",
    "\n",
    "# phipp = 7.12073e-30\n",
    "# fwimp = phipp * 8 * np.pi / 1e-28\n",
    "# # fwimp = 1e-4\n",
    "# p = update_params(param_file, p, 'fwimp', fwimp)\n",
    "\n",
    "# p = update_params(param_file, p, 'bg', 1)\n",
    "# p = update_params(param_file, p, 'beg', 1)\n",
    "\n",
    "# print(exposure, fwimp)\n",
    "p"
   ]
  },
  {
   "cell_type": "code",
   "execution_count": 4,
   "metadata": {},
   "outputs": [],
   "source": [
    "nside = p['nside']\n",
    "npix = healpy.nside2npix(nside)\n",
    "lon, lat = healpy.pix2ang(nside, range(npix), lonlat=True)\n",
    "ang_dists = np.rad2deg(np.arccos(np.cos(np.deg2rad(lon)) * np.cos(np.deg2rad(lat))))\n",
    "good_indices = (abs(lat) >= 40)"
   ]
  },
  {
   "cell_type": "code",
   "execution_count": 5,
   "metadata": {},
   "outputs": [
    {
     "name": "stdout",
     "output_type": "stream",
     "text": [
      "(100, 70144)\n",
      "[1.00042866 1.00042866 1.00042866 ... 1.00043519 1.00043519 1.00043519]\n",
      "[1. 1. 1. ... 1. 1. 1.]\n",
      "[1.00032751 1.00032751 1.00032751 ... 1.00032763 1.00032763 1.00032763]\n",
      "(100, 70144) (100,)\n",
      "[1. 1. 1. ... 1. 1. 1.]\n"
     ]
    }
   ],
   "source": [
    "## S-WAVE\n",
    "s_psh, s_pshfunc2d, s_fluxes, _ = pd.psh_s(ang_dists[good_indices], input_file='./output/n0_pshfunc_paper.npz', return_all=True)\n",
    "s_psh = s_psh[::1]\n",
    "s_fluxes = s_fluxes[::1]\n",
    "print(s_psh.shape)\n",
    "print(np.trapz(s_psh, s_fluxes, axis=0))\n",
    "s_psh /= np.trapz(s_psh, s_fluxes, axis=0)\n",
    "print(np.trapz(s_psh, s_fluxes, axis=0))\n",
    "\n",
    "## SOM\n",
    "som_fwimp_rescale = 9.0298\n",
    "som_psh, som_pshfunc2d, som_fluxes, _= pd.psh_som(ang_dists[good_indices], input_file='./output/n-1_pshfunc_paper.npz', return_all=True, rescale=som_fwimp_rescale)\n",
    "som_psh = som_psh[::1]\n",
    "som_fluxes = som_fluxes[::1]\n",
    "print(np.trapz(som_psh, som_fluxes, axis=0))\n",
    "som_psh /= np.trapz(som_psh, som_fluxes, axis=0)\n",
    "print(som_psh.shape, som_fluxes.shape)\n",
    "\n",
    "# som_psh /= som_fwimp_rescale\n",
    "# som_fluxes *= som_fwimp_rescale\n",
    "print(np.trapz(som_psh, som_fluxes, axis=0))\n",
    "\n",
    "# print(s_fluxes, som_fluxes)"
   ]
  },
  {
   "cell_type": "code",
   "execution_count": 6,
   "metadata": {},
   "outputs": [],
   "source": [
    "# search parameters\n",
    "num_search = 60\n",
    "p['fwimp'] *= 1\n",
    "\n",
    "fwimps = np.logspace(np.log10(p['fwimp'])-.75, np.log10(p['fwimp'])+.75, num_search)\n",
    "begs = np.linspace(.925, 1.075, num=num_search)\n",
    "\n",
    "# exposure_search = np.logspace(0, 1, num=1) * p['exposure']\n",
    "exposure_search = np.array([5]) * p['exposure']"
   ]
  },
  {
   "cell_type": "code",
   "execution_count": 7,
   "metadata": {},
   "outputs": [],
   "source": [
    " def likelihood_run_for_model_2d(p, psh, fluxes, poisson_rescale=1, model='', som_fwimp_rescale=1, s_fwimp_rescale=1):\n",
    "    # run likelihoods\n",
    "    s_S = np.zeros((len(exposure_search), len(begs), num_search))\n",
    "    som_S = np.zeros((len(exposure_search), len(begs), num_search))\n",
    "    poisson_S = np.zeros((len(exposure_search), len(begs), num_search))\n",
    "\n",
    "    for i, exposure in enumerate(exposure_search):\n",
    "        p['exposure'] = exposure\n",
    "\n",
    "        gal_bg = np.load(p['gal_flux_bg_file'])[good_indices] * p['exposure'] * p['bg']\n",
    "        iso_bg = p['iso_flux_bg'] * p['exposure'] * p['beg']\n",
    "        bg_count = gal_bg + iso_bg\n",
    "\n",
    "        counts = np.arange(0, bg_count.max() + 4 * np.sqrt(bg_count.max()) + p['exposure'] * p['fwimp'] * fluxes.max())\n",
    "\n",
    "        print('calculating pc to count =', counts[-1])\n",
    "\n",
    "        unique_ang, uni_ind, uni_inv = np.unique(np.abs(ang_dists[good_indices]), return_inverse=True, return_index=True)\n",
    "        \n",
    "        print('psh mean', np.trapz(fluxes * psh[:, 0], fluxes))\n",
    "\n",
    "        pshdat = psh[:, uni_ind]\n",
    "        psh = pshdat[:, uni_inv]\n",
    "        if model == 's':\n",
    "            spsh = pshdat[:, uni_inv]\n",
    "            sompsh = som_psh\n",
    "        elif model == 'som':\n",
    "            sompsh = pshdat[:, uni_inv]\n",
    "            spsh = s_psh\n",
    "        else:\n",
    "            spsh = s_psh\n",
    "            sompsh = som_psh\n",
    "\n",
    "        if model == '':\n",
    "            pc_psi = stats.poisson.pmf(counts[np.newaxis, :], np.trapz(psh * fluxes[:, np.newaxis] * p['exposure'] * p['fwimp'], fluxes[:, np.newaxis], axis=0)[:, np.newaxis])\n",
    "        else:\n",
    "            pc_psi = integrate.simps(pshdat[..., np.newaxis] * stats.poisson.pmf(counts[np.newaxis, np.newaxis, :], p['exposure'] * p['fwimp'] * fluxes[:, np.newaxis, np.newaxis]), fluxes, axis=0)\n",
    "            pc_psi /= np.sum(pc_psi, axis=-1)[:, np.newaxis]\n",
    "\n",
    "        print('is pc norm', np.allclose(np.sum(pc_psi, axis=-1), 1))\n",
    "        print('last pc prob', pc_psi[:, -1])\n",
    "\n",
    "        pc_of_psi = pc_psi[uni_inv]\n",
    "\n",
    "        # generate sky map\n",
    "        subcounts = pd.generate_skymap_sample_pc(p, pc_of_psi, ang_dists[good_indices], good_indices, return_subcounts=True, save_output=True, bg_counts=bg_count)\n",
    "\n",
    "        print('generated skymap with', p['fwimp'])\n",
    "        print('max counts', counts[-1], subcounts.max())\n",
    "\n",
    "        if model == 'minimize':\n",
    "            from scipy.optimize import minimize\n",
    "\n",
    "#             indmax = np.unravel_index(np.argmin(s_S, axis=None), s_S.shape)\n",
    "\n",
    "            s_max = minimize(pd.likelihood2d, [exposure_search[0], p['beg'], p['fwimp']], args=(spsh, subcounts.astype(np.int16), s_fluxes, iso_bg, gal_bg), method='Nelder-Mead')\n",
    "            print('swave\\t', s_max)\n",
    "\n",
    "            som_max = minimize(pd.likelihood2d, [exposure_search[0], p['beg'], p['fwimp']], args=(sompsh, subcounts.astype(np.int16), som_fluxes, iso_bg, gal_bg), method='Nelder-Mead')\n",
    "            print('som\\t', som_max)\n",
    "\n",
    "            poi_max = minimize(pd.poisson_likelihood2d, [exposure_search[0], p['beg'], p['fwimp']], args=(psh, subcounts.astype(np.int16), fluxes, iso_bg, gal_bg), method='Nelder-Mead')\n",
    "            print('poi\\t', poi_max)\n",
    "            return None\n",
    "\n",
    "        for j, beg in enumerate(begs):\n",
    "            for k, fwimp in enumerate(fwimps):\n",
    "                S = pd.likelihood2d([exposure, beg, fwimp * s_fwimp_rescale], spsh, subcounts.astype(np.int16), s_fluxes, eg_bg_count=iso_bg, g_bg_count=gal_bg)\n",
    "                s_S[i, j, k] = S\n",
    "\n",
    "                S = pd.likelihood2d([exposure, beg, fwimp * som_fwimp_rescale], sompsh, subcounts.astype(np.int16), som_fluxes, eg_bg_count=iso_bg, g_bg_count=gal_bg)\n",
    "                som_S[i, j, k] = S\n",
    "\n",
    "                S = pd.poisson_likelihood2d([exposure, beg, fwimp/poisson_rescale], psh, subcounts.astype(np.int16), fluxes, eg_bg_count=iso_bg, g_bg_count=gal_bg)\n",
    "                poisson_S[i, j, k] = S\n",
    "\n",
    "        print(i+1, '/', len(exposure_search))\n",
    "        \n",
    "    return [s_S, som_S, poisson_S]"
   ]
  },
  {
   "cell_type": "code",
   "execution_count": 8,
   "metadata": {},
   "outputs": [],
   "source": [
    "# SS = [[],[],[]]\n",
    "\n",
    "# # import pickle\n",
    "# # with open('./output/param_scan.pickle', 'rb') as infile:\n",
    "# #     SS = pickle.load(infile)\n",
    "\n",
    "# SS[0] = likelihood_run_for_model_2d(p, s_psh, s_fluxes, model='s')\n",
    "\n",
    "# fwimp_orig = p['fwimp']\n",
    "# # p['fwimp'] *= som_fwimp_rescale\n",
    "# # fwimps *= som_fwimp_rescale\n",
    "\n",
    "# SS[1] = likelihood_run_for_model_2d(p, som_psh, som_fluxes, model='som')\n",
    "\n",
    "# # p['fwimp'] /= 1e100\n",
    "# # fwimps /= som_fwimp_rescale\n",
    "\n",
    "# SS[2] = likelihood_run_for_model_2d(p, som_psh, som_fluxes, model='')\n",
    "\n",
    "# # p['fwimp'] = fwimp_orig\n",
    "\n",
    "# import pickle\n",
    "# with open('./output/param_scan_5exposure.pickle', 'wb') as outfile:\n",
    "#     pickle.dump(SS, outfile)"
   ]
  },
  {
   "cell_type": "code",
   "execution_count": 9,
   "metadata": {},
   "outputs": [],
   "source": [
    "import pickle\n",
    "with open('./output/param_scan.pickle', 'rb') as infile:\n",
    "    SS = pickle.load(infile)"
   ]
  },
  {
   "cell_type": "code",
   "execution_count": 10,
   "metadata": {},
   "outputs": [
    {
     "name": "stdout",
     "output_type": "stream",
     "text": [
      "371129.86445174814 1.7286542486068095 1.00635593220339\n",
      "371000.8326034535 1.2899993570268486 1.039406779661017\n",
      "370988.43001891277 0.4000505921313106 1.0673728813559322\n",
      "370777.1509498139 1.0822268570686757 1.034322033898305\n",
      "370530.06146887486 2.060531814248818 0.9885593220338983\n",
      "370565.61705426086 1.8328708604126818 0.9987288135593221\n",
      "370217.5830618333 0.3165337349869283 1.0622881355932203\n",
      "370018.80912107934 0.3165337349869283 1.0622881355932203\n",
      "369969.1470411633 0.9626553965148584 1.034322033898305\n"
     ]
    }
   ],
   "source": [
    "for ss in SS:\n",
    "    for s in ss:\n",
    "        indmax = np.unravel_index(np.argmin(s, axis=None), s.shape)\n",
    "        print(np.amin(s), fwimps[indmax[2]], begs[indmax[1]])"
   ]
  },
  {
   "cell_type": "code",
   "execution_count": null,
   "metadata": {},
   "outputs": [],
   "source": []
  },
  {
   "cell_type": "code",
   "execution_count": 30,
   "metadata": {},
   "outputs": [
    {
     "name": "stdout",
     "output_type": "stream",
     "text": [
      "[185560.93222587407, 185563.93222587407]\n",
      "[ 0.   0.5  2.   4.5  8.  12.5]\n",
      "[185496.41630172674, 185499.41630172674]\n",
      "[ 0.   0.5  2.   4.5  8.  12.5]\n",
      "[185490.21500945638, 185493.21500945638]\n",
      "[ 0.   0.5  2.   4.5  8.  12.5]\n",
      "[185384.57547490695, 185387.57547490695]\n",
      "[ 0.   0.5  2.   4.5  8.  12.5]\n",
      "[185261.03073443743, 185264.03073443743]\n",
      "[ 0.   0.5  2.   4.5  8.  12.5]\n",
      "[185278.80852713043, 185281.80852713043]\n",
      "[ 0.   0.5  2.   4.5  8.  12.5]\n",
      "[185104.79153091664, 185107.79153091664]\n",
      "[ 0.   0.5  2.   4.5  8.  12.5]\n",
      "[185005.40456053967, 185008.40456053967]\n",
      "[ 0.   0.5  2.   4.5  8.  12.5]\n",
      "[184980.57352058165, 184983.57352058165]\n",
      "[ 0.   0.5  2.   4.5  8.  12.5]\n",
      "1.78\n"
     ]
    },
    {
     "data": {
      "image/png": "[encoded data removed]",
      "text/plain": [
       "<Figure size 864x432 with 12 Axes>"
      ]
     },
     "metadata": {
      "needs_background": "light"
     },
     "output_type": "display_data"
    }
   ],
   "source": [
    "fig, axss = plt.subplots(ncols=3, nrows=3, figsize=(12, 6), sharey=True, sharex=True, gridspec_kw={'wspace': 0, 'hspace': 0})\n",
    "i = 0\n",
    "lw = 5\n",
    "zorder = 1\n",
    "# p['fwimp'] *= 1e98\n",
    "# print(p['fwimp'])\n",
    "# shift_som = 1 / 0.0209\n",
    "\n",
    "from matplotlib import cm\n",
    "cmap = cm.magma_r\n",
    "axs = axss[0]\n",
    "levels = [0, 1/2, 4/2, 9/2, 16/2, 25/2]\n",
    "\n",
    "# fwimps /= 8 * np.pi\n",
    "# p['fwimp'] /= 8 * np.pi\n",
    "for i in range(3):\n",
    "    for ax, s, lab in zip(axss[i], SS[i], ['s-wave L', 'som L', 'poisson L']):\n",
    "        colors = iter(['xkcd:mulberry', 'xkcd:wheat', 'xkcd:mossy green', 'xkcd:cool blue', 'xkcd:blush pink'])\n",
    "        \n",
    "        for expdat, expo in zip(s, exposure_search):\n",
    "            indmax = np.unravel_index(np.argmin(expdat, axis=None), expdat.shape)\n",
    "#             ax.contourf(fwimps / p['fwimp'], begs, np.exp(-0.5*(expdat - expdat.min())), label=f'{expo:.2}cm2s', cmap=cmap)\n",
    "            con = ax.contourf(fwimps / p['fwimp'], begs, (0.5*(expdat - expdat.min())), cmap=cmap, levels=levels)\n",
    "            print([0.5 * expdat.min() - 4, 0.5 * expdat.min() - 1])\n",
    "            print(con.levels)\n",
    "            ax.axvline(p['fwimp'] / p['fwimp'], ls='--', color='xkcd:steel gray')\n",
    "            ax.axhline(1, ls='--', color='xkcd:steel gray')\n",
    "#             ax.plot(fwimps[indmax[1]]/100, begs[indmax[0]], marker='*', color='xkcd:barbie pink', ms=10)\n",
    "#             ax.plot(fwimps/100, expdat - expdat.min(), label=f'{expo:.2}cm2s')\n",
    "#             print(lab, expdat.min(),  '\\t', fwimps[np.exp(-0.5*(expdat - expdat.min())).argmax()]/100)\n",
    "\n",
    "        ax.set_xscale('log')\n",
    "\n",
    "# for ax, s, lab in zip(axs, SS[0], ['s-wave L', 'som L', 'poisson L']):\n",
    "#     colors = iter(['xkcd:mulberry', 'xkcd:wheat', 'xkcd:mossy green', 'xkcd:cool blue', 'xkcd:blush pink'])\n",
    "#     for expdat, expo in zip(s, exposure_search):\n",
    "#         indmax = np.unravel_index(np.argmin(expdat, axis=None), expdat.shape)\n",
    "#         if lab == 'som L':\n",
    "# #             ax.contourf(fwimps / p['fwimp'], begs, np.exp(-0.5*(expdat - expdat.min())), label=f'{expo:.2}cm2s', cmap=cmap)\n",
    "#             ax.contourf(fwimps / p['fwimp'], begs, (-0.5*(expdat - expdat.min())), label=f'{expo:.2}cm2s', cmap=cmap)\n",
    "#             ax.axvline(p['fwimp'] / p['fwimp'], ls='--', color='xkcd:steel gray')\n",
    "#             ax.axhline(1, ls='--', color='xkcd:steel gray')\n",
    "# #             ax.plot(fwimps[indmax[1]]/100, begs[indmax[0]], marker='*', color='xkcd:barbie pink', ms=10)\n",
    "# #             ax.plot(fwimps/100, expdat - expdat.min(), label=f'{expo:.2}cm2s')\n",
    "# #             print(lab, expdat.min(),  '\\t', fwimps[np.exp(-0.5*(expdat - expdat.min())).argmax()]/100)\n",
    "#         else:\n",
    "# #             ax.contourf(fwimps / p['fwimp'], begs, np.exp(-0.5*(expdat - expdat.min())), label=f'{expo:.2}cm2s', cmap=cmap)\n",
    "#             ax.contourf(fwimps / p['fwimp'], begs, (-0.5*(expdat - expdat.min())), label=f'{expo:.2}cm2s', cmap=cmap)\n",
    "#             ax.axvline(p['fwimp'] / p['fwimp'], ls='--', color='xkcd:steel gray')\n",
    "#             ax.axhline(1, ls='--', color='xkcd:steel gray')\n",
    "# #             ax.plot(fwimps[indmax[1]], begs[indmax[0]], marker='*', color='xkcd:barbie pink', ms=10)\n",
    "# #             ax.plot(fwimps, expdat - expdat.min(), label=f'{expo:.2}cm2s')\n",
    "# #             print(lab, expdat.min(),  '\\t', fwimps[np.exp(-0.5*(expdat - expdat.min())).argmax()])\n",
    "\n",
    "#     ax.set_xscale('log')\n",
    "    \n",
    "# axs = axss[1]\n",
    "# # p['fwimp'] /=100\n",
    "# for ax, s, lab in zip(axs, SS[1], ['s-wave L', 'som L', 'poisson L']):\n",
    "#     colors = iter(['xkcd:mulberry', 'xkcd:wheat', 'xkcd:mossy green', 'xkcd:cool blue', 'xkcd:blush pink'])\n",
    "#     for expdat, expo in zip(s, exposure_search):\n",
    "#         indmax = np.unravel_index(np.argmin(expdat, axis=None), expdat.shape)\n",
    "#         if lab == 'som L' or lab == 'poisson L':\n",
    "# #             ax.contourf(fwimps / p['fwimp'], begs, np.exp(-0.5*(expdat - expdat.min())), label=f'{expo:.2}cm2s', cmap=cmap)\n",
    "#             ax.contourf(fwimps / p['fwimp'], begs, (-0.5*(expdat - expdat.min())), label=f'{expo:.2}cm2s', cmap=cmap)\n",
    "#             ax.axvline(p['fwimp'] / p['fwimp'], ls='--', color='xkcd:steel gray')\n",
    "#             ax.axhline(1, ls='--', color='xkcd:steel gray')\n",
    "# #             ax.plot(fwimps[indmax[1]]/100, begs[indmax[0]], marker='*', color='xkcd:barbie pink', ms=10)\n",
    "# #             ax.plot(fwimps/100, expdat - expdat.min(), label=f'{expo:.2}cm2s')\n",
    "# #             print(lab, expdat.min(),  '\\t', fwimps[np.exp(-0.5*(expdat - expdat.min())).argmax()]/100)\n",
    "#         else:\n",
    "# #             ax.contourf(fwimps / p['fwimp'], begs, np.exp(-0.5*(expdat - expdat.min())), label=f'{expo:.2}cm2s', cmap=cmap)\n",
    "#             ax.contourf(fwimps / p['fwimp'], begs, (-0.5*(expdat - expdat.min())), label=f'{expo:.2}cm2s', cmap=cmap)\n",
    "#             ax.axvline(p['fwimp'] / p['fwimp'], ls='--', color='xkcd:steel gray')\n",
    "#             ax.axhline(1, ls='--', color='xkcd:steel gray')\n",
    "# #             ax.plot(fwimps[indmax[1]], begs[indmax[0]], marker='*', color='xkcd:barbie pink', ms=10)\n",
    "# #             ax.plot(fwimps, expdat - expdat.min(), label=f'{expo:.2}cm2s')\n",
    "# #             print(lab, expdat.min(),  '\\t', fwimps[np.exp(-0.5*(expdat - expdat.min())).argmax()])\n",
    "\n",
    "#     ax.set_xscale('log')\n",
    "    \n",
    "# axs = axss[2]\n",
    "# # p['fwimp'] /=100\n",
    "# for ax, s, lab in zip(axs, SS[2], ['s-wave L', 'som L', 'poisson L']):\n",
    "#     colors = iter(['xkcd:mulberry', 'xkcd:wheat', 'xkcd:mossy green', 'xkcd:cool blue', 'xkcd:blush pink'])\n",
    "#     for expdat, expo in zip(s, exposure_search):\n",
    "#         indmax = np.unravel_index(np.argmin(expdat, axis=None), expdat.shape)\n",
    "#         if lab == 'som L' or lab == 'poisson L':\n",
    "# #             ax.contourf(fwimps / p['fwimp'], begs, np.exp(-0.5*(expdat - expdat.min())), label=f'{expo:.2}cm2s', cmap=cmap)\n",
    "#             ax.contourf(fwimps / p['fwimp'], begs, (-0.5*(expdat - expdat.min())), label=f'{expo:.2}cm2s', cmap=cmap)\n",
    "#             ax.axvline(p['fwimp'] / p['fwimp'], ls='--', color='xkcd:steel gray')\n",
    "#             ax.axhline(1, ls='--', color='xkcd:steel gray')\n",
    "# #             ax.plot(fwimps[indmax[1]]/100, begs[indmax[0]], marker='*', color='xkcd:barbie pink', ms=10)\n",
    "# #             ax.plot(fwimps/100, expdat - expdat.min(), label=f'{expo:.2}cm2s')\n",
    "# #             print(lab, expdat.min(),  '\\t', fwimps[np.exp(-0.5*(expdat - expdat.min())).argmax()]/100)\n",
    "#         else:\n",
    "# #             ax.contourf(fwimps / p['fwimp'], begs, np.exp(-0.5*(expdat - expdat.min())), label=f'{expo:.2}cm2s', cmap=cmap)\n",
    "#             ax.contourf(fwimps / p['fwimp'], begs, (-0.5*(expdat - expdat.min())), label=f'{expo:.2}cm2s', cmap=cmap)\n",
    "#             ax.axvline(p['fwimp'] / p['fwimp'], ls='--', color='xkcd:steel gray')\n",
    "#             ax.axhline(1, ls='--', color='xkcd:steel gray')\n",
    "# #             ax.plot(fwimps[indmax[1]], begs[indmax[0]], marker='*', color='xkcd:barbie pink', ms=10)\n",
    "# #             ax.plot(fwimps, expdat - expdat.min(), label=f'{expo:.2}cm2s')\n",
    "# #             print(lab, expdat.min(),  '\\t', fwimps[np.exp(-0.5*(expdat - expdat.min())).argmax()])\n",
    "\n",
    "#     ax.set_xscale('log')\n",
    "# p['fwimp'] *= 100 \n",
    "for ax in axss[-1]:\n",
    "#     ax.set_xlabel(r'$f_\\mathrm{WIMP}$', fontsize='large')\n",
    "#     ax.set_xlabel(r'$\\Phi_\\mathrm{PP}$', fontsize='large')\n",
    "    ax.set_xlabel(r'$\\langle N\\rangle/\\langle N_\\mathrm{true}\\rangle$', fontsize='large')\n",
    "    \n",
    "axss[0, 0].set_ylabel(r'$b_\\mathrm{iso}$', fontsize='x-large')\n",
    "axss[1, 0].set_ylabel(r'$b_\\mathrm{iso}$', fontsize='x-large')\n",
    "axss[2, 0].set_ylabel(r'$b_\\mathrm{iso}$', fontsize='x-large')\n",
    "\n",
    "ax = axss[0, -1].twinx()\n",
    "ax.set_ylabel('$s$-wave data', rotation=270, labelpad=15)\n",
    "ax.tick_params(axis='y', right=False, labelright=False)\n",
    "\n",
    "ax = axss[1, -1].twinx()\n",
    "ax.set_ylabel('Sommerfeld data', rotation=270, labelpad=15)\n",
    "ax.tick_params(axis='y', right=False, labelright=False)\n",
    "\n",
    "ax = axss[2, -1].twinx()\n",
    "ax.set_ylabel('Poisson data', rotation=270, labelpad=15)\n",
    "ax.tick_params(axis='y', right=False, labelright=False)\n",
    "\n",
    "axss[0, 0].set_title(r'$s$-wave model')\n",
    "axss[0, 1].set_title('Sommerfeld model')\n",
    "axss[0, 2].set_title('Poisson model')\n",
    "    \n",
    "# axss.flatten()[-1].legend()\n",
    "#     ax.set_yscale('log')\n",
    "#     ax.set_ylim(bottom=0, top=10)\n",
    "print(p['fwimp'])\n",
    "fig.savefig('./output/plots/llhds_2d.pdf')"
   ]
  },
  {
   "cell_type": "markdown",
   "metadata": {},
   "source": [
    "Add:\n",
    "- Float beg but fix bg to 0.97\n",
    "- Float beg w/ same bg\n",
    "- Generate w/ no DM signal and fit s/som/poi (null test)\n",
    "- Add to overleaf\n",
    "- "
   ]
  },
  {
   "cell_type": "code",
   "execution_count": 12,
   "metadata": {},
   "outputs": [
    {
     "name": "stdout",
     "output_type": "stream",
     "text": [
      "35.55558538599871\n"
     ]
    },
    {
     "name": "stderr",
     "output_type": "stream",
     "text": [
      "findfont: Font family ['serif'] not found. Falling back to DejaVu Sans.\n"
     ]
    },
    {
     "data": {
      "image/png": "[encoded data removed]",
      "text/plain": [
       "<Figure size 1008x288 with 2 Axes>"
      ]
     },
     "metadata": {
      "needs_background": "light"
     },
     "output_type": "display_data"
    }
   ],
   "source": [
    "fig, axs = plt.subplots(ncols=2, figsize=(14,4), sharey=True, sharex=True)\n",
    "\n",
    "ax = axs[0]\n",
    "s_S, som_S, poisson_S = SS[0]\n",
    "max_swave = np.amin(s_S)\n",
    "max_som = np.amin(som_S)\n",
    "max_poi = np.amin(poisson_S)\n",
    "ax.plot(exposure_search, -max_swave + max_som, ls='', marker='*', color='xkcd:royal purple', label=r'$\\mathcal{S}_{min}^{som} - \\mathcal{S}_{min}^{s}$')\n",
    "ax.plot(exposure_search, -max_swave + max_poi, ls='', marker='*', color='xkcd:terra cotta', label=r'$\\mathcal{S}_{min}^{poi} - \\mathcal{S}_{min}^{s}$')\n",
    "# ax.plot(exposure_search, max_som - max_poi, ls='', marker='*', color='xkcd:pink', label=r'$\\mathcal{S}_{min}^{som} - \\mathcal{S}_{min}^{poi}$')\n",
    "ax.set_xscale('symlog')\n",
    "ax.set_yscale('symlog')\n",
    "ax.grid()\n",
    "# ax.set_ylim(bottom=10)\n",
    "ax.set_ylabel(r'$\\Delta\\mathcal{S}_{min}$', fontsize='x-large')\n",
    "ax.set_xlabel(r'Exposure', fontsize='x-large')\n",
    "ax.legend()\n",
    " \n",
    "ax = axs[1]\n",
    "s_S, som_S, poisson_S = SS[1]\n",
    "max_swave = np.amin(s_S)\n",
    "max_som = np.amin(som_S)\n",
    "max_poi = np.amin(poisson_S)\n",
    "ax.plot(exposure_search, max_swave - max_som, ls='', marker='*', color='xkcd:royal purple', label=r'$\\mathcal{S}_{min}^{s} - \\mathcal{S}_{min}^{som}$')\n",
    "# ax.plot(exposure_search, max_swave - max_poi, ls='', marker='*', color='xkcd:terra cotta', label=r'$\\mathcal{S}_{min}^{s} - \\mathcal{S}_{min}^{poi}$')\n",
    "ax.plot(exposure_search, - max_som + max_poi, ls='', marker='*', color='xkcd:pink', label=r'$\\mathcal{S}_{min}^{poi} - \\mathcal{S}_{min}^{som}$')\n",
    "ax.set_xscale('symlog')\n",
    "ax.set_yscale('symlog')\n",
    "ax.grid()\n",
    "# ax.set_ylim(bottom=10)\n",
    "ax.set_ylabel(r'$\\Delta\\mathcal{S}_{min}$', fontsize='x-large')\n",
    "ax.set_xlabel(r'Exposure', fontsize='x-large')\n",
    "ax.legend()\n",
    "print(max_poi - max_som)\n",
    "axs[0].set_title('s-wave data')\n",
    "axs[1].set_title('som data')\n",
    "\n",
    "fig.savefig('./output/deltaS_2d.pdf')"
   ]
  },
  {
   "cell_type": "code",
   "execution_count": null,
   "metadata": {},
   "outputs": [],
   "source": []
  },
  {
   "cell_type": "code",
   "execution_count": null,
   "metadata": {},
   "outputs": [],
   "source": []
  },
  {
   "cell_type": "code",
   "execution_count": null,
   "metadata": {},
   "outputs": [],
   "source": []
  },
  {
   "cell_type": "code",
   "execution_count": null,
   "metadata": {},
   "outputs": [],
   "source": []
  },
  {
   "cell_type": "code",
   "execution_count": 13,
   "metadata": {},
   "outputs": [
    {
     "ename": "NameError",
     "evalue": "name 'mean' is not defined",
     "output_type": "error",
     "traceback": [
      "\u001b[0;31m---------------------------------------------------------------------------\u001b[0m",
      "\u001b[0;31mNameError\u001b[0m                                 Traceback (most recent call last)",
      "\u001b[0;32m<ipython-input-13-7e9142c96970>\u001b[0m in \u001b[0;36m<module>\u001b[0;34m\u001b[0m\n\u001b[1;32m      1\u001b[0m \u001b[0mfig\u001b[0m\u001b[0;34m,\u001b[0m \u001b[0maxs\u001b[0m \u001b[0;34m=\u001b[0m \u001b[0mplt\u001b[0m\u001b[0;34m.\u001b[0m\u001b[0msubplots\u001b[0m\u001b[0;34m(\u001b[0m\u001b[0mncols\u001b[0m\u001b[0;34m=\u001b[0m\u001b[0;36m3\u001b[0m\u001b[0;34m,\u001b[0m \u001b[0mfigsize\u001b[0m\u001b[0;34m=\u001b[0m\u001b[0;34m(\u001b[0m\u001b[0;36m15\u001b[0m\u001b[0;34m,\u001b[0m\u001b[0;36m4\u001b[0m\u001b[0;34m)\u001b[0m\u001b[0;34m)\u001b[0m\u001b[0;34m\u001b[0m\u001b[0;34m\u001b[0m\u001b[0m\n\u001b[0;32m----> 2\u001b[0;31m \u001b[0maxs\u001b[0m\u001b[0;34m[\u001b[0m\u001b[0;36m0\u001b[0m\u001b[0;34m]\u001b[0m\u001b[0;34m.\u001b[0m\u001b[0mplot\u001b[0m\u001b[0;34m(\u001b[0m\u001b[0mexposure_search\u001b[0m\u001b[0;34m,\u001b[0m \u001b[0mmean\u001b[0m\u001b[0;34m,\u001b[0m \u001b[0mlabel\u001b[0m\u001b[0;34m=\u001b[0m\u001b[0;34m'mean'\u001b[0m\u001b[0;34m,\u001b[0m \u001b[0mmarker\u001b[0m\u001b[0;34m=\u001b[0m\u001b[0;34m'o'\u001b[0m\u001b[0;34m,\u001b[0m \u001b[0mms\u001b[0m\u001b[0;34m=\u001b[0m\u001b[0;36m10\u001b[0m\u001b[0;34m)\u001b[0m\u001b[0;34m\u001b[0m\u001b[0;34m\u001b[0m\u001b[0m\n\u001b[0m\u001b[1;32m      3\u001b[0m \u001b[0maxs\u001b[0m\u001b[0;34m[\u001b[0m\u001b[0;36m0\u001b[0m\u001b[0;34m]\u001b[0m\u001b[0;34m.\u001b[0m\u001b[0mset_title\u001b[0m\u001b[0;34m(\u001b[0m\u001b[0;34m'mean counts'\u001b[0m\u001b[0;34m)\u001b[0m\u001b[0;34m\u001b[0m\u001b[0;34m\u001b[0m\u001b[0m\n\u001b[1;32m      4\u001b[0m \u001b[0maxs\u001b[0m\u001b[0;34m[\u001b[0m\u001b[0;36m1\u001b[0m\u001b[0;34m]\u001b[0m\u001b[0;34m.\u001b[0m\u001b[0mplot\u001b[0m\u001b[0;34m(\u001b[0m\u001b[0mexposure_search\u001b[0m\u001b[0;34m,\u001b[0m \u001b[0mmeanpc\u001b[0m\u001b[0;34m,\u001b[0m \u001b[0mlabel\u001b[0m\u001b[0;34m=\u001b[0m\u001b[0;34m'P(C) mean'\u001b[0m\u001b[0;34m,\u001b[0m \u001b[0mmarker\u001b[0m\u001b[0;34m=\u001b[0m\u001b[0;34m'o'\u001b[0m\u001b[0;34m,\u001b[0m \u001b[0mms\u001b[0m\u001b[0;34m=\u001b[0m\u001b[0;36m10\u001b[0m\u001b[0;34m)\u001b[0m\u001b[0;34m\u001b[0m\u001b[0;34m\u001b[0m\u001b[0m\n\u001b[1;32m      5\u001b[0m \u001b[0maxs\u001b[0m\u001b[0;34m[\u001b[0m\u001b[0;36m1\u001b[0m\u001b[0;34m]\u001b[0m\u001b[0;34m.\u001b[0m\u001b[0mset_title\u001b[0m\u001b[0;34m(\u001b[0m\u001b[0;34m'mean P(C)'\u001b[0m\u001b[0;34m)\u001b[0m\u001b[0;34m\u001b[0m\u001b[0;34m\u001b[0m\u001b[0m\n",
      "\u001b[0;31mNameError\u001b[0m: name 'mean' is not defined"
     ]
    },
    {
     "data": {
      "image/png": "[encoded data removed]",
      "text/plain": [
       "<Figure size 1080x288 with 3 Axes>"
      ]
     },
     "metadata": {
      "needs_background": "light"
     },
     "output_type": "display_data"
    }
   ],
   "source": [
    "fig, axs = plt.subplots(ncols=3, figsize=(15,4))\n",
    "axs[0].plot(exposure_search, mean, label='mean', marker='o', ms=10)\n",
    "axs[0].set_title('mean counts')\n",
    "axs[1].plot(exposure_search, meanpc, label='P(C) mean', marker='o', ms=10)\n",
    "axs[1].set_title('mean P(C)')\n",
    "axs[2].plot(exposure_search, total, label='P(C) mean', marker='o', ms=10)\n",
    "axs[2].set_title('total counts')"
   ]
  },
  {
   "cell_type": "code",
   "execution_count": null,
   "metadata": {},
   "outputs": [],
   "source": [
    "fig, ax = plt.subplots(figsize=(6, 4))\n",
    "# ax.set_ylim(bottom=0, top=)\n",
    "ax.set_yscale('log')\n",
    "ax.set_ylabel('Exposure [cm2 s]')\n",
    "ax.set_xscale('log')\n",
    "ax.set_xlabel('fwimp')\n",
    "pc = ax.pcolormesh(fwimps, exposure_search, np.log10(s_S), cmap=cm.jet, shading='auto')\n",
    "fig.colorbar(pc, label='S for s-wave');"
   ]
  },
  {
   "cell_type": "code",
   "execution_count": null,
   "metadata": {},
   "outputs": [],
   "source": [
    "max_swave = np.amin(s_S, axis=-1)\n",
    "max_som = np.amin(som_S, axis=-1)\n",
    "max_poi = np.amin(poisson_S, axis=-1)"
   ]
  },
  {
   "cell_type": "code",
   "execution_count": null,
   "metadata": {},
   "outputs": [],
   "source": []
  }
 ],
 "metadata": {
  "kernelspec": {
   "display_name": "Python 3",
   "language": "python",
   "name": "python3"
  },
  "language_info": {
   "codemirror_mode": {
    "name": "ipython",
    "version": 3
   },
   "file_extension": ".py",
   "mimetype": "text/x-python",
   "name": "python",
   "nbconvert_exporter": "python",
   "pygments_lexer": "ipython3",
   "version": "3.8.10"
  }
 },
 "nbformat": 4,
 "nbformat_minor": 4
}
