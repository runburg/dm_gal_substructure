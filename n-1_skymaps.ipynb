{
 "cells": [
  {
   "cell_type": "code",
   "execution_count": 1,
   "metadata": {},
   "outputs": [],
   "source": [
    "import sys\n",
    "\n",
    "sys.path.append('./source/')"
   ]
  },
  {
   "cell_type": "code",
   "execution_count": 2,
   "metadata": {},
   "outputs": [
    {
     "data": {
      "text/html": [
       "<style>.container { width:100% !important; }</style>"
      ],
      "text/plain": [
       "<IPython.core.display.HTML object>"
      ]
     },
     "metadata": {},
     "output_type": "display_data"
    }
   ],
   "source": [
    "import matplotlib.pyplot as plt\n",
    "import numpy as np\n",
    "from scipy import integrate, stats\n",
    "import matplotlib.cm as cm\n",
    "from numpy import fft\n",
    "from scipy import interpolate as intp\n",
    "import importlib\n",
    "\n",
    "\n",
    "from source import plots\n",
    "from source import prob_dists as pd\n",
    "from utils import read_param_file, update_params\n",
    "\n",
    "\n",
    "from IPython.core.display import display, HTML\n",
    "display(HTML(\"<style>.container { width:100% !important; }</style>\"))"
   ]
  },
  {
   "cell_type": "code",
   "execution_count": null,
   "metadata": {},
   "outputs": [],
   "source": []
  },
  {
   "cell_type": "code",
   "execution_count": 3,
   "metadata": {},
   "outputs": [
    {
     "data": {
      "text/plain": [
       "{'R_G': 220,\n",
       " 'd_solar': 8.5,\n",
       " 'psi': 40,\n",
       " 'M_min': 0.01,\n",
       " 'M_max': 10000000000.0,\n",
       " 'fwimp': 1.0,\n",
       " 'mean_params': {'a': 77.4, 'b': 0.56, 'c': -0.19},\n",
       " 'nside': 128,\n",
       " 'area_fermi': 6000.0,\n",
       " 'n': -1,\n",
       " 'log_flux_min': -13,\n",
       " 'log_flux_max': -4,\n",
       " 'N': 5000,\n",
       " 'log_k_min': 0,\n",
       " 'log_k_max': 5,\n",
       " 'N_k': 250000,\n",
       " 'psh_log_f_min': -3,\n",
       " 'psh_log_f_max': -2,\n",
       " 'N_psh': 500,\n",
       " 'omega_pixel': 6.391586616190171e-05,\n",
       " 'exposure': 5600.0}"
      ]
     },
     "execution_count": 3,
     "metadata": {},
     "output_type": "execute_result"
    }
   ],
   "source": [
    "param_file = './source/n-1.params'\n",
    "params = read_param_file(param_file)\n",
    "p = params\n",
    "p"
   ]
  },
  {
   "cell_type": "code",
   "execution_count": 4,
   "metadata": {},
   "outputs": [],
   "source": [
    "p = update_params(param_file, p, 'exposure', 1 * 14000 * 0.2/0.5)"
   ]
  },
  {
   "cell_type": "code",
   "execution_count": 4,
   "metadata": {},
   "outputs": [],
   "source": [
    "with np.load('./output/n-1_pshfunc.npz') as f:\n",
    "    psi = f['psi']\n",
    "    fluxes = f['flux']\n",
    "    psh2d = f['psh']"
   ]
  },
  {
   "cell_type": "code",
   "execution_count": 5,
   "metadata": {},
   "outputs": [
    {
     "data": {
      "text/plain": [
       "-2.2208835341365463"
      ]
     },
     "execution_count": 5,
     "metadata": {},
     "output_type": "execute_result"
    }
   ],
   "source": [
    "pshfunc2d = intp.interp2d(psi, fluxes, np.nan_to_num(psh2d), bounds_error=False, fill_value=0)\n",
    "fluxes = fluxes[20:-55]\n",
    "np.log10(fluxes[-1])"
   ]
  },
  {
   "cell_type": "code",
   "execution_count": 6,
   "metadata": {},
   "outputs": [
    {
     "name": "stdout",
     "output_type": "stream",
     "text": [
      "0.0013062415315807255\n",
      "0.0003446061453300707\n",
      "6.104782706161911e-07\n",
      "-5.687361041587916e-09\n",
      "-6.042744321202541e-09\n",
      "-6.282814727782615e-09\n",
      "-6.485047779088431e-09\n",
      "-6.657291247421329e-09\n",
      "-6.79923253076711e-09\n",
      "-6.9153461434298e-09\n",
      "-7.015137505592715e-09\n",
      "-7.100222619971921e-09\n",
      "-7.169176079964476e-09\n",
      "-7.2253878187826575e-09\n",
      "-7.271288586405784e-09\n",
      "-7.307308099736501e-09\n",
      "-7.3333612169740915e-09\n",
      "-7.354490284948478e-09\n",
      "-7.3680821107739935e-09\n",
      "-7.371652216201044e-09\n"
     ]
    },
    {
     "data": {
      "text/plain": [
       "[Text(1, 0, '40.0'),\n",
       " Text(1, 0, '50.0'),\n",
       " Text(1, 0, '60.0'),\n",
       " Text(1, 0, '70.0'),\n",
       " Text(1, 0, '80.0'),\n",
       " Text(1, 0, '90.0'),\n",
       " Text(1, 0, '100.0'),\n",
       " Text(1, 0, '110.0'),\n",
       " Text(1, 0, '120.0'),\n",
       " Text(1, 0, '130.0'),\n",
       " Text(1, 0, '140.0'),\n",
       " Text(1, 0, '150.0'),\n",
       " Text(1, 0, '160.0'),\n",
       " Text(1, 0, '170.0'),\n",
       " Text(1, 0, '180.0')]"
      ]
     },
     "execution_count": 6,
     "metadata": {},
     "output_type": "execute_result"
    },
    {
     "data": {
      "image/png": "[encoded data removed]",
      "text/plain": [
       "<Figure size 432x288 with 2 Axes>"
      ]
     },
     "metadata": {
      "needs_background": "light"
     },
     "output_type": "display_data"
    }
   ],
   "source": [
    "numnum = 20\n",
    "psis = np.linspace(40, 180, num=numnum)\n",
    "colors = cm.viridis(np.linspace(0, 1, num=numnum))\n",
    "\n",
    "fig, ax = plt.subplots()\n",
    "\n",
    "psh_vals_over_psi = []\n",
    "fxs = fluxes\n",
    "for psi, col in zip(psis, colors):\n",
    "    ax.plot(fxs, fxs * pshfunc2d(psi, fxs).flatten(), label=rf\"{psi}$^\\circ$\", color=col, lw=0.5)\n",
    "    print(np.trapz(fxs * pshfunc2d(psi, fxs).flatten(), fxs))\n",
    "   \n",
    "ax.set_xscale('log')\n",
    "ax.set_yscale('log')\n",
    "ax.set_xlabel('F')\n",
    "ax.set_ylabel('F x Psh')\n",
    "cbarlabs = np.arange(min(psis), max(psis)+1, step=10)\n",
    "cbar = fig.colorbar(cm.ScalarMappable(cmap=cm.viridis), ticks=np.linspace(0, 1, num=len(cbarlabs)))\n",
    "cbar.set_label(r'$\\psi$[$^\\circ$]', rotation=270)\n",
    "cbar.ax.set_yticklabels(cbarlabs)"
   ]
  },
  {
   "cell_type": "code",
   "execution_count": 7,
   "metadata": {},
   "outputs": [
    {
     "data": {
      "text/plain": [
       "((175, 20), (20,), (175,))"
      ]
     },
     "execution_count": 7,
     "metadata": {},
     "output_type": "execute_result"
    }
   ],
   "source": [
    "pshfunc2d(psis, fluxes).shape, psis.shape, fluxes.shape"
   ]
  },
  {
   "cell_type": "code",
   "execution_count": 42,
   "metadata": {},
   "outputs": [
    {
     "name": "stdout",
     "output_type": "stream",
     "text": [
      "40.0 [0.]\n",
      "47.368421052631575 [0.]\n",
      "54.73684210526316 [0.]\n",
      "62.10526315789474 [-1.88965534e-07]\n",
      "69.47368421052632 [-8.50344904e-07]\n",
      "76.84210526315789 [3.41750208e-05]\n",
      "84.21052631578948 [0.00205905]\n",
      "91.57894736842105 [0.03003362]\n",
      "98.94736842105263 [0.14769253]\n",
      "106.3157894736842 [0.21650467]\n",
      "113.68421052631578 [0.18463819]\n",
      "121.05263157894737 [0.16058545]\n",
      "128.42105263157896 [0.1421443]\n",
      "135.78947368421052 [0.12528813]\n",
      "143.1578947368421 [0.11196106]\n",
      "150.5263157894737 [0.10364911]\n",
      "157.89473684210526 [0.10685565]\n",
      "165.26315789473682 [0.11487367]\n",
      "172.6315789473684 [0.12311445]\n",
      "180.0 [0.12829194]\n"
     ]
    }
   ],
   "source": [
    "for psi in psis:\n",
    "    minn = pshfunc2d(psi, fluxes).argmin()\n",
    "    print(psi, pshfunc2d(psi, fluxes)[minn])"
   ]
  },
  {
   "cell_type": "code",
   "execution_count": 10,
   "metadata": {},
   "outputs": [],
   "source": [
    "counts = np.arange(0, 20)\n",
    "exposure = 1 * 14000 * 0.2/0.5\n",
    "psi = 40"
   ]
  },
  {
   "cell_type": "code",
   "execution_count": null,
   "metadata": {},
   "outputs": [],
   "source": []
  },
  {
   "cell_type": "code",
   "execution_count": 9,
   "metadata": {},
   "outputs": [
    {
     "name": "stdout",
     "output_type": "stream",
     "text": [
      "(20, 195) (195,)\n"
     ]
    },
    {
     "data": {
      "text/plain": [
       "array([9.02205235e-01, 8.30880381e-02, 9.19468437e-03, 2.34458514e-03,\n",
       "       1.03947659e-03, 5.74242838e-04, 3.45789201e-04, 2.13448904e-04,\n",
       "       1.30500824e-04, 7.74383053e-05, 4.40763354e-05, 2.39086045e-05,\n",
       "       1.23205500e-05, 6.02481788e-06, 2.79602611e-06, 1.23249305e-06,\n",
       "       5.16675059e-07, 2.06291374e-07, 7.85707020e-08, 2.85926260e-08])"
      ]
     },
     "execution_count": 9,
     "metadata": {},
     "output_type": "execute_result"
    }
   ],
   "source": [
    "from scipy.stats import poisson\n",
    "print(poisson.pmf(counts[:, np.newaxis], exposure * fluxes).shape, pshfunc2d(40, fluxes).flatten().shape)\n",
    "\n",
    "pcvals = np.trapz(pshfunc2d(psi, fluxes).flatten() * poisson.pmf(counts[:, np.newaxis], exposure * fluxes), fluxes, axis=-1)\n",
    "# func = pshfunc2d(40, fluxes).flatten() * poisson.pmf(2, exposure * fluxes)\n",
    "pcvals"
   ]
  },
  {
   "cell_type": "code",
   "execution_count": 17,
   "metadata": {},
   "outputs": [
    {
     "name": "stdout",
     "output_type": "stream",
     "text": [
      "0.1218517051804078\n"
     ]
    }
   ],
   "source": [
    "print(exposure*np.trapz(fluxes * pshfunc2d(40, fluxes).flatten(), fluxes))\n",
    "pp = poisson.pmf(counts, exposure*np.trapz(fluxes * pshfunc2d(40, fluxes).flatten(), fluxes))"
   ]
  },
  {
   "cell_type": "code",
   "execution_count": 18,
   "metadata": {},
   "outputs": [
    {
     "data": {
      "text/plain": [
       "Text(0, 0.5, 'P(C) for 40 deg, n=0')"
      ]
     },
     "execution_count": 18,
     "metadata": {},
     "output_type": "execute_result"
    },
    {
     "data": {
      "image/png": "[encoded data removed]",
      "text/plain": [
       "<Figure size 432x288 with 1 Axes>"
      ]
     },
     "metadata": {
      "needs_background": "light"
     },
     "output_type": "display_data"
    }
   ],
   "source": [
    "plt.plot(counts, pcvals)\n",
    "plt.plot(counts, pp)\n",
    "ax = plt.gca()\n",
    "\n",
    "ax.set_yscale('log')\n",
    "ax.set_ylim(top=1, bottom=1e-10)\n",
    "ax.set_xlim(right=20)\n",
    "ax.set_xlabel('Counts')\n",
    "ax.set_ylabel('P(C) for 40 deg, n=0')"
   ]
  },
  {
   "cell_type": "code",
   "execution_count": 10,
   "metadata": {},
   "outputs": [],
   "source": [
    "import healpy"
   ]
  },
  {
   "cell_type": "code",
   "execution_count": 11,
   "metadata": {},
   "outputs": [
    {
     "name": "stdout",
     "output_type": "stream",
     "text": [
      "196608\n"
     ]
    }
   ],
   "source": [
    "nside = p['nside']\n",
    "npix = healpy.nside2npix(nside)\n",
    "pixel_counts = np.ones(npix) * healpy.pixelfunc.UNSEEN\n",
    "print(npix)"
   ]
  },
  {
   "cell_type": "code",
   "execution_count": 21,
   "metadata": {},
   "outputs": [
    {
     "data": {
      "text/plain": [
       "(array([89.74156502, 90.25843498, 90.25843498, ..., 90.25843498,\n",
       "        90.25843498, 89.74156502]),\n",
       " array([ 45., 135., 225., ..., 135., 225., 315.]),\n",
       " array([ 89.6345165,  89.6345165,  89.6345165, ..., -89.6345165,\n",
       "        -89.6345165, -89.6345165]))"
      ]
     },
     "execution_count": 21,
     "metadata": {},
     "output_type": "execute_result"
    }
   ],
   "source": [
    "lon, lat = healpy.pix2ang(nside, range(npix), lonlat=True)\n",
    "ang_dists = np.rad2deg(np.arccos(np.cos(np.deg2rad(lon)) * np.cos(np.deg2rad(lat))))\n",
    "ang_dists, lon, lat"
   ]
  },
  {
   "cell_type": "code",
   "execution_count": 22,
   "metadata": {},
   "outputs": [
    {
     "data": {
      "text/plain": [
       "(array([ 45., 135., 225., ..., 135., 225., 315.]),\n",
       " array([ 89.6345165,  89.6345165,  89.6345165, ..., -89.6345165,\n",
       "        -89.6345165, -89.6345165]),\n",
       " 179.70158313251247,\n",
       " 0.2984168674875423)"
      ]
     },
     "execution_count": 22,
     "metadata": {},
     "output_type": "execute_result"
    }
   ],
   "source": [
    "lon, lat, max(ang_dists), min(ang_dists)"
   ]
  },
  {
   "cell_type": "code",
   "execution_count": 23,
   "metadata": {},
   "outputs": [
    {
     "name": "stdout",
     "output_type": "stream",
     "text": [
      "0.2098234113027917\n"
     ]
    }
   ],
   "source": [
    "print(healpy.nside2pixarea(128, degrees=True))"
   ]
  },
  {
   "cell_type": "code",
   "execution_count": 24,
   "metadata": {},
   "outputs": [],
   "source": [
    "psis = np.linspace(40, 180, num=50)\n",
    "pc_psi = np.array([np.trapz(pshfunc2d(abs(psi), fluxes).flatten() * poisson.pmf(counts[:, np.newaxis], exposure * fluxes), fluxes, axis=-1) for psi in psis])\n",
    "pc_of_psi = intp.interp1d(psis, pc_psi, axis=0)"
   ]
  },
  {
   "cell_type": "code",
   "execution_count": null,
   "metadata": {},
   "outputs": [],
   "source": []
  },
  {
   "cell_type": "code",
   "execution_count": 25,
   "metadata": {
    "scrolled": true
   },
   "outputs": [
    {
     "name": "stdout",
     "output_type": "stream",
     "text": [
      "70144\n",
      "0 / 70144\n",
      "10000 / 70144\n",
      "20000 / 70144\n",
      "30000 / 70144\n",
      "40000 / 70144\n",
      "50000 / 70144\n",
      "60000 / 70144\n",
      "70000 / 70144\n"
     ]
    }
   ],
   "source": [
    "good_indices = (abs(lat) >= 40)\n",
    "subsample = ang_dists[good_indices]\n",
    "print(len(subsample))\n",
    "sub_counts = np.zeros(len(subsample))\n",
    "for i, psi in enumerate(subsample):\n",
    "    if i % 10000 == 0:\n",
    "        print(i, '/', len(subsample))\n",
    "#     print(psi)\n",
    "    pcvals = pc_of_psi(abs(psi))\n",
    "    sub_counts[i] = np.random.choice(np.arange(len(pcvals)), size=1, p=pcvals/np.sum(pcvals))\n",
    "    \n",
    "pixel_counts[good_indices] = sub_counts\n",
    "pixel_counts_pc = pixel_counts[:]"
   ]
  },
  {
   "cell_type": "code",
   "execution_count": null,
   "metadata": {},
   "outputs": [],
   "source": []
  },
  {
   "cell_type": "code",
   "execution_count": 26,
   "metadata": {},
   "outputs": [
    {
     "data": {
      "text/plain": [
       "3165"
      ]
     },
     "execution_count": 26,
     "metadata": {},
     "output_type": "execute_result"
    }
   ],
   "source": [
    "np.sum(pixel_counts > 0)"
   ]
  },
  {
   "cell_type": "code",
   "execution_count": 27,
   "metadata": {},
   "outputs": [
    {
     "name": "stdout",
     "output_type": "stream",
     "text": [
      "0.8392936452111668\n"
     ]
    },
    {
     "data": {
      "text/plain": [
       "(0.05584226733576642, 3917.0)"
      ]
     },
     "execution_count": 27,
     "metadata": {},
     "output_type": "execute_result"
    },
    {
     "data": {
      "image/png": "[encoded data removed]",
      "text/plain": [
       "<Figure size 612x388.8 with 2 Axes>"
      ]
     },
     "metadata": {
      "needs_background": "light"
     },
     "output_type": "display_data"
    }
   ],
   "source": [
    "nreduce = 64\n",
    "healpy.mollview(healpy.pixelfunc.ud_grade(healpy.pixelfunc.ma(pixel_counts_pc), nreduce, pess=True, power=-2), cmap=cm.jet, title=\"Mollview P(C)\")\n",
    "print(healpy.nside2pixarea(nreduce, degrees=True))\n",
    "np.mean(pixel_counts_pc[good_indices]), np.sum(pixel_counts_pc[good_indices])"
   ]
  },
  {
   "cell_type": "code",
   "execution_count": 28,
   "metadata": {},
   "outputs": [
    {
     "name": "stdout",
     "output_type": "stream",
     "text": [
      "0 / 70144\n"
     ]
    }
   ],
   "source": [
    "lsub = len(subsample)\n",
    "pixel_counts_poisson = np.ones(npix) * healpy.pixelfunc.UNSEEN\n",
    "sub_counts = np.zeros(lsub)\n",
    "for i, psi in enumerate(subsample):\n",
    "    if i % 100000 == 0:\n",
    "        print(i, '/', lsub)\n",
    "#     print(psi)\n",
    "    sub_counts[i] = stats.poisson.rvs(exposure*np.trapz(fluxes * pshfunc2d(psi, fluxes).flatten(), fluxes))\n",
    "    if sub_counts[i] > 5: \n",
    "        print(sub_counts[i])\n",
    "    \n",
    "pixel_counts_poisson[good_indices] = sub_counts\n"
   ]
  },
  {
   "cell_type": "code",
   "execution_count": 29,
   "metadata": {},
   "outputs": [
    {
     "data": {
      "text/plain": [
       "(0.05638401003649635, 3955.0)"
      ]
     },
     "execution_count": 29,
     "metadata": {},
     "output_type": "execute_result"
    },
    {
     "data": {
      "image/png": "[encoded data removed]",
      "text/plain": [
       "<Figure size 612x388.8 with 2 Axes>"
      ]
     },
     "metadata": {
      "needs_background": "light"
     },
     "output_type": "display_data"
    }
   ],
   "source": [
    "healpy.mollview(healpy.pixelfunc.ud_grade(healpy.pixelfunc.ma(pixel_counts_poisson), nreduce, pess=True, power=-2), cmap=cm.jet, title=\"Poisson\", max=14)\n",
    "np.mean(pixel_counts_poisson[good_indices]), np.sum(pixel_counts_poisson[good_indices])"
   ]
  },
  {
   "cell_type": "code",
   "execution_count": 64,
   "metadata": {},
   "outputs": [
    {
     "name": "stdout",
     "output_type": "stream",
     "text": [
      "saved in ./output/n0_skymap_32862.npy\n",
      "(70144,)\n"
     ]
    }
   ],
   "source": [
    "with np.load('./output/n0_pshfunc.npz') as f:\n",
    "    psi = f['psi']\n",
    "    fluxes = f['flux']\n",
    "    psh2d = f['psh']\n",
    "\n",
    "# restrict to valid range of flux calculation\n",
    "valid_lim = -55\n",
    "fluxes = fluxes[:valid_lim]\n",
    "psh2d = psh2d[:valid_lim]\n",
    "\n",
    "# generate data with different fwimp\n",
    "f = 1000\n",
    "\n",
    "# get psh data as function of psi and flux\n",
    "counts = np.arange(0, 20)\n",
    "psh2d[psh2d < 0] = 0\n",
    "pshfunc2d = intp.interp2d(psi, f * fluxes, np.nan_to_num(psh2d), bounds_error=False, fill_value=0)\n",
    "\n",
    "# make the simulated skymap\n",
    "psis = np.linspace(40, 180, num=50)\n",
    "pc_psi = np.array([1/f * np.trapz(pshfunc2d(abs(psi), fluxes).flatten() * stats.poisson.pmf(counts[:, np.newaxis], p['exposure'] * fluxes), fluxes, axis=-1) for psi in psis])\n",
    "pc_of_psi = intp.interp1d(psis, pc_psi, axis=0)\n",
    "\n",
    "subcounts, ang_dists = pd.generate_skymap_sample_pc(p, pc_of_psi, return_subcounts=True, save_output=True)\n",
    "\n",
    "# get psh for the angles we are considering \n",
    "psh = pshfunc2d(np.abs(ang_dists), fluxes)\n",
    "psh /= np.trapz(psh, fluxes, axis=0)\n",
    "print(ang_dists.shape)"
   ]
  },
  {
   "cell_type": "code",
   "execution_count": 66,
   "metadata": {
    "scrolled": true
   },
   "outputs": [
    {
     "name": "stdout",
     "output_type": "stream",
     "text": [
      "[ 999.          999.0512321   999.10246683  999.15370418  999.20494416\n",
      "  999.25618677  999.30743201  999.35867988  999.40993037  999.4611835\n",
      "  999.51243925  999.56369763  999.61495863  999.66622227  999.71748854\n",
      "  999.76875743  999.82002896  999.87130311  999.92257989  999.97385931\n",
      " 1000.02514135 1000.07642602 1000.12771333 1000.17900326 1000.23029582\n",
      " 1000.28159102 1000.33288884 1000.38418929 1000.43549238 1000.4867981\n",
      " 1000.53810645 1000.58941742 1000.64073103 1000.69204728 1000.74336615\n",
      " 1000.79468766 1000.84601179 1000.89733856 1000.94866797 1001.        ]\n",
      "0 / 40\n"
     ]
    },
    {
     "name": "stderr",
     "output_type": "stream",
     "text": [
      "/Users/runburg/github/dm_gal_substructure/source/prob_dists.py:367: RuntimeWarning: divide by zero encountered in log\n",
      "  S[i] = -2 * np.sum(np.log(pixel_probs))\n"
     ]
    },
    {
     "name": "stdout",
     "output_type": "stream",
     "text": [
      "1 / 40\n",
      "2 / 40\n",
      "3 / 40\n",
      "4 / 40\n",
      "5 / 40\n",
      "6 / 40\n",
      "7 / 40\n",
      "8 / 40\n",
      "9 / 40\n",
      "10 / 40\n",
      "11 / 40\n",
      "12 / 40\n",
      "13 / 40\n",
      "14 / 40\n",
      "15 / 40\n",
      "16 / 40\n",
      "17 / 40\n",
      "18 / 40\n",
      "19 / 40\n",
      "20 / 40\n",
      "21 / 40\n",
      "22 / 40\n",
      "23 / 40\n",
      "24 / 40\n",
      "25 / 40\n",
      "26 / 40\n",
      "27 / 40\n",
      "28 / 40\n",
      "29 / 40\n",
      "30 / 40\n",
      "31 / 40\n",
      "32 / 40\n",
      "33 / 40\n",
      "34 / 40\n",
      "35 / 40\n",
      "36 / 40\n",
      "37 / 40\n",
      "38 / 40\n",
      "39 / 40\n",
      "time per eval 7.0870691478252414\n"
     ]
    }
   ],
   "source": [
    "importlib.reload(pd)\n",
    "import time\n",
    "start_time = time.time()\n",
    "num_search = 40\n",
    "fwimp_search = (np.log10(999), np.log10(1001), num_search)\n",
    "S, fwimps = pd.likelihood(p, psh, subcounts.astype(np.int16), fluxes, counts, fwimp_limits=fwimp_search)\n",
    "\n",
    "print('time per eval', (time.time() - start_time)/num_search)"
   ]
  },
  {
   "cell_type": "code",
   "execution_count": 67,
   "metadata": {
    "scrolled": true
   },
   "outputs": [
    {
     "name": "stderr",
     "output_type": "stream",
     "text": [
      "<ipython-input-67-365b7dbc2124>:2: RuntimeWarning: invalid value encountered in subtract\n",
      "  axs.plot(fwimps, np.exp(-0.5*(S - S.min())), color='xkcd:tangerine', label='P(C)')\n"
     ]
    },
    {
     "name": "stdout",
     "output_type": "stream",
     "text": [
      "999.0000000000001 inf\n"
     ]
    },
    {
     "data": {
      "image/png": "[encoded data removed]",
      "text/plain": [
       "<Figure size 432x288 with 1 Axes>"
      ]
     },
     "metadata": {
      "needs_background": "light"
     },
     "output_type": "display_data"
    }
   ],
   "source": [
    "fig, axs = plt.subplots()\n",
    "axs.plot(fwimps, np.exp(-0.5*(S - S.min())), color='xkcd:tangerine', label='P(C)')\n",
    "axs.set_xlabel(r'f$_{SUSY}$', fontsize=20)\n",
    "axs.set_xscale('log')\n",
    "axs.set_ylabel(r'$\\mathcal{L}$', fontsize=20)\n",
    "print(fwimps[S.argmin()], S.min())"
   ]
  },
  {
   "cell_type": "code",
   "execution_count": 69,
   "metadata": {},
   "outputs": [
    {
     "name": "stdout",
     "output_type": "stream",
     "text": [
      "[ 999.          999.0512321   999.10246683  999.15370418  999.20494416\n",
      "  999.25618677  999.30743201  999.35867988  999.40993037  999.4611835\n",
      "  999.51243925  999.56369763  999.61495863  999.66622227  999.71748854\n",
      "  999.76875743  999.82002896  999.87130311  999.92257989  999.97385931\n",
      " 1000.02514135 1000.07642602 1000.12771333 1000.17900326 1000.23029582\n",
      " 1000.28159102 1000.33288884 1000.38418929 1000.43549238 1000.4867981\n",
      " 1000.53810645 1000.58941742 1000.64073103 1000.69204728 1000.74336615\n",
      " 1000.79468766 1000.84601179 1000.89733856 1000.94866797 1001.        ]\n",
      "0 / 40\n"
     ]
    },
    {
     "name": "stderr",
     "output_type": "stream",
     "text": [
      "/Users/runburg/github/dm_gal_substructure/source/prob_dists.py:389: RuntimeWarning: divide by zero encountered in log\n",
      "  S[i] = -2 * np.sum(np.log(pixel_probs))\n"
     ]
    },
    {
     "name": "stdout",
     "output_type": "stream",
     "text": [
      "1 / 40\n",
      "2 / 40\n",
      "3 / 40\n",
      "4 / 40\n",
      "5 / 40\n",
      "6 / 40\n",
      "7 / 40\n",
      "8 / 40\n",
      "9 / 40\n",
      "10 / 40\n",
      "11 / 40\n",
      "12 / 40\n",
      "13 / 40\n",
      "14 / 40\n",
      "15 / 40\n",
      "16 / 40\n",
      "17 / 40\n",
      "18 / 40\n",
      "19 / 40\n",
      "20 / 40\n",
      "21 / 40\n",
      "22 / 40\n",
      "23 / 40\n",
      "24 / 40\n",
      "25 / 40\n",
      "26 / 40\n",
      "27 / 40\n",
      "28 / 40\n",
      "29 / 40\n",
      "30 / 40\n",
      "31 / 40\n",
      "32 / 40\n",
      "33 / 40\n",
      "34 / 40\n",
      "35 / 40\n",
      "36 / 40\n",
      "37 / 40\n",
      "38 / 40\n",
      "39 / 40\n"
     ]
    }
   ],
   "source": [
    "importlib.reload(pd)\n",
    "Spoi, fwimpspoi = pd.poisson_likelihood(p, psh, subcounts.astype(np.int16), fluxes, counts, fwimp_limits=fwimp_search)"
   ]
  },
  {
   "cell_type": "code",
   "execution_count": 59,
   "metadata": {},
   "outputs": [
    {
     "name": "stdout",
     "output_type": "stream",
     "text": [
      "P(C) min of -2 ln L: 30286.117255678328\n",
      "Poisson min of -2 ln L: 33211.17065640717\n"
     ]
    },
    {
     "data": {
      "image/png": "[encoded data removed]",
      "text/plain": [
       "<Figure size 432x288 with 1 Axes>"
      ]
     },
     "execution_count": 59,
     "metadata": {},
     "output_type": "execute_result"
    }
   ],
   "source": [
    "axs.plot(fwimpspoi, np.exp(-0.5*(Spoi-Spoi.min())), color='xkcd:wine', label='Poisson')\n",
    "axs.legend()\n",
    "axs.set_yscale('linear')\n",
    "print('P(C) min of -2 ln L:', S.min())\n",
    "print('Poisson min of -2 ln L:', Spoi.min())\n",
    "fig"
   ]
  },
  {
   "cell_type": "code",
   "execution_count": 62,
   "metadata": {},
   "outputs": [
    {
     "name": "stdout",
     "output_type": "stream",
     "text": [
      "1.0182944735915616 33211.17065640717\n",
      "651.4417228548778\n"
     ]
    }
   ],
   "source": [
    "print(fwimps[Spoi.argmin()], Spoi.min())\n",
    "print(np.log10(np.e)*1500)"
   ]
  },
  {
   "cell_type": "code",
   "execution_count": 75,
   "metadata": {},
   "outputs": [],
   "source": [
    "from astropy.io import fits\n",
    "bg = fits.open('output/background.fits')"
   ]
  },
  {
   "cell_type": "code",
   "execution_count": 79,
   "metadata": {},
   "outputs": [
    {
     "data": {
      "text/plain": [
       "SIMPLE  =                    T / conforms to FITS standard                      \n",
       "BITPIX  =                  -32 / array data type                                \n",
       "NAXIS   =                    3 / number of array dimensions                     \n",
       "NAXIS1  =                 2880                                                  \n",
       "NAXIS2  =                 1441                                                  \n",
       "NAXIS3  =                   28                                                  \n",
       "EXTEND  =                    T                                                  \n",
       "CRVAL1  =                    0                                                  \n",
       "CDELT1  =               -0.125                                                  \n",
       "CRPIX1  =               1440.5                                                  \n",
       "CTYPE1  = 'GLON-CAR'                                                            \n",
       "CUNIT1  = 'deg     '                                                            \n",
       "CRVAL2  =                    0                                                  \n",
       "CDELT2  =                0.125                                                  \n",
       "CRPIX2  =                721.0                                                  \n",
       "CTYPE2  = 'GLAT-CAR'                                                            \n",
       "CUNIT2  = 'deg     '                                                            \n",
       "CRVAL3  =    49.99999999999999                                                  \n",
       "CDELT3  =                    1                                                  \n",
       "COMMENT IEM used for 4FGL Catalog analysis:  gll_iem_v07.fits                   \n",
       "COMMENT Rev 3 (2880x1441, 32-bit floating point)                                \n",
       "COMMENT Released:  25 February 2019                                             \n",
       "COMMENT Please see documentation at:                                            \n",
       "COMMENT https://fermi.gsfc.nasa.gov/ssc/data/access/lat/BackgroundModels.html   "
      ]
     },
     "execution_count": 79,
     "metadata": {},
     "output_type": "execute_result"
    }
   ],
   "source": [
    "bg[0].header"
   ]
  },
  {
   "cell_type": "code",
   "execution_count": null,
   "metadata": {},
   "outputs": [],
   "source": [
    "a = np.reshape(np.arange(9), (3, 3))\n",
    "print(a)\n",
    "a[np.array([[1, 0], [1, 2] , [2, 1]])]"
   ]
  },
  {
   "cell_type": "code",
   "execution_count": 21,
   "metadata": {},
   "outputs": [],
   "source": [
    "import scipy.stats as st\n",
    "\n",
    "class my_pdf(st.rv_continuous):\n",
    "    def _pdf(self, x):\n",
    "        return custom_pdf(x)\n",
    "    \n",
    "    def _cdf(self, x):\n",
    "        return custom_cdf(x)\n",
    "    \n",
    "    def _ppf(self, x):\n",
    "        return custom_ppf(x)"
   ]
  },
  {
   "cell_type": "code",
   "execution_count": 22,
   "metadata": {},
   "outputs": [],
   "source": [
    "psi = 50\n",
    "custom_pdf = lambda x: pshfunc2d(psi, x).flatten()\n",
    "\n",
    "norm = np.trapz(pshfunc2d(psi, fluxes).flatten(), fluxes)\n",
    "discrete_cdf = integrate.cumtrapz(pshfunc2d(psi, fluxes).flatten(), fluxes, initial=0)\n",
    "custom_cdf = intp.interp1d(fluxes, discrete_cdf, fill_value=0, bounds_error=False)\n",
    "\n",
    "custom_ppf = intp.interp1d(discrete_cdf, fluxes, fill_value=0, bounds_error=False)\n",
    "\n",
    "func50 = my_pdf(a=fluxes.min(), b=fluxes.max(), name='my_pdf')"
   ]
  },
  {
   "cell_type": "code",
   "execution_count": 23,
   "metadata": {},
   "outputs": [],
   "source": [
    "# pcvals = np.trapz(pshfunc2d(psi, fluxes).flatten() * poisson.pmf(counts[:, np.newaxis], exposure * fluxes), fluxes, axis=-1)\n",
    "\n",
    "def pc(psi, counts_max=15):\n",
    "    counts = np.arange(0, counts_max + 1)\n",
    "    \n",
    "    pcvals = np.trapz(pshfunc2d(psi, fluxes).flatten() * poisson.pmf(counts[:, np.newaxis], exposure * fluxes), fluxes, axis=-1)\n",
    "    custom_pdf = intp.interp1d(counts, pcvals, fill_value=0, bounds_error=False)\n",
    "    \n",
    "    discrete_cdf = integrate.cumtrapz(pcvals, counts, initial=0)\n",
    "    custom_cdf = intp.interp1d(counts, discrete_cdf, fill_value=0, bounds_error=False)\n",
    "\n",
    "    custom_ppf = intp.interp1d(discrete_cdf, counts, fill_value=0, bounds_error=False)\n",
    "    \n",
    "    return my_pdf(a=fluxes.min(), b=fluxes.max(), name='my_pdf')"
   ]
  },
  {
   "cell_type": "code",
   "execution_count": 24,
   "metadata": {},
   "outputs": [
    {
     "data": {
      "text/plain": [
       "array([0.00000000e+00, 9.18021899e-06, 0.00000000e+00, 0.00000000e+00,\n",
       "       0.00000000e+00, 2.02167822e-05, 0.00000000e+00, 1.03236482e-05,\n",
       "       0.00000000e+00, 1.62894922e-05])"
      ]
     },
     "execution_count": 24,
     "metadata": {},
     "output_type": "execute_result"
    }
   ],
   "source": [
    "pc(50).rvs(size=10)"
   ]
  },
  {
   "cell_type": "code",
   "execution_count": 25,
   "metadata": {},
   "outputs": [
    {
     "name": "stdout",
     "output_type": "stream",
     "text": [
      "1.0000000000000002\n"
     ]
    },
    {
     "data": {
      "text/plain": [
       "Text(0, 0.5, 'P(C) for 40 deg, n=0')"
      ]
     },
     "execution_count": 25,
     "metadata": {},
     "output_type": "execute_result"
    },
    {
     "data": {
      "image/png": "[encoded data removed]",
      "text/plain": [
       "<Figure size 432x288 with 1 Axes>"
      ]
     },
     "metadata": {
      "needs_background": "light"
     },
     "output_type": "display_data"
    }
   ],
   "source": [
    "psi = 40\n",
    "pcvals = np.trapz(pshfunc2d(psi, fluxes).flatten() * poisson.pmf(counts[:, np.newaxis], exposure * fluxes), fluxes, axis=-1)\n",
    "pp = poisson.pmf(counts, exposure*fluxes[np.argmax(pshfunc2d(psi, fluxes))])\n",
    "\n",
    "print(np.sum(pcvals/np.sum(pcvals)))\n",
    "plt.plot(counts, pcvals)\n",
    "plt.plot(counts, pp)\n",
    "plt.hist(np.random.choice(np.arange(len(pcvals)), size=100000, p=pcvals/np.sum(pcvals)))\n",
    "\n",
    "ax = plt.gca()\n",
    "ax.set_yscale('log')\n",
    "# ax.set_ylim(top=1, bottom=1e-20)\n",
    "ax.set_xlabel('Counts')\n",
    "# ax.set_xscale('log')\n",
    "ax.set_ylabel('P(C) for 40 deg, n=0')"
   ]
  },
  {
   "cell_type": "code",
   "execution_count": 26,
   "metadata": {},
   "outputs": [
    {
     "data": {
      "image/png": "[encoded data removed]",
      "text/plain": [
       "<Figure size 432x288 with 1 Axes>"
      ]
     },
     "metadata": {
      "needs_background": "light"
     },
     "output_type": "display_data"
    }
   ],
   "source": [
    "fig, ax = plt.subplots()\n",
    "bins = np.logspace(np.log10(fluxes.min()), np.log10(fluxes.max()), num=50)\n",
    "ax.hist(func50.rvs(size=100000), bins=bins)\n",
    "ax.plot(fxs, fxs * pshfunc2d(psi, fxs).flatten(), label=rf\"{psi}$^\\circ$\")\n",
    "ax.set_xscale('log')\n",
    "ax.set_yscale('log')"
   ]
  },
  {
   "cell_type": "code",
   "execution_count": null,
   "metadata": {},
   "outputs": [],
   "source": []
  },
  {
   "cell_type": "code",
   "execution_count": 27,
   "metadata": {},
   "outputs": [
    {
     "ename": "SyntaxError",
     "evalue": "unexpected EOF while parsing (<ipython-input-27-3e4a41aa4645>, line 5)",
     "output_type": "error",
     "traceback": [
      "\u001b[0;36m  File \u001b[0;32m\"<ipython-input-27-3e4a41aa4645>\"\u001b[0;36m, line \u001b[0;32m5\u001b[0m\n\u001b[0;31m    \u001b[0m\n\u001b[0m    ^\u001b[0m\n\u001b[0;31mSyntaxError\u001b[0m\u001b[0;31m:\u001b[0m unexpected EOF while parsing\n"
     ]
    }
   ],
   "source": [
    "for i, latt in enumerate(lat):\n",
    "    if latt < 40:\n",
    "        pixel_counts[i] = 0\n",
    "    else:\n",
    "        "
   ]
  }
 ],
 "metadata": {
  "kernelspec": {
   "display_name": "Python 3",
   "language": "python",
   "name": "python3"
  },
  "language_info": {
   "codemirror_mode": {
    "name": "ipython",
    "version": 3
   },
   "file_extension": ".py",
   "mimetype": "text/x-python",
   "name": "python",
   "nbconvert_exporter": "python",
   "pygments_lexer": "ipython3",
   "version": "3.8.2"
  }
 },
 "nbformat": 4,
 "nbformat_minor": 4
}
