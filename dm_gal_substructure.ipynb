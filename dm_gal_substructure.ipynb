{
 "cells": [
  {
   "cell_type": "code",
   "execution_count": 10,
   "metadata": {},
   "outputs": [
    {
     "data": {
      "text/html": [
       "<style>.container { width:100% !important; }</style>"
      ],
      "text/plain": [
       "<IPython.core.display.HTML object>"
      ]
     },
     "metadata": {},
     "output_type": "display_data"
    }
   ],
   "source": [
    "import matplotlib.pyplot as plt\n",
    "import numpy as np\n",
    "from scipy import integrate, stats\n",
    "from mpmath import quad, npdf\n",
    "import mpmath as mp\n",
    "import matplotlib.cm as cm\n",
    "from numpy import fft\n",
    "from scipy.interpolate import interp1d\n",
    "mp.dps = 10\n",
    "\n",
    "from IPython.core.display import display, HTML\n",
    "display(HTML(\"<style>.container { width:100% !important; }</style>\"))"
   ]
  },
  {
   "cell_type": "code",
   "execution_count": 11,
   "metadata": {},
   "outputs": [],
   "source": [
    "def gaussian_mean(M, r, a=77.4, b=0.87, c=-0.23, fsusy=1):\n",
    "    \"\"\"Return mean of conditional luminosity distribution.\n",
    "    \n",
    "    Inputs:\n",
    "        - M: mass of subhalo [solar masses]\n",
    "        - r: distance from galactic center [kpc]\n",
    "        - a: coefficient for first term [default=77.4]\n",
    "        - b: coefficient for second term [default=0.97]\n",
    "        - c: coefficient for third term [default=-0.23]\n",
    "        - fsusy: value of fsusy [default=1e-28 [cm**3 s**-1 GeV**-2]]\n",
    "        \n",
    "    Returns:\n",
    "        - mean of the gaussian distribution\n",
    "    \"\"\"\n",
    "    return a + b * np.log(M / 1e5) + c * np.log(r / 50) #+ np.log(fsusy)\n",
    "\n",
    "\n",
    "def gaussian_sd(M, r, a=0.74, b=-0.003, c=0.011):\n",
    "    \"\"\"Return the sd of the conditional luminosity function.\n",
    "    \n",
    "    Inputs:\n",
    "        - M: mass of subhalo [solar masses]\n",
    "        - r: distance from galactic center [kpc]\n",
    "        - a: coefficient for first term [default=0.74]\n",
    "        - b: coefficient for second term [default=-0.003]\n",
    "        - c: coefficient for third term [default=-0.011]\n",
    "    \n",
    "    Returns:\n",
    "        - sd of gaussian\n",
    "    \"\"\"\n",
    "    return a + b * np.log(M / 1e5) + c * np.log(r / 50)\n",
    "\n",
    "\n",
    "def conditional_luminosity_function(lnL, M, r, mean_params={}, sd_params={}):\n",
    "    \"\"\"Gives the value of the conditional luminosity function.\n",
    "    \n",
    "    Inputs:\n",
    "        - lnL: natural log of lumionsity of the subhalo\n",
    "        - M: mass of the subhalo [solar masses]\n",
    "        - r: galactocentric radius of the subhalo [kpc]\n",
    "        - mean_params: coefficients for parameter dependence for the distribution mean\n",
    "        - sd_params: coefficients for parameter dependence for the sd of the distribution\n",
    "        \n",
    "    Returns:\n",
    "        - value of the clf\n",
    "    \"\"\"\n",
    "    if len(mean_params) > 0:\n",
    "        mean = gaussian_mean(M, r, **mean_params)\n",
    "    else:\n",
    "        mean = gaussian_mean(M, r)\n",
    "\n",
    "    if len(sd_params) > 0:\n",
    "        sigma = gaussian_sd(M, r, **sd_params)\n",
    "    else:\n",
    "        sigma = gaussian_sd(M, r)\n",
    "    \n",
    "    return stats.norm.pdf(lnL, mean, sigma)\n",
    "\n",
    "\n",
    "def mass_distribution(M, r, A=1.2e4, beta=1.9, rs=21):\n",
    "    \"\"\"Return the mass distribution value.\n",
    "    \n",
    "    Inputs:\n",
    "        - M: mass of the subhalo [solar masses]\n",
    "        - r: galactocentric radius of the subhalo [kpc]\n",
    "        - A: amplitude [default=1.2e4 [solar mass**-1 kpc**-3]]\n",
    "        - beta: strength of dependence on mass [default value=1.9]\n",
    "        - rs: scale radius of Milky Way [default value=21 [kpc]]\n",
    "        \n",
    "    Returns:\n",
    "        - value of mass distribution\n",
    "    \"\"\"\n",
    "    r_tilde = r / rs\n",
    "    \n",
    "    return A * M**(-beta) / (r_tilde * (1 + r_tilde)**2)\n",
    "\n",
    "\n",
    "def p1(F, psi, num=100, R_G=220, M_min=0.01, M_max=1e10, d_solar=8.5, mean_params={}, sd_params={}):\n",
    "    \"\"\"Return the unnormalized value of the probability distribution of one subhalo.\n",
    "    \n",
    "    Inputs:\n",
    "        - F: flux of subhalo [photons/beam/year]\n",
    "        - psi: angle from galactic center [degrees]\n",
    "        - R_G: extent of dm halo [default value=220 [kpc]]\n",
    "        - M_min: lower limit on mass integral [default=0.01 [solar masses]]\n",
    "        - M_max: upper limit on mass integral [default=1e10 [solar masses]]\n",
    "        - d_solar: galactocentric distance of sun [default=8.5 [kpc]]\n",
    "        - mean_params: coefficients for parameter dependence for the distribution mean\n",
    "        - sd_params: coefficients for parameter dependence for the sd of the distribution\n",
    "        \n",
    "    Returns:\n",
    "        - value of probability of one subhalo for a given flux and angle\n",
    "    \"\"\"\n",
    "    # Get upper bound for l integral\n",
    "    psi_rad = np.deg2rad(psi)\n",
    "    l_max = d_solar * (np.cos(psi_rad) + np.sqrt(-(np.sin(psi_rad)**2) + (R_G/d_solar)**2))\n",
    "    \n",
    "    # Convert years to seconds\n",
    "    seconds_in_a_year = 3.154e7\n",
    "    \n",
    "    # Convert cm to kpc\n",
    "    cm_in_a_kpc = 3.086e21\n",
    "    \n",
    "    def integrand_2d(M, l):\n",
    "        # Luminosity\n",
    "        Lsh = 4 * np.pi * l**2 * F / seconds_in_a_year / 2000 * cm_in_a_kpc**2\n",
    "        \n",
    "        # radius from GC\n",
    "        r = np.sqrt(l**2 + d_solar**2 - 2*l*d_solar*np.cos(psi_rad))\n",
    "        \n",
    "        return l**4 * mass_distribution(M, r) / Lsh * conditional_luminosity_function(np.log(Lsh), M, r, mean_params=mean_params, sd_params=sd_params)\n",
    "    \n",
    "    lvals = np.linspace(1e-10, l_max, num=num)\n",
    "    mvals = np.logspace(np.log10(M_min), np.log10(M_max), num=num)\n",
    "    int_exp2d = integrate.simps(integrate.simps(integrand_2d(mvals[:,np.newaxis,np.newaxis],lvals[:,np.newaxis]), mvals, axis=0), lvals, axis=0)\n",
    "    \n",
    "    return int_exp2d\n",
    "\n",
    "\n",
    "def mu(psi, R_G=220, M_min=0.01, M_max=1e10, d_solar=8.5, omega_pixel=0, num=100):\n",
    "    \"\"\"Compute mean value of subhalos in a pixel.\"\"\"\n",
    "    # Solid angle of pixel in sr\n",
    "    if omega_pixel == 0:\n",
    "        omega_pixel = 1 * (np.pi / 180)**2\n",
    "    \n",
    "    # Get upper bound for l integral\n",
    "    psi_rad = np.deg2rad(psi)\n",
    "    l_max = d_solar * (np.cos(psi_rad) + np.sqrt(-(np.sin(psi_rad)**2) + (R_G/d_solar)**2))\n",
    "    \n",
    "    def integrand_2d(M, l):\n",
    "        # radius from GC\n",
    "        r = np.sqrt(l**2 + d_solar**2 - 2*l*d_solar*np.cos(psi_rad))\n",
    "        \n",
    "        return l**2 * mass_distribution(M, r)\n",
    "\n",
    "    lvals = np.linspace(1e-10, l_max, num=num)\n",
    "    mvals = np.logspace(np.log10(M_min), np.log10(M_max), num=num)\n",
    "    # perform the 2d integration by first integrating of mass than luminosity\n",
    "    int_exp2d = integrate.simps(integrate.simps(integrand_2d(mvals[:, np.newaxis, np.newaxis],lvals[:, np.newaxis]), mvals, axis=0), lvals, axis=0)\n",
    "    \n",
    "    return omega_pixel * int_exp2d\n",
    "    \n",
    "    \n",
    "# def integral_2d(func, y, x, num=100):\n",
    "#     \"\"\"Return discrete 2d integral of the function over the arrays x & y.\"\"\"\n",
    "    \n",
    "\n",
    "def psh(psi, F_min=1e-20, F_max=1, num_points=2**7):\n",
    "    \"\"\"Return the function P_sh(F) for a given psi.\n",
    "    \n",
    "    Inputs:\n",
    "        - psi: angle from galactic center [degrees]\n",
    "        - F_min: minimum flux for FFT\n",
    "        - F_max: maximum flux for FFT\n",
    "        - num_bins: number of points to perform FFT (power of 2 for speed)\n",
    "        \n",
    "    Returns:\n",
    "        - function of probability distribution psh at psi\n",
    "    \"\"\"\n",
    "    F = np.logspace(np.log10(F_min), np.log10(F_max), num=num_points)\n",
    "    p1_vals = (p1_unnorm := p1(F, psi))/integrate.simps(p1_unnorm, F)\n",
    "    \n",
    "    func = fft.ifft(np.exp(mu(psi) * (fft.fft(p1_vals) - 1)))\n",
    "    \n",
    "    psh_func = interp1d(F, func)\n",
    "    return psh_func\n",
    "    "
   ]
  },
  {
   "cell_type": "code",
   "execution_count": 12,
   "metadata": {},
   "outputs": [
    {
     "data": {
      "text/plain": [
       "array([4.91096399e-26])"
      ]
     },
     "execution_count": 12,
     "metadata": {},
     "output_type": "execute_result"
    }
   ],
   "source": [
    "flux = 1e-6\n",
    "flux * p1(flux, 40, M_max=1e10)\n"
   ]
  },
  {
   "cell_type": "code",
   "execution_count": 13,
   "metadata": {},
   "outputs": [
    {
     "name": "stdout",
     "output_type": "stream",
     "text": [
      "slope near end for n=-1: -3.0190814488418236\n",
      "slope near end for n=0: -0.044459869679010285\n",
      "slope near end for n=2: -0.0018229828105700125\n",
      "slope near end for n=4: -0.00048569968995192716\n"
     ]
    },
    {
     "data": {
      "image/png": "[encoded data removed]",
      "text/plain": [
       "<Figure size 864x576 with 1 Axes>"
      ]
     },
     "metadata": {
      "needs_background": "light"
     },
     "output_type": "display_data"
    }
   ],
   "source": [
    "plt.close()\n",
    "\n",
    "fig, ax = plt.subplots(figsize=(12, 8))\n",
    "n_list = [-1, 0, 2, 4]\n",
    "n_labels = {-1:\"Som. enh.\", 0: r\"$s$-wave\", 2:r\"$p$-wave\", 4:r\"$d$-wave\"}\n",
    "colors = iter(cm.plasma(np.linspace(0.1, 1, num=len(n_list))))\n",
    "\n",
    "for n in n_list:\n",
    "    mean_params = {'a':77.4, 'b':0.87+0.31*n, 'c':-0.23-0.04*n}\n",
    "    logmin = -22\n",
    "    logmax = -1\n",
    "    fluxes = np.logspace(logmin, logmax, num=(logmax-logmin)*20)\n",
    "    probs = p1(fluxes, 40, mean_params=mean_params, num=200)\n",
    "    # probs = [p1(flux, 40) for flux in fluxes]\n",
    "    normalization = np.trapz(probs, fluxes)\n",
    "    func = fluxes*probs/normalization\n",
    "#     print(normalization)\n",
    "\n",
    "    ax.plot(fluxes, func, label=n_labels[n], color=next(colors))\n",
    "    print(f'slope near end for n={n}: {(func[-60]-func[-40])/(fluxes[-60]-fluxes[-40])}')\n",
    "\n",
    "ax.set_xscale('log')\n",
    "ax.set_xlabel('Flux [photons/beam/yr]')\n",
    "ax.set_ylabel('Flux x Probability')\n",
    "ax.set_yscale('log')\n",
    "ax.set_ylim(bottom=1e-4, top=3)\n",
    "ax.set_xlim(left=1e-22, right=1e-2)\n",
    "\n",
    "ax.set_title(r\"Probability distribution for $M_{min}=0.01 M_\\odot$, $\\Psi=40^\\circ$\")\n",
    "\n",
    "# fluxes = np.logspace(-15, -3, num=25)\n",
    "# # probs = p1(fluxes, 40, M_min=1e-6)\n",
    "# probs = [p1(flux, 40, M_min=1e-6) for flux in fluxes]\n",
    "# normalization = np.trapz(probs, fluxes)\n",
    "# ax.plot(fluxes, fluxes*probs/normalization, label=r\"$M_{min}=10^{-6} M_\\odot$\", color=\"xkcd:robin's egg blue\")\n",
    "\n",
    "ax.legend(loc='upper left')\n",
    "ax.grid()\n",
    "ax.set_xticks([1e-22 * 10**i for i in range(21)]);"
   ]
  },
  {
   "cell_type": "code",
   "execution_count": 14,
   "metadata": {},
   "outputs": [],
   "source": [
    "fig.savefig('eq4_w_vel_dep.png')"
   ]
  },
  {
   "cell_type": "code",
   "execution_count": 15,
   "metadata": {},
   "outputs": [
    {
     "name": "stderr",
     "output_type": "stream",
     "text": [
      "<ipython-input-15-02d0117cf17c>:14: RuntimeWarning: divide by zero encountered in log10\n",
      "  func = np.log10(probs/normalization)\n",
      "<ipython-input-15-02d0117cf17c>:18: RuntimeWarning: invalid value encountered in subtract\n",
      "  ax.plot(fluxes[:-1], (func[:-1]-func[1:])/(np.log10(fluxes[:-1])-np.log10(fluxes[1:])), label=n_labels[n], color=col)\n"
     ]
    },
    {
     "data": {
      "image/png": "[encoded data removed]",
      "text/plain": [
       "<Figure size 864x576 with 1 Axes>"
      ]
     },
     "metadata": {
      "needs_background": "light"
     },
     "output_type": "display_data"
    }
   ],
   "source": [
    "fig, ax = plt.subplots(figsize=(12, 8))\n",
    "n_list = [-1, 0, 2, 4]\n",
    "n_labels = {-1:\"Som. enh.\", 0: r\"$s$-wave\", 2:r\"$p$-wave\", 4:r\"$d$-wave\"}\n",
    "colors = iter(cm.plasma(np.linspace(0.1, 1, num=len(n_list))))\n",
    "\n",
    "for n in n_list:\n",
    "    mean_params = {'a':77.4, 'b':0.87+0.31*n, 'c':-0.23-0.04*n}\n",
    "    logmin = -22\n",
    "    logmax = -1\n",
    "    fluxes = np.logspace(logmin, logmax, num=(logmax-logmin)*20)\n",
    "    probs = p1(fluxes, 40, mean_params=mean_params, num=200)\n",
    "    # probs = [p1(flux, 40) for flux in fluxes]\n",
    "    normalization = np.trapz(probs, fluxes)\n",
    "    func = np.log10(probs/normalization)\n",
    "#     print(normalization)\n",
    "    col = next(colors)\n",
    "\n",
    "    ax.plot(fluxes[:-1], (func[:-1]-func[1:])/(np.log10(fluxes[:-1])-np.log10(fluxes[1:])), label=n_labels[n], color=col)\n",
    "    ax.axhline(-1.03/(1+.36*n)-1, color=col)\n",
    "#     print(f'slope near end for n={n}: {(func[-60]-func[-40])/(fluxes[-60]-fluxes[-40])}')\n",
    "# \n",
    "ax.set_xscale('log')\n",
    "ax.set_xlabel('Flux [photons/beam/yr]')\n",
    "ax.set_ylabel('Slope of Probability')\n",
    "# ax.set_yscale('log')\n",
    "ax.set_ylim(bottom=-3, top=1)\n",
    "# ax.set_xlim(left=1e-22, right=1e-2)\n",
    "\n",
    "ax.set_title(r\"Slope of probability distribution for $M_{min}=0.01 M_\\odot$, $\\Psi=40^\\circ$\")\n",
    "\n",
    "# fluxes = np.logspace(-15, -3, num=25)\n",
    "# # probs = p1(fluxes, 40, M_min=1e-6)\n",
    "# probs = [p1(flux, 40, M_min=1e-6) for flux in fluxes]\n",
    "# normalization = np.trapz(probs, fluxes)\n",
    "# ax.plot(fluxes, fluxes*probs/normalization, label=r\"$M_{min}=10^{-6} M_\\odot$\", color=\"xkcd:robin's egg blue\")\n",
    "\n",
    "ax.legend(loc='upper left')\n",
    "ax.set_yticks(np.linspace(-3, 1, num=21))\n",
    "ax.grid(which='both')"
   ]
  },
  {
   "cell_type": "code",
   "execution_count": 16,
   "metadata": {},
   "outputs": [
    {
     "ename": "ModuleNotFoundError",
     "evalue": "No module named 'astropy'",
     "output_type": "error",
     "traceback": [
      "\u001b[0;31m---------------------------------------------------------------------------\u001b[0m",
      "\u001b[0;31mModuleNotFoundError\u001b[0m                       Traceback (most recent call last)",
      "\u001b[0;32m<ipython-input-16-160de98eda40>\u001b[0m in \u001b[0;36m<module>\u001b[0;34m\u001b[0m\n\u001b[0;32m----> 1\u001b[0;31m \u001b[0;32mimport\u001b[0m \u001b[0mastropy\u001b[0m\u001b[0;34m.\u001b[0m\u001b[0mtable\u001b[0m \u001b[0;32mas\u001b[0m \u001b[0mtable\u001b[0m\u001b[0;34m\u001b[0m\u001b[0;34m\u001b[0m\u001b[0m\n\u001b[0m\u001b[1;32m      2\u001b[0m \u001b[0;32mfrom\u001b[0m \u001b[0mastropy\u001b[0m\u001b[0;34m.\u001b[0m\u001b[0mio\u001b[0m \u001b[0;32mimport\u001b[0m \u001b[0mfits\u001b[0m\u001b[0;34m\u001b[0m\u001b[0;34m\u001b[0m\u001b[0m\n\u001b[1;32m      3\u001b[0m \u001b[0mfermi_bkgs\u001b[0m \u001b[0;34m=\u001b[0m \u001b[0mtable\u001b[0m\u001b[0;34m.\u001b[0m\u001b[0mTable\u001b[0m\u001b[0;34m.\u001b[0m\u001b[0mread\u001b[0m\u001b[0;34m(\u001b[0m\u001b[0;34m'/Users/runburg/Downloads/gll_iem_v07.fits'\u001b[0m\u001b[0;34m)\u001b[0m\u001b[0;34m\u001b[0m\u001b[0;34m\u001b[0m\u001b[0m\n\u001b[1;32m      4\u001b[0m \u001b[0mcatalog\u001b[0m \u001b[0;34m=\u001b[0m \u001b[0mfits\u001b[0m\u001b[0;34m.\u001b[0m\u001b[0mopen\u001b[0m\u001b[0;34m(\u001b[0m\u001b[0;34m\"/Users/runburg/Downloads/gll_iem_v07.fits\"\u001b[0m\u001b[0;34m,\u001b[0m \u001b[0mmemmap\u001b[0m\u001b[0;34m=\u001b[0m\u001b[0;32mTrue\u001b[0m\u001b[0;34m)\u001b[0m\u001b[0;34m\u001b[0m\u001b[0;34m\u001b[0m\u001b[0m\n",
      "\u001b[0;31mModuleNotFoundError\u001b[0m: No module named 'astropy'"
     ]
    }
   ],
   "source": [
    "import astropy.table as table\n",
    "from astropy.io import fits\n",
    "fermi_bkgs = table.Table.read('/Users/runburg/Downloads/gll_iem_v07.fits')\n",
    "catalog = fits.open(\"/Users/runburg/Downloads/gll_iem_v07.fits\", memmap=True)"
   ]
  },
  {
   "cell_type": "code",
   "execution_count": 17,
   "metadata": {},
   "outputs": [
    {
     "ename": "NameError",
     "evalue": "name 'catalog' is not defined",
     "output_type": "error",
     "traceback": [
      "\u001b[0;31m---------------------------------------------------------------------------\u001b[0m",
      "\u001b[0;31mNameError\u001b[0m                                 Traceback (most recent call last)",
      "\u001b[0;32m<ipython-input-17-362f07ceea17>\u001b[0m in \u001b[0;36m<module>\u001b[0;34m\u001b[0m\n\u001b[0;32m----> 1\u001b[0;31m \u001b[0mcatalog\u001b[0m\u001b[0;34m.\u001b[0m\u001b[0minfo\u001b[0m\u001b[0;34m\u001b[0m\u001b[0;34m\u001b[0m\u001b[0m\n\u001b[0m",
      "\u001b[0;31mNameError\u001b[0m: name 'catalog' is not defined"
     ]
    }
   ],
   "source": [
    "catalog.info"
   ]
  },
  {
   "cell_type": "code",
   "execution_count": 18,
   "metadata": {},
   "outputs": [
    {
     "data": {
      "text/plain": [
       "[array([5282096.94906369]),\n",
       " array([4857926.514758]),\n",
       " array([4487034.48826372]),\n",
       " array([4158807.80234018]),\n",
       " array([3868063.09160805]),\n",
       " array([3611546.08313174]),\n",
       " array([3386769.29945527])]"
      ]
     },
     "execution_count": 18,
     "metadata": {},
     "output_type": "execute_result"
    }
   ],
   "source": [
    "[mu(psi) for psi in np.linspace(30, 90, num=7)]"
   ]
  },
  {
   "cell_type": "code",
   "execution_count": 19,
   "metadata": {},
   "outputs": [
    {
     "ename": "NameError",
     "evalue": "name 'catalog' is not defined",
     "output_type": "error",
     "traceback": [
      "\u001b[0;31m---------------------------------------------------------------------------\u001b[0m",
      "\u001b[0;31mNameError\u001b[0m                                 Traceback (most recent call last)",
      "\u001b[0;32m<ipython-input-19-68ae840c71da>\u001b[0m in \u001b[0;36m<module>\u001b[0;34m\u001b[0m\n\u001b[0;32m----> 1\u001b[0;31m \u001b[0mcatalog\u001b[0m\u001b[0;34m[\u001b[0m\u001b[0;36m0\u001b[0m\u001b[0;34m]\u001b[0m\u001b[0;34m.\u001b[0m\u001b[0mheader\u001b[0m\u001b[0;34m\u001b[0m\u001b[0;34m\u001b[0m\u001b[0m\n\u001b[0m",
      "\u001b[0;31mNameError\u001b[0m: name 'catalog' is not defined"
     ]
    }
   ],
   "source": [
    "catalog[0].header"
   ]
  },
  {
   "cell_type": "code",
   "execution_count": 20,
   "metadata": {},
   "outputs": [
    {
     "ename": "NameError",
     "evalue": "name 'table' is not defined",
     "output_type": "error",
     "traceback": [
      "\u001b[0;31m---------------------------------------------------------------------------\u001b[0m",
      "\u001b[0;31mNameError\u001b[0m                                 Traceback (most recent call last)",
      "\u001b[0;32m<ipython-input-20-78b69f2b3f63>\u001b[0m in \u001b[0;36m<module>\u001b[0;34m\u001b[0m\n\u001b[0;32m----> 1\u001b[0;31m \u001b[0mtable\u001b[0m\u001b[0;34m.\u001b[0m\u001b[0mTable\u001b[0m\u001b[0;34m.\u001b[0m\u001b[0mread\u001b[0m\u001b[0;34m(\u001b[0m\u001b[0mcatalog\u001b[0m\u001b[0;34m[\u001b[0m\u001b[0;36m1\u001b[0m\u001b[0;34m]\u001b[0m\u001b[0;34m)\u001b[0m\u001b[0;34m\u001b[0m\u001b[0;34m\u001b[0m\u001b[0m\n\u001b[0m",
      "\u001b[0;31mNameError\u001b[0m: name 'table' is not defined"
     ]
    }
   ],
   "source": [
    "table.Table.read(catalog[1])"
   ]
  },
  {
   "cell_type": "code",
   "execution_count": 21,
   "metadata": {},
   "outputs": [
    {
     "name": "stderr",
     "output_type": "stream",
     "text": [
      "<ipython-input-11-1f341301c333>:163: RuntimeWarning: overflow encountered in exp\n",
      "  func = fft.ifft(np.exp(mu(psi) * (fft.fft(p1_vals) - 1)))\n"
     ]
    },
    {
     "data": {
      "text/plain": [
       "(array([3.51652745e-24]), (nan+nanj))"
      ]
     },
     "execution_count": 21,
     "metadata": {},
     "output_type": "execute_result"
    }
   ],
   "source": [
    "psi = 40\n",
    "num = 5000\n",
    "F = np.logspace(-15, 0, num=num)\n",
    "mu(psi) * integrate.simps(F*p1(F, psi), F), integrate.simps(F*psh(psi)(F), F)"
   ]
  },
  {
   "cell_type": "code",
   "execution_count": 22,
   "metadata": {},
   "outputs": [
    {
     "data": {
      "text/plain": [
       "Text(0, 0.5, '$\\\\mu$($\\\\Psi$)')"
      ]
     },
     "execution_count": 22,
     "metadata": {},
     "output_type": "execute_result"
    },
    {
     "data": {
      "image/png": "[encoded data removed]",
      "text/plain": [
       "<Figure size 432x288 with 1 Axes>"
      ]
     },
     "metadata": {
      "needs_background": "light"
     },
     "output_type": "display_data"
    }
   ],
   "source": [
    "fig, ax = plt.subplots()\n",
    "psis = np.linspace(0, 90, num=20)\n",
    "ax.plot(psis, [mu(pssi) for pssi in psis])\n",
    "ax.set_xlabel(r'$\\Psi$ [$^\\circ$]')\n",
    "ax.set_ylabel(r'$\\mu$($\\Psi$)')"
   ]
  },
  {
   "cell_type": "code",
   "execution_count": 23,
   "metadata": {},
   "outputs": [
    {
     "data": {
      "text/plain": [
       "2.6881171418161356e+43"
      ]
     },
     "execution_count": 23,
     "metadata": {},
     "output_type": "execute_result"
    }
   ],
   "source": [
    "np.exp(1e2)"
   ]
  },
  {
   "cell_type": "code",
   "execution_count": 24,
   "metadata": {},
   "outputs": [
    {
     "data": {
      "text/plain": [
       "(4857926.514757997, 4158807.802340182, 3611546.08313174)"
      ]
     },
     "execution_count": 24,
     "metadata": {},
     "output_type": "execute_result"
    }
   ],
   "source": [
    "mu(40)[0], mu(60)[0], mu(80)[0]"
   ]
  },
  {
   "cell_type": "code",
   "execution_count": 25,
   "metadata": {},
   "outputs": [
    {
     "data": {
      "text/plain": [
       "array([3981.66684838])"
      ]
     },
     "execution_count": 25,
     "metadata": {},
     "output_type": "execute_result"
    }
   ],
   "source": [
    "R_G = 220 #Kpc\n",
    "d_sun = 8.5 #kpc\n",
    "psi = 40\n",
    "M_min = 1.0e-2 #Msun\n",
    "M_max = 1.0e10 #Msun\n",
    "fwimp = 1.0\n",
    "nside_map = 2048\n",
    "Omega_pixel = 4.*np.pi/(12*nside_map**2.) #sr\n",
    "area_fermi = 2000.0 #cm^2\n",
    "mu(40, R_G=R_G, M_min=M_min, M_max=M_max, d_solar=d_sun, omega_pixel=Omega_pixel)"
   ]
  },
  {
   "cell_type": "code",
   "execution_count": 395,
   "metadata": {},
   "outputs": [],
   "source": [
    "N = 30000\n",
    "psi = 40\n",
    "fluxes = np.logspace(-50, 10, num=N)\n",
    "\n",
    "p1_vals = p1(fluxes, psi, num=100)\n",
    "p1_vals /= integrate.simps(p1_vals, fluxes)\n",
    "\n",
    "# k = np.flip(1/fluxes)\n",
    "# k = 1/fluxes"
   ]
  },
  {
   "cell_type": "code",
   "execution_count": 396,
   "metadata": {},
   "outputs": [
    {
     "data": {
      "text/plain": [
       "0.5368546776955918"
      ]
     },
     "execution_count": 396,
     "metadata": {},
     "output_type": "execute_result"
    }
   ],
   "source": [
    "(mu(psi) * integrate.simps(fluxes * p1_vals, fluxes))[0]"
   ]
  },
  {
   "cell_type": "code",
   "execution_count": 397,
   "metadata": {},
   "outputs": [
    {
     "name": "stderr",
     "output_type": "stream",
     "text": [
      "/usr/local/lib/python3.8/site-packages/numpy/core/_asarray.py:85: ComplexWarning: Casting complex values to real discards the imaginary part\n",
      "  return array(a, dtype, copy=False, order=order)\n"
     ]
    },
    {
     "data": {
      "image/png": "[encoded data removed]",
      "text/plain": [
       "<Figure size 432x288 with 1 Axes>"
      ]
     },
     "metadata": {
      "needs_background": "light"
     },
     "output_type": "display_data"
    }
   ],
   "source": [
    "# k = np.concatenate((-1/fluxes, np.flip(1/fluxes)))\n",
    "k = np.flip(1/fluxes)\n",
    "func = p1_vals * np.exp(-2j * np.pi * fluxes * k[:, np.newaxis])\n",
    "# func = p1_vals * np.cos(-2 * np.pi * fluxes * k[:, np.newaxis])\n",
    "ft_p1 = integrate.simps(func, fluxes, axis=1)\n",
    "fig, ax = plt.subplots()\n",
    "ax.plot(k, ft_p1)\n",
    "ax.plot(k, ft_p1.imag)\n",
    "ax.set_xscale('symlog')"
   ]
  },
  {
   "cell_type": "code",
   "execution_count": 398,
   "metadata": {},
   "outputs": [
    {
     "name": "stdout",
     "output_type": "stream",
     "text": [
      "[4857926.514758] +/- [2204.07044233]\n"
     ]
    }
   ],
   "source": [
    "mean = mu(psi)\n",
    "sd = np.sqrt(mu(psi))\n",
    "print(mean, '+/-', sd)\n",
    "# gauss = stats.norm.pdf(, mean, sd)\n",
    "eval_pts = np.linspace(mean - 5 * sd, mean + 5 * sd, num=50)\n",
    "# # # print(np.exp(2j * np.pi * fluxes[:, np.newaxis] * k).shape, (ft_p1**eval_pts).shape)\n",
    "# # print((np.exp(2j * np.pi * fluxes[:, np.newaxis, np.newaxis] * k)* ft_p1**eval_pts).shape)\n",
    "# fluxes *= 1e4\n",
    "ks = np.concatenate((-np.flip(k), k))\n",
    "ft_p1s = np.concatenate((np.conj(np.flip(ft_p1)), ft_p1))\n",
    "fluxess = np.logspace(-1, 3, num=300)\n",
    "func = ft_p1s**eval_pts * np.exp(2j * np.pi * fluxess[:, np.newaxis, np.newaxis] * ks)\n",
    "\n",
    "ift_func = integrate.simps(func, ks, axis=2)\n",
    "# print(ift_func)\n",
    "# print((ift_func*eval_pts.T).shape)\n",
    "pf = integrate.simps(ift_func * stats.norm.pdf(eval_pts, mean, sd).T, eval_pts.T, axis=1)\n",
    "# pf"
   ]
  },
  {
   "cell_type": "code",
   "execution_count": 402,
   "metadata": {},
   "outputs": [
    {
     "name": "stderr",
     "output_type": "stream",
     "text": [
      "/usr/local/lib/python3.8/site-packages/numpy/core/_asarray.py:85: ComplexWarning: Casting complex values to real discards the imaginary part\n",
      "  return array(a, dtype, copy=False, order=order)\n"
     ]
    },
    {
     "data": {
      "image/png": "[encoded data removed]",
      "text/plain": [
       "<Figure size 432x288 with 1 Axes>"
      ]
     },
     "metadata": {
      "needs_background": "light"
     },
     "output_type": "display_data"
    }
   ],
   "source": [
    "fig, ax = plt.subplots()\n",
    "start = (N*710)//1000\n",
    "start = 32\n",
    "end = -130\n",
    "\n",
    "# end = (N*800)//1000\n",
    "ax.plot(fluxess[start:end], pf[start:end])\n",
    "ax.plot(fluxess[start:end], pf[start:end].imag)\n",
    "limi = -175\n",
    "ax.axvline(fluxess[limi], c='b')\n",
    "# print(pf.imag)\n",
    "# print(pf[:100])\n",
    "ax.set_xscale('log')\n",
    "# fluxes\n",
    "ax.set_xscale('log')\n",
    "ax.set_xlabel('Flux')\n",
    "ax.set_ylabel('P(F)')\n",
    "ax.set_yscale('log')\n",
    "# ax.set_xlim(right=2)\n",
    "# print(fluxes[800:900])"
   ]
  },
  {
   "cell_type": "code",
   "execution_count": 403,
   "metadata": {},
   "outputs": [
    {
     "name": "stdout",
     "output_type": "stream",
     "text": [
      "\\mu \\int F P1: 0.5368546776955918\n",
      " \\int F Psh: 0.4417581019120139\n"
     ]
    }
   ],
   "source": [
    "print(f'\\mu \\int F P1: {(mu(psi) * integrate.simps(fluxes * p1_vals, fluxes))[0]}')\n",
    "print(f' \\int F Psh: {integrate.simps(pf[start:limi].real * fluxess[start:limi], fluxess[start:limi])}')"
   ]
  },
  {
   "cell_type": "code",
   "execution_count": 392,
   "metadata": {
    "scrolled": true
   },
   "outputs": [
    {
     "name": "stdout",
     "output_type": "stream",
     "text": [
      "0.22395792354833532\n"
     ]
    },
    {
     "data": {
      "text/plain": [
       "0.5222704904370657"
      ]
     },
     "execution_count": 392,
     "metadata": {},
     "output_type": "execute_result"
    }
   ],
   "source": []
  },
  {
   "cell_type": "code",
   "execution_count": 325,
   "metadata": {},
   "outputs": [
    {
     "ename": "SyntaxError",
     "evalue": "invalid syntax (<ipython-input-325-574b6f73b8bd>, line 2)",
     "output_type": "error",
     "traceback": [
      "\u001b[0;36m  File \u001b[0;32m\"<ipython-input-325-574b6f73b8bd>\"\u001b[0;36m, line \u001b[0;32m2\u001b[0m\n\u001b[0;31m    Out[157]:\u001b[0m\n\u001b[0m             ^\u001b[0m\n\u001b[0;31mSyntaxError\u001b[0m\u001b[0;31m:\u001b[0m invalid syntax\n"
     ]
    }
   ],
   "source": [
    "# N=30000, bounds = (-50, 10)\n",
    "0.4292\n",
    "0.5223\n",
    "\n",
    "\n",
    "# N=30000, bounds=(-40, 10)\n",
    "0.43555429045193855\n",
    "Out[344]:\n",
    "0.5222704904370656\n",
    "\n",
    "0.41764269656926734\n",
    "Out[157]:\n",
    "0.5495383367409762\n",
    "\n",
    "0.4056755684464056\n",
    "Out[100]:\n",
    "0.5462375569916547"
   ]
  },
  {
   "cell_type": "code",
   "execution_count": null,
   "metadata": {
    "scrolled": true
   },
   "outputs": [],
   "source": [
    "fig, axs = plt.subplots()\n",
    "i = 0\n",
    "axs.plot(fluxes[i:], fluxes[i:] * p1_vals[i:] * mu(psi))\n",
    "axs.set_xscale('log')\n",
    "axs.set_yscale('log')"
   ]
  },
  {
   "cell_type": "code",
   "execution_count": null,
   "metadata": {},
   "outputs": [],
   "source": [
    "fig, ax = plt.subplots()\n",
    "ax.plot(fluxes, p1_vals)\n",
    "ax.set_xscale('log')\n",
    "# fluxes\n",
    "ax.set_xscale('log')\n",
    "ax.set_xlabel('Flux')\n",
    "ax.set_ylabel('P(F)')\n",
    "ax.set_yscale('log')"
   ]
  },
  {
   "cell_type": "code",
   "execution_count": null,
   "metadata": {},
   "outputs": [],
   "source": [
    "funcinv = ft_p1 * np.exp(2j * np.pi * fluxes[:, np.newaxis] * k)\n",
    "ft_p1inv = integrate.simps(funcinv, k, axis=1)\n",
    "len(ft_p1), len(fluxes)\n",
    "ft_p1inv"
   ]
  },
  {
   "cell_type": "code",
   "execution_count": null,
   "metadata": {},
   "outputs": [],
   "source": [
    "fig, ax = plt.subplots()\n",
    "ax.plot(fluxes, ft_p1inv)\n",
    "ax.plot(fluxes, p1_vals)\n",
    "ax.set_xscale('log')\n",
    "ax.set_yscale('log')\n",
    "ax.set_xlim(left=1e-16, right=1)"
   ]
  },
  {
   "cell_type": "code",
   "execution_count": null,
   "metadata": {},
   "outputs": [],
   "source": []
  },
  {
   "cell_type": "code",
   "execution_count": null,
   "metadata": {},
   "outputs": [],
   "source": []
  },
  {
   "cell_type": "code",
   "execution_count": null,
   "metadata": {},
   "outputs": [],
   "source": [
    "psi = 40\n",
    "poisson = lambda F: stats.poisson.pmf(F, mu(psi))\n",
    "epsilon = 1e-10\n",
    "pf = poisson(0) + poisson(1) * p1_vals"
   ]
  },
  {
   "cell_type": "code",
   "execution_count": null,
   "metadata": {},
   "outputs": [],
   "source": [
    "print('max k', mu(psi))\n",
    "maxk = int(mu(psi) * 10)\n",
    "for i in range(2, maxk):\n",
    "    func = ft_p1**i * np.exp(2j * np.pi * fluxes[:, np.newaxis] * k)\n",
    "    ift_func = integrate.simps(func, k, axis=1)\n",
    "#     print(ift_func.real)\n",
    "    if i % 10000 == 0:\n",
    "        print('completed', i, 'of', maxk)\n",
    "    pf += poisson(i)*ift_func.real"
   ]
  },
  {
   "cell_type": "code",
   "execution_count": null,
   "metadata": {},
   "outputs": [],
   "source": []
  },
  {
   "cell_type": "markdown",
   "metadata": {},
   "source": [
    "mu*\\int dF F*P_1(F) vs. \\int dF F*P_sh(F)"
   ]
  },
  {
   "cell_type": "code",
   "execution_count": null,
   "metadata": {},
   "outputs": [],
   "source": [
    "# fft.fft(p1_lin)\n",
    "\n",
    "# fft.ifft(np.exp((fft.fft(p1_lin, norm='ortho') - 1)))[::num//10]\n",
    "\n",
    "# norm_psh = integrate.simps(p_sh, fluxes)\n",
    "\n",
    "# fig, ax = plt.subplots()\n",
    "# ax.plot(fluxes, p_sh * fluxes / norm_psh, color='xkcd:bubblegum pink')\n",
    "# ax.set_xscale('log')\n",
    "# ax.set_xlabel('Flux')\n",
    "# ax.set_ylabel('Flux x P_sh')\n",
    "\n",
    "# import nfft\n",
    "\n",
    "# psi = 40\n",
    "# N = 10000\n",
    "# fluxes = np.logspace(-20, 0, num=N//100)\n",
    "# p1_vals = p1(fluxes, psi)\n",
    "# # print(p1_vals[:])\n",
    "# normalization = integrate.simps(p1_vals, fluxes) \n",
    "# p1_vals /= normalization\n",
    "\n",
    "# f_k_direct = nfft.ndft_adjoint(fluxes, p1_vals, N)\n",
    "# # # print(f_k_direct)\n",
    "# # f_k_direct/1e8\n",
    "# f_k_direct\n",
    "\n",
    "# # nfft.ndft(fluxes, nfft.ndft_adjoint(fluxes, p1_vals, N))[::100], p1_vals[::100]\n",
    "\n",
    "# import pyfftlog\n",
    "\n",
    "# # angle in the sky\n",
    "# psi = 40\n",
    "\n",
    "# # number of points (max 4096)\n",
    "# N = 2**10\n",
    "\n",
    "# # bounds of interval log\n",
    "# logfmin = -20\n",
    "# logfmax = 1\n",
    "\n",
    "# # k_c f_c (c is center point of array)\n",
    "# kf = 1\n",
    "\n",
    "# # order of bessel function\n",
    "# mvu = 1/2\n",
    "\n",
    "# # bias exponent\n",
    "# q = 0\n",
    "\n",
    "# # forward direction\n",
    "# tdir = 1\n",
    "\n",
    "# # Try to deal with any non-smoothness\n",
    "# kropt = 1\n"
   ]
  }
 ],
 "metadata": {
  "kernelspec": {
   "display_name": "Python 3",
   "language": "python",
   "name": "python3"
  },
  "language_info": {
   "codemirror_mode": {
    "name": "ipython",
    "version": 3
   },
   "file_extension": ".py",
   "mimetype": "text/x-python",
   "name": "python",
   "nbconvert_exporter": "python",
   "pygments_lexer": "ipython3",
   "version": "3.8.1"
  }
 },
 "nbformat": 4,
 "nbformat_minor": 2
}
